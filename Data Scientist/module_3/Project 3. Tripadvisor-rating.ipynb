{
 "cells": [
  {
   "cell_type": "markdown",
   "metadata": {},
   "source": [
    "# Project 3. Tripadvisor-rating"
   ]
  },
  {
   "cell_type": "markdown",
   "metadata": {},
   "source": [
    "### Goal: predict TripAdvisor Rating\n",
    "###### Выполнил: Stor Dmitriy"
   ]
  },
  {
   "cell_type": "code",
   "execution_count": 1,
   "metadata": {
    "_cell_guid": "b1076dfc-b9ad-4769-8c92-a6c4dae69d19",
    "_uuid": "8f2839f25d086af736a60e9eeb907d3b93b6e0e5",
    "scrolled": false
   },
   "outputs": [],
   "source": [
    "from sklearn import metrics  # инструменты для оценки точности модели\n",
    "# инструмент для создания и обучения модели\n",
    "from sklearn.ensemble import RandomForestRegressor\n",
    "from sklearn.model_selection import train_test_split\n",
    "import numpy as np\n",
    "import pandas as pd\n",
    "import re\n",
    "\n",
    "import matplotlib.pyplot as plt\n",
    "import seaborn as sns\n",
    "%matplotlib inline\n",
    "\n",
    "# Загружаем специальный инструмент для разбивки:\n",
    "\n",
    "# Импортируем необходимые библиотеки:"
   ]
  },
  {
   "cell_type": "markdown",
   "metadata": {},
   "source": [
    "### Preprocessing"
   ]
  },
  {
   "cell_type": "code",
   "execution_count": 2,
   "metadata": {},
   "outputs": [],
   "source": [
    "def split_data(el, sep=','):\n",
    "    \"\"\"split data in column by separator & get Series\"\"\"\n",
    "    return pd.Series(el.str.cat(sep=sep).split(sep))\n",
    "\n",
    "\n",
    "def reviews_date(str, count):\n",
    "    \"\"\" get date from reviews \"\"\"\n",
    "    date = re.findall(r'\\d\\d?/\\d\\d?/\\d+', str)\n",
    "    if len(date) == 0:\n",
    "        return np.nan\n",
    "    if count == 1:\n",
    "        return pd.to_datetime(date[0])\n",
    "    elif len(date) == 2:\n",
    "        return pd.to_datetime(date[1])\n",
    "    else:\n",
    "        return np.nan"
   ]
  },
  {
   "cell_type": "markdown",
   "metadata": {},
   "source": [
    "# DATA"
   ]
  },
  {
   "cell_type": "code",
   "execution_count": 3,
   "metadata": {
    "scrolled": false
   },
   "outputs": [],
   "source": [
    "data = pd.read_csv('main_task.csv')"
   ]
  },
  {
   "cell_type": "code",
   "execution_count": 4,
   "metadata": {},
   "outputs": [
    {
     "name": "stdout",
     "output_type": "stream",
     "text": [
      "<class 'pandas.core.frame.DataFrame'>\n",
      "RangeIndex: 40000 entries, 0 to 39999\n",
      "Data columns (total 10 columns):\n",
      " #   Column             Non-Null Count  Dtype  \n",
      "---  ------             --------------  -----  \n",
      " 0   Restaurant_id      40000 non-null  object \n",
      " 1   City               40000 non-null  object \n",
      " 2   Cuisine Style      30717 non-null  object \n",
      " 3   Ranking            40000 non-null  float64\n",
      " 4   Rating             40000 non-null  float64\n",
      " 5   Price Range        26114 non-null  object \n",
      " 6   Number of Reviews  37457 non-null  float64\n",
      " 7   Reviews            40000 non-null  object \n",
      " 8   URL_TA             40000 non-null  object \n",
      " 9   ID_TA              40000 non-null  object \n",
      "dtypes: float64(3), object(7)\n",
      "memory usage: 3.1+ MB\n"
     ]
    }
   ],
   "source": [
    "data.info()"
   ]
  },
  {
   "cell_type": "markdown",
   "metadata": {},
   "source": [
    "Подробнее по признакам:\n",
    "* City: Город \n",
    "* Cuisine Style: Кухня\n",
    "* Ranking: Ранг ресторана относительно других ресторанов в этом городе\n",
    "* Price Range: Цены в ресторане в 3 категориях\n",
    "* Number of Reviews: Количество отзывов\n",
    "* Reviews: 2 последних отзыва и даты этих отзывов\n",
    "* URL_TA: страница ресторана на 'www.tripadvisor.com' \n",
    "* ID_TA: ID ресторана в TripAdvisor\n",
    "* Rating: Рейтинг ресторана"
   ]
  },
  {
   "cell_type": "code",
   "execution_count": 5,
   "metadata": {
    "scrolled": false
   },
   "outputs": [
    {
     "data": {
      "text/html": [
       "<div>\n",
       "<style scoped>\n",
       "    .dataframe tbody tr th:only-of-type {\n",
       "        vertical-align: middle;\n",
       "    }\n",
       "\n",
       "    .dataframe tbody tr th {\n",
       "        vertical-align: top;\n",
       "    }\n",
       "\n",
       "    .dataframe thead th {\n",
       "        text-align: right;\n",
       "    }\n",
       "</style>\n",
       "<table border=\"1\" class=\"dataframe\">\n",
       "  <thead>\n",
       "    <tr style=\"text-align: right;\">\n",
       "      <th></th>\n",
       "      <th>Restaurant_id</th>\n",
       "      <th>City</th>\n",
       "      <th>Cuisine Style</th>\n",
       "      <th>Ranking</th>\n",
       "      <th>Rating</th>\n",
       "      <th>Price Range</th>\n",
       "      <th>Number of Reviews</th>\n",
       "      <th>Reviews</th>\n",
       "      <th>URL_TA</th>\n",
       "      <th>ID_TA</th>\n",
       "    </tr>\n",
       "  </thead>\n",
       "  <tbody>\n",
       "    <tr>\n",
       "      <th>15153</th>\n",
       "      <td>id_4289</td>\n",
       "      <td>Barcelona</td>\n",
       "      <td>NaN</td>\n",
       "      <td>4290.0</td>\n",
       "      <td>5.0</td>\n",
       "      <td>NaN</td>\n",
       "      <td>NaN</td>\n",
       "      <td>[[], []]</td>\n",
       "      <td>/Restaurant_Review-g187497-d12975535-Reviews-R...</td>\n",
       "      <td>d12975535</td>\n",
       "    </tr>\n",
       "    <tr>\n",
       "      <th>20672</th>\n",
       "      <td>id_480</td>\n",
       "      <td>Paris</td>\n",
       "      <td>['French', 'Bar', 'Pub', 'European', 'Vegetari...</td>\n",
       "      <td>481.0</td>\n",
       "      <td>4.5</td>\n",
       "      <td>$$ - $$$</td>\n",
       "      <td>187.0</td>\n",
       "      <td>[['Nice staff good food reasonable prices', 'O...</td>\n",
       "      <td>/Restaurant_Review-g187147-d12058517-Reviews-L...</td>\n",
       "      <td>d12058517</td>\n",
       "    </tr>\n",
       "    <tr>\n",
       "      <th>17269</th>\n",
       "      <td>id_5826</td>\n",
       "      <td>London</td>\n",
       "      <td>['French', 'Cafe', 'British', 'Delicatessen']</td>\n",
       "      <td>5835.0</td>\n",
       "      <td>4.5</td>\n",
       "      <td>$$ - $$$</td>\n",
       "      <td>30.0</td>\n",
       "      <td>[['The place for cooked breakfast', 'Fabulous ...</td>\n",
       "      <td>/Restaurant_Review-g186338-d5984281-Reviews-Le...</td>\n",
       "      <td>d5984281</td>\n",
       "    </tr>\n",
       "    <tr>\n",
       "      <th>4716</th>\n",
       "      <td>id_6051</td>\n",
       "      <td>Madrid</td>\n",
       "      <td>['Russian']</td>\n",
       "      <td>6054.0</td>\n",
       "      <td>4.0</td>\n",
       "      <td>$$$$</td>\n",
       "      <td>15.0</td>\n",
       "      <td>[[], []]</td>\n",
       "      <td>/Restaurant_Review-g187514-d1992937-Reviews-19...</td>\n",
       "      <td>d1992937</td>\n",
       "    </tr>\n",
       "    <tr>\n",
       "      <th>6381</th>\n",
       "      <td>id_5221</td>\n",
       "      <td>Barcelona</td>\n",
       "      <td>['Japanese', 'Seafood', 'Sushi', 'Asian']</td>\n",
       "      <td>5222.0</td>\n",
       "      <td>3.5</td>\n",
       "      <td>$$ - $$$</td>\n",
       "      <td>78.0</td>\n",
       "      <td>[['Good quality/price rate', 'Never Again.'], ...</td>\n",
       "      <td>/Restaurant_Review-g187497-d2067255-Reviews-Ta...</td>\n",
       "      <td>d2067255</td>\n",
       "    </tr>\n",
       "  </tbody>\n",
       "</table>\n",
       "</div>"
      ],
      "text/plain": [
       "      Restaurant_id       City  \\\n",
       "15153       id_4289  Barcelona   \n",
       "20672        id_480      Paris   \n",
       "17269       id_5826     London   \n",
       "4716        id_6051     Madrid   \n",
       "6381        id_5221  Barcelona   \n",
       "\n",
       "                                           Cuisine Style  Ranking  Rating  \\\n",
       "15153                                                NaN   4290.0     5.0   \n",
       "20672  ['French', 'Bar', 'Pub', 'European', 'Vegetari...    481.0     4.5   \n",
       "17269      ['French', 'Cafe', 'British', 'Delicatessen']   5835.0     4.5   \n",
       "4716                                         ['Russian']   6054.0     4.0   \n",
       "6381           ['Japanese', 'Seafood', 'Sushi', 'Asian']   5222.0     3.5   \n",
       "\n",
       "      Price Range  Number of Reviews  \\\n",
       "15153         NaN                NaN   \n",
       "20672    $$ - $$$              187.0   \n",
       "17269    $$ - $$$               30.0   \n",
       "4716         $$$$               15.0   \n",
       "6381     $$ - $$$               78.0   \n",
       "\n",
       "                                                 Reviews  \\\n",
       "15153                                           [[], []]   \n",
       "20672  [['Nice staff good food reasonable prices', 'O...   \n",
       "17269  [['The place for cooked breakfast', 'Fabulous ...   \n",
       "4716                                            [[], []]   \n",
       "6381   [['Good quality/price rate', 'Never Again.'], ...   \n",
       "\n",
       "                                                  URL_TA      ID_TA  \n",
       "15153  /Restaurant_Review-g187497-d12975535-Reviews-R...  d12975535  \n",
       "20672  /Restaurant_Review-g187147-d12058517-Reviews-L...  d12058517  \n",
       "17269  /Restaurant_Review-g186338-d5984281-Reviews-Le...   d5984281  \n",
       "4716   /Restaurant_Review-g187514-d1992937-Reviews-19...   d1992937  \n",
       "6381   /Restaurant_Review-g187497-d2067255-Reviews-Ta...   d2067255  "
      ]
     },
     "execution_count": 5,
     "metadata": {},
     "output_type": "execute_result"
    }
   ],
   "source": [
    "data.sample(5)"
   ]
  },
  {
   "cell_type": "code",
   "execution_count": 6,
   "metadata": {},
   "outputs": [
    {
     "data": {
      "text/plain": [
       "(40000, 10)"
      ]
     },
     "execution_count": 6,
     "metadata": {},
     "output_type": "execute_result"
    }
   ],
   "source": [
    "data.shape"
   ]
  },
  {
   "cell_type": "markdown",
   "metadata": {},
   "source": [
    "# 1. Cleaning data"
   ]
  },
  {
   "cell_type": "code",
   "execution_count": 7,
   "metadata": {},
   "outputs": [
    {
     "data": {
      "text/plain": [
       "Restaurant_id            0\n",
       "City                     0\n",
       "Cuisine Style         9283\n",
       "Ranking                  0\n",
       "Rating                   0\n",
       "Price Range          13886\n",
       "Number of Reviews     2543\n",
       "Reviews                  0\n",
       "URL_TA                   0\n",
       "ID_TA                    0\n",
       "dtype: int64"
      ]
     },
     "execution_count": 7,
     "metadata": {},
     "output_type": "execute_result"
    }
   ],
   "source": [
    "# check NAN values\n",
    "data.apply(lambda x: x.isnull().sum())"
   ]
  },
  {
   "cell_type": "code",
   "execution_count": 8,
   "metadata": {},
   "outputs": [],
   "source": [
    "# 'Restaurant_id' is very similar to 'Ranking'\n",
    "# remove prefix 'id_' in the columns Restaurant_id\n",
    "data.loc[:, 'Restaurant_id'] = data['Restaurant_id'].str.replace(\n",
    "    'id_', '').astype(float)"
   ]
  },
  {
   "cell_type": "code",
   "execution_count": 9,
   "metadata": {},
   "outputs": [],
   "source": [
    "# Cuisine Style\n",
    "# remove parentheses and apostrophes\n",
    "data.loc[:, 'Cuisine Style'] = data['Cuisine Style'].str[1:-\n",
    "                                                         1].str.replace(', ', ',').str.replace('\\s', '_')\n",
    "\n",
    "# create a column 'Cuisine_Style_isNAN'\n",
    "data['Cuisine_Style_isNAN'] = pd.isna(data['Cuisine Style']).astype('uint8')\n",
    "\n",
    "# fill with mode\n",
    "modes = data.groupby('City')['Cuisine Style'].apply(\n",
    "    lambda x: split_data(x).mode()).reset_index(level=1, drop=True)\n",
    "for c in data['City'].unique():\n",
    "    value = modes[modes.index == c].iloc[0]\n",
    "    data.loc[(data[\"City\"] == c) & (\n",
    "        data['Cuisine Style'].isnull()), 'Cuisine Style'] = value"
   ]
  },
  {
   "cell_type": "code",
   "execution_count": 10,
   "metadata": {},
   "outputs": [],
   "source": [
    "# Price Range\n",
    "# create a column 'Price_Range_isNAN'\n",
    "data['Price_Range_isNAN'] = pd.isna(data['Price Range']).astype('uint8')\n",
    "# get mode\n",
    "mode = data['Price Range'].mode().iloc[0]\n",
    "# fill with mode\n",
    "data['Price Range'].fillna(mode, inplace=True)"
   ]
  },
  {
   "cell_type": "code",
   "execution_count": 11,
   "metadata": {},
   "outputs": [],
   "source": [
    "# Reviews\n",
    "# remove parentheses and others\n",
    "data.loc[:, 'Reviews'] = data.loc[:, 'Reviews'].str.replace(\"[\", '').str.replace(\n",
    "    \"]\", '').str.replace(\"'\", \"\").str.replace(\", \", \" \").str.strip()\n",
    "\n",
    "# replace empty '' values with NAN\n",
    "data.loc[:, 'Reviews'] = data.loc[:, 'Reviews'].apply(\n",
    "    lambda x: np.nan if x == '' else x)\n",
    "\n",
    "# create a column 'Reviews_isNAN'\n",
    "data['Reviews_isNAN'] = pd.isna(data['Reviews']).astype('uint8')\n",
    "\n",
    "# fill NAN values\n",
    "data.Reviews.fillna('no review', inplace=True)"
   ]
  },
  {
   "cell_type": "code",
   "execution_count": 12,
   "metadata": {
    "scrolled": false
   },
   "outputs": [],
   "source": [
    "# Number of Reviews\n",
    "# create a column Number_of_Reviews_isNAN\n",
    "data['Number_of_Reviews_isNAN'] = pd.isna(\n",
    "    data['Number of Reviews']).astype('uint8')\n",
    "\n",
    "# fill NAN with median in 'Number of Reviews' by 'City'\n",
    "Num_Rev_medians = data.groupby(\"City\")['Number of Reviews'].transform('median')\n",
    "data['Number of Reviews'].fillna(Num_Rev_medians, inplace=True)"
   ]
  },
  {
   "cell_type": "code",
   "execution_count": 13,
   "metadata": {},
   "outputs": [
    {
     "data": {
      "text/plain": [
       "False"
      ]
     },
     "execution_count": 13,
     "metadata": {},
     "output_type": "execute_result"
    }
   ],
   "source": [
    "# check NAN values\n",
    "data.isnull().sum().any()"
   ]
  },
  {
   "cell_type": "code",
   "execution_count": 14,
   "metadata": {},
   "outputs": [
    {
     "data": {
      "text/plain": [
       "(40000, 14)"
      ]
     },
     "execution_count": 14,
     "metadata": {},
     "output_type": "execute_result"
    }
   ],
   "source": [
    "data.shape"
   ]
  },
  {
   "cell_type": "markdown",
   "metadata": {},
   "source": [
    "### 2. Обработка признаков"
   ]
  },
  {
   "cell_type": "code",
   "execution_count": 15,
   "metadata": {
    "scrolled": false
   },
   "outputs": [
    {
     "data": {
      "text/plain": [
       "Restaurant_id              11909\n",
       "City                          31\n",
       "Cuisine Style               9007\n",
       "Ranking                    11936\n",
       "Rating                         9\n",
       "Price Range                    3\n",
       "Number of Reviews           1461\n",
       "Reviews                    33516\n",
       "URL_TA                     39980\n",
       "ID_TA                      39980\n",
       "Cuisine_Style_isNAN            2\n",
       "Price_Range_isNAN              2\n",
       "Reviews_isNAN                  2\n",
       "Number_of_Reviews_isNAN        2\n",
       "dtype: int64"
      ]
     },
     "execution_count": 15,
     "metadata": {},
     "output_type": "execute_result"
    }
   ],
   "source": [
    "# посмотрим какие признаки могут быть категориальными.\n",
    "data.nunique(dropna=False)"
   ]
  },
  {
   "cell_type": "code",
   "execution_count": 16,
   "metadata": {},
   "outputs": [],
   "source": [
    "# City\n",
    "# save an original column 'City'\n",
    "data.loc[:, 'City_orig'] = data.City\n",
    "\n",
    "# One-Hot Encoding\n",
    "data = pd.get_dummies(data, columns=['City', ], dummy_na=True)\n",
    "data.rename(columns={\"City_orig\": \"City\"}, inplace=True)"
   ]
  },
  {
   "cell_type": "code",
   "execution_count": 17,
   "metadata": {},
   "outputs": [],
   "source": [
    "# Cuisine Style - step 1\n",
    "# Create a new columns with number of Cuisine Style\n",
    "data.loc[:, 'Number of cuisine'] = data['Cuisine Style'].str.count(',')+1"
   ]
  },
  {
   "cell_type": "code",
   "execution_count": 18,
   "metadata": {},
   "outputs": [],
   "source": [
    "# Cuisine Style - step 2\n",
    "# get list of Cuisine stylies\n",
    "cuisines = set(data['Cuisine Style'].str.cat(sep=\",\").split(\",\"))\n",
    "\n",
    "# create new columns for every Cuisine Style and fill\n",
    "for c in cuisines:\n",
    "    col_name = 'Cuisine_' + c.replace(\"'\", '')\n",
    "    data.loc[data['Cuisine Style'].str.contains(c), col_name] = 1\n",
    "    data.loc[:, col_name].fillna(0, inplace=True)"
   ]
  },
  {
   "cell_type": "markdown",
   "metadata": {},
   "source": [
    "#### Рассмотрим признак \"Price Range\"."
   ]
  },
  {
   "cell_type": "code",
   "execution_count": 19,
   "metadata": {
    "scrolled": false
   },
   "outputs": [
    {
     "data": {
      "text/plain": [
       "$$ - $$$    32298\n",
       "$            6279\n",
       "$$$$         1423\n",
       "Name: Price Range, dtype: int64"
      ]
     },
     "execution_count": 19,
     "metadata": {},
     "output_type": "execute_result"
    }
   ],
   "source": [
    "data['Price Range'].value_counts()"
   ]
  },
  {
   "cell_type": "markdown",
   "metadata": {},
   "source": [
    "По описанию 'Price Range' это - Цены в ресторане.  \n",
    "Их можно поставить по возрастанию (значит это не категориальный признак). А это значит, что их можно заменить последовательными числами, например 1,2,3"
   ]
  },
  {
   "cell_type": "code",
   "execution_count": 20,
   "metadata": {
    "scrolled": false
   },
   "outputs": [],
   "source": [
    "# Price Range\n",
    "price_dict = {\n",
    "    '$': 0,\n",
    "    '$$ - $$$': 1,\n",
    "    '$$$$': 2\n",
    "}\n",
    "data['Price Range'] = data['Price Range'].replace(to_replace=price_dict)"
   ]
  },
  {
   "cell_type": "code",
   "execution_count": 21,
   "metadata": {},
   "outputs": [],
   "source": [
    "# Reviews - step 1\n",
    "\n",
    "# Create a new columns with dates from Reviews\n",
    "data.loc[:, 'Reviews_date1'] = data['Reviews'].apply(\n",
    "    lambda x: reviews_date(x, 1))\n",
    "data.loc[:, 'Reviews_date2'] = data['Reviews'].apply(\n",
    "    lambda x: reviews_date(x, 2))\n",
    "\n",
    "# get mode for dates by City\n",
    "Rev_date1_modes = data.groupby(\"City\")['Reviews_date1'].apply(\n",
    "    lambda x: x.mode()).reset_index(level=1, drop=True)\n",
    "Rev_date2_modes = data.groupby(\"City\")['Reviews_date1'].apply(\n",
    "    lambda x: x.mode()).reset_index(level=1, drop=True)\n",
    "\n",
    "# fill NAN values 'Reviews_date' with mode by 'City'\n",
    "for c in data['City'].unique():\n",
    "    value1 = Rev_date1_modes[Rev_date1_modes.index == c].iloc[0]\n",
    "    value2 = Rev_date2_modes[Rev_date2_modes.index == c].iloc[0]\n",
    "    data.loc[(data['City'] == c) & (data['Reviews_date1'].isnull()),\n",
    "             'Reviews_date1'] = value1\n",
    "    data.loc[(data['City'] == c) & (data['Reviews_date2'].isnull()),\n",
    "             'Reviews_date2'] = value2"
   ]
  },
  {
   "cell_type": "code",
   "execution_count": 22,
   "metadata": {},
   "outputs": [],
   "source": [
    "# Reviews - step 2\n",
    "\n",
    "# create columns with year, month, day\n",
    "data.loc[:, 'Reviews1_year'] = data['Reviews_date1'].dt.year\n",
    "data.loc[:, 'Reviews1_month'] = data['Reviews_date1'].dt.month\n",
    "data.loc[:, 'Reviews1_day'] = data['Reviews_date1'].dt.day\n",
    "data.loc[:, 'Reviews2_year'] = data['Reviews_date2'].dt.year\n",
    "data.loc[:, 'Reviews2_month'] = data['Reviews_date2'].dt.month\n",
    "data.loc[:, 'Reviews2_day'] = data['Reviews_date2'].dt.day"
   ]
  },
  {
   "cell_type": "code",
   "execution_count": 23,
   "metadata": {
    "scrolled": true
   },
   "outputs": [
    {
     "data": {
      "text/plain": [
       "(40000, 180)"
      ]
     },
     "execution_count": 23,
     "metadata": {},
     "output_type": "execute_result"
    }
   ],
   "source": [
    "data.shape"
   ]
  },
  {
   "cell_type": "markdown",
   "metadata": {},
   "source": [
    "# EDA \n",
    "[Exploratory Data Analysis](https://ru.wikipedia.org/wiki/Разведочный_анализ_данных) - Анализ данных\n",
    "На этом этапе мы строим графики, ищем закономерности, аномалии, выбросы или связи между признаками.\n",
    "В общем цель этого этапа понять, что эти данные могут нам дать и как признаки могут быть взаимосвязаны между собой.\n",
    "Понимание изначальных признаков позволит сгенерировать новые, более сильные и, тем самым, сделать модель лучше."
   ]
  },
  {
   "cell_type": "markdown",
   "metadata": {},
   "source": [
    "### Посмотрим распределение признака"
   ]
  },
  {
   "cell_type": "code",
   "execution_count": 24,
   "metadata": {
    "scrolled": false
   },
   "outputs": [
    {
     "data": {
      "text/plain": [
       "<matplotlib.axes._subplots.AxesSubplot at 0x1a19511950>"
      ]
     },
     "execution_count": 24,
     "metadata": {},
     "output_type": "execute_result"
    },
    {
     "data": {
      "image/png": "[encoded data removed]",
      "text/plain": [
       "<Figure size 720x504 with 1 Axes>"
      ]
     },
     "metadata": {
      "needs_background": "light"
     },
     "output_type": "display_data"
    }
   ],
   "source": [
    "plt.rcParams['figure.figsize'] = (10, 7)\n",
    "data['Ranking'].hist(bins=100)"
   ]
  },
  {
   "cell_type": "markdown",
   "metadata": {},
   "source": [
    "У нас много ресторанов, которые не дотягивают и до 2500 места в своем городе, а что там по городам?"
   ]
  },
  {
   "cell_type": "code",
   "execution_count": 25,
   "metadata": {
    "scrolled": false
   },
   "outputs": [
    {
     "data": {
      "text/plain": [
       "<matplotlib.axes._subplots.AxesSubplot at 0x1a19f4b090>"
      ]
     },
     "execution_count": 25,
     "metadata": {},
     "output_type": "execute_result"
    },
    {
     "data": {
      "image/png": "[encoded data removed]",
      "text/plain": [
       "<Figure size 720x504 with 1 Axes>"
      ]
     },
     "metadata": {
      "needs_background": "light"
     },
     "output_type": "display_data"
    }
   ],
   "source": [
    "data['City'].value_counts(ascending=True).plot(kind='barh')"
   ]
  },
  {
   "cell_type": "markdown",
   "metadata": {},
   "source": [
    "А кто-то говорил, что французы любят поесть=) Посмотрим, как изменится распределение в большом городе:"
   ]
  },
  {
   "cell_type": "code",
   "execution_count": 26,
   "metadata": {
    "scrolled": false
   },
   "outputs": [
    {
     "data": {
      "text/plain": [
       "<matplotlib.axes._subplots.AxesSubplot at 0x1a19a2b350>"
      ]
     },
     "execution_count": 26,
     "metadata": {},
     "output_type": "execute_result"
    },
    {
     "data": {
      "image/png": "[encoded data removed]",
      "text/plain": [
       "<Figure size 720x504 with 1 Axes>"
      ]
     },
     "metadata": {
      "needs_background": "light"
     },
     "output_type": "display_data"
    }
   ],
   "source": [
    "data['Ranking'][data['City'] == 'London'].hist(bins=100)"
   ]
  },
  {
   "cell_type": "code",
   "execution_count": 27,
   "metadata": {
    "scrolled": false
   },
   "outputs": [
    {
     "data": {
      "image/png": "[encoded data removed]",
      "text/plain": [
       "<Figure size 720x504 with 1 Axes>"
      ]
     },
     "metadata": {
      "needs_background": "light"
     },
     "output_type": "display_data"
    }
   ],
   "source": [
    "# посмотрим на топ 10 городов\n",
    "for x in (data['City'].value_counts())[0:10].index:\n",
    "    data['Ranking'][data['City'] == x].hist(bins=100)\n",
    "plt.show()"
   ]
  },
  {
   "cell_type": "markdown",
   "metadata": {},
   "source": [
    "Получается, что Ranking имеет нормальное распределение, просто в больших городах больше ресторанов, из-за этого имеем смещение.\n"
   ]
  },
  {
   "cell_type": "markdown",
   "metadata": {},
   "source": [
    "### Посмотрим распределение целевой переменной"
   ]
  },
  {
   "cell_type": "code",
   "execution_count": 28,
   "metadata": {
    "scrolled": false
   },
   "outputs": [
    {
     "data": {
      "text/plain": [
       "<matplotlib.axes._subplots.AxesSubplot at 0x1a1abb6a90>"
      ]
     },
     "execution_count": 28,
     "metadata": {},
     "output_type": "execute_result"
    },
    {
     "data": {
      "image/png": "[encoded data removed]",
      "text/plain": [
       "<Figure size 720x504 with 1 Axes>"
      ]
     },
     "metadata": {
      "needs_background": "light"
     },
     "output_type": "display_data"
    }
   ],
   "source": [
    "data['Rating'].value_counts(ascending=True).plot(kind='barh')"
   ]
  },
  {
   "cell_type": "markdown",
   "metadata": {},
   "source": [
    "### Посмотрим распределение целевой переменной относительно признака"
   ]
  },
  {
   "cell_type": "code",
   "execution_count": 29,
   "metadata": {
    "scrolled": false
   },
   "outputs": [
    {
     "data": {
      "text/plain": [
       "<matplotlib.axes._subplots.AxesSubplot at 0x1a1a8d97d0>"
      ]
     },
     "execution_count": 29,
     "metadata": {},
     "output_type": "execute_result"
    },
    {
     "data": {
      "image/png": "[encoded data removed]",
      "text/plain": [
       "<Figure size 720x504 with 1 Axes>"
      ]
     },
     "metadata": {
      "needs_background": "light"
     },
     "output_type": "display_data"
    }
   ],
   "source": [
    "data['Ranking'][data['Rating'] == 5].hist(bins=100)"
   ]
  },
  {
   "cell_type": "code",
   "execution_count": 30,
   "metadata": {
    "scrolled": false
   },
   "outputs": [
    {
     "data": {
      "text/plain": [
       "<matplotlib.axes._subplots.AxesSubplot at 0x1a197d8090>"
      ]
     },
     "execution_count": 30,
     "metadata": {},
     "output_type": "execute_result"
    },
    {
     "data": {
      "image/png": "[encoded data removed]",
      "text/plain": [
       "<Figure size 720x504 with 1 Axes>"
      ]
     },
     "metadata": {
      "needs_background": "light"
     },
     "output_type": "display_data"
    }
   ],
   "source": [
    "data['Ranking'][data['Rating'] < 4].hist(bins=100)"
   ]
  },
  {
   "cell_type": "markdown",
   "metadata": {},
   "source": [
    "### [корреляция признаков](https://ru.wikipedia.org/wiki/Корреляция)\n",
    "На этом графике можно заметить, как признаки связаны между собой и с целевой переменной."
   ]
  },
  {
   "cell_type": "code",
   "execution_count": 31,
   "metadata": {},
   "outputs": [
    {
     "data": {
      "image/png": "[encoded data removed]",
      "text/plain": [
       "<Figure size 360x216 with 2 Axes>"
      ]
     },
     "metadata": {
      "needs_background": "light"
     },
     "output_type": "display_data"
    }
   ],
   "source": [
    "# heatmap\n",
    "num_cols = ['Restaurant_id', 'Ranking',\n",
    "            'Rating', 'Price Range', 'Number of Reviews']\n",
    "plt.figure(figsize=(5, 3))\n",
    "sns.heatmap(data[num_cols].corr(), annot=True)\n",
    "plt.show()"
   ]
  },
  {
   "cell_type": "code",
   "execution_count": 32,
   "metadata": {
    "scrolled": true
   },
   "outputs": [
    {
     "data": {
      "text/plain": [
       "0.9999995570800042"
      ]
     },
     "execution_count": 32,
     "metadata": {},
     "output_type": "execute_result"
    }
   ],
   "source": [
    "# Strong correlation between 'Restaurant_id' & 'Ranking\n",
    "data.corr()['Restaurant_id']['Ranking']"
   ]
  },
  {
   "cell_type": "markdown",
   "metadata": {},
   "source": [
    "#### Интересных фактоы"
   ]
  },
  {
   "cell_type": "markdown",
   "metadata": {},
   "source": [
    "Сколько пицерий в Мадриде и Лондоне"
   ]
  },
  {
   "cell_type": "code",
   "execution_count": 33,
   "metadata": {},
   "outputs": [
    {
     "name": "stdout",
     "output_type": "stream",
     "text": [
      "London 393\n",
      "Madrid 103\n"
     ]
    }
   ],
   "source": [
    "for city in ['London', 'Madrid']:\n",
    "    name = 'City_' + city\n",
    "    n = data[data[name] == 1]['Cuisine Style'].apply(\n",
    "        lambda x: 'Pizza' in str(x)).sum()\n",
    "    print(city, n)"
   ]
  },
  {
   "cell_type": "markdown",
   "metadata": {},
   "source": [
    "Сколько типов кухонь представлено в наборе данных?"
   ]
  },
  {
   "cell_type": "code",
   "execution_count": 34,
   "metadata": {},
   "outputs": [
    {
     "data": {
      "text/plain": [
       "125"
      ]
     },
     "execution_count": 34,
     "metadata": {},
     "output_type": "execute_result"
    }
   ],
   "source": [
    "split_data(data['Cuisine Style']).nunique()"
   ]
  },
  {
   "cell_type": "markdown",
   "metadata": {},
   "source": [
    "Какая кухня представлена в наибольшем количестве ресторанов?"
   ]
  },
  {
   "cell_type": "code",
   "execution_count": 35,
   "metadata": {},
   "outputs": [
    {
     "data": {
      "text/plain": [
       "'Vegetarian_Friendly'    13868\n",
       "dtype: int64"
      ]
     },
     "execution_count": 35,
     "metadata": {},
     "output_type": "execute_result"
    }
   ],
   "source": [
    "split_data(data['Cuisine Style']).value_counts().head(1)"
   ]
  },
  {
   "cell_type": "markdown",
   "metadata": {},
   "source": [
    "Какое среднее количество кухонь предлагается в одном ресторане?"
   ]
  },
  {
   "cell_type": "code",
   "execution_count": 36,
   "metadata": {},
   "outputs": [
    {
     "data": {
      "text/plain": [
       "2.6"
      ]
     },
     "execution_count": 36,
     "metadata": {},
     "output_type": "execute_result"
    }
   ],
   "source": [
    "round(data['Number of cuisine'].mean(), 1)"
   ]
  },
  {
   "cell_type": "markdown",
   "metadata": {},
   "source": [
    "В каком городе кухня ресторанов более разнообразна?"
   ]
  },
  {
   "cell_type": "code",
   "execution_count": 37,
   "metadata": {
    "scrolled": true
   },
   "outputs": [
    {
     "data": {
      "text/plain": [
       "'Amsterdam'"
      ]
     },
     "execution_count": 37,
     "metadata": {},
     "output_type": "execute_result"
    }
   ],
   "source": [
    "max_cuisine = data['Number of cuisine'].max()\n",
    "data[data['Number of cuisine'] == max_cuisine]['City'].iloc[0]"
   ]
  },
  {
   "cell_type": "markdown",
   "metadata": {},
   "source": [
    "Когда был оставлен самый свежий отзыв?"
   ]
  },
  {
   "cell_type": "code",
   "execution_count": 38,
   "metadata": {},
   "outputs": [
    {
     "data": {
      "text/plain": [
       "Timestamp('2018-02-26 00:00:00')"
      ]
     },
     "execution_count": 38,
     "metadata": {},
     "output_type": "execute_result"
    }
   ],
   "source": [
    "data.loc[:, ['Reviews_date1', 'Reviews_date1']].max().max()"
   ]
  },
  {
   "cell_type": "markdown",
   "metadata": {},
   "source": [
    "Какое максимальное количество дней отделяет даты публикации отзывов?"
   ]
  },
  {
   "cell_type": "code",
   "execution_count": 39,
   "metadata": {
    "scrolled": false
   },
   "outputs": [
    {
     "data": {
      "text/plain": [
       "Timedelta('3207 days 00:00:00')"
      ]
     },
     "execution_count": 39,
     "metadata": {},
     "output_type": "execute_result"
    }
   ],
   "source": [
    "max(data.loc[:, 'Reviews_date1'] - data.loc[:, 'Reviews_date2'])\n",
    "#data[data.loc[:, 'Reviews_days_between'] == max_days][['Reviews_date2', 'Reviews_days_between']]"
   ]
  },
  {
   "cell_type": "markdown",
   "metadata": {},
   "source": [
    "Drop columns"
   ]
  },
  {
   "cell_type": "code",
   "execution_count": 40,
   "metadata": {},
   "outputs": [],
   "source": [
    "data.drop(['Restaurant_id', 'Reviews_date1',\n",
    "           'Reviews_date2'], axis=1, inplace=True)\n",
    "data.drop(data.select_dtypes('O'), axis=1, inplace=True)"
   ]
  },
  {
   "cell_type": "code",
   "execution_count": 41,
   "metadata": {},
   "outputs": [
    {
     "data": {
      "text/plain": [
       "(40000, 172)"
      ]
     },
     "execution_count": 41,
     "metadata": {},
     "output_type": "execute_result"
    }
   ],
   "source": [
    "data.shape"
   ]
  },
  {
   "cell_type": "markdown",
   "metadata": {},
   "source": [
    "# Data Preprocessing\n",
    "Теперь, для удобства и воспроизводимости кода, завернем всю обработку в одну большую функцию."
   ]
  },
  {
   "cell_type": "code",
   "execution_count": 42,
   "metadata": {
    "scrolled": false
   },
   "outputs": [],
   "source": [
    "# аново подгружаем данные\n",
    "data = pd.read_csv('main_task.csv')"
   ]
  },
  {
   "cell_type": "code",
   "execution_count": 43,
   "metadata": {
    "scrolled": false
   },
   "outputs": [],
   "source": [
    "def preproc_data(df_input):\n",
    "    '''includes several functions to pre-process the predictor data.'''\n",
    "\n",
    "    ####### 1. Предобработка #######\n",
    "    df_output = df_input.copy()\n",
    "    # убираем не нужные для модели признаки\n",
    "    df_output.drop(['Restaurant_id', 'URL_TA', 'ID_TA'], axis=1, inplace=True)\n",
    "    # remove and symbols\n",
    "    df_output.loc[:, 'Cuisine Style'] = df_output['Cuisine Style'].str[1:-\n",
    "                                                                       1].str.replace(', ', ',').str.replace('\\s', '_')\n",
    "    df_output.loc[:, 'Reviews'] = df_output.loc[:, 'Reviews'].str.replace(\n",
    "        \"[\", '').str.replace(\"]\", '').str.replace(\"'\", \"\").str.replace(\", \", \" \").str.strip()\n",
    "    # replace empty '' values with NAN\n",
    "    df_output.loc[:, 'Reviews'] = df_output.loc[:, 'Reviews'].apply(\n",
    "        lambda x: np.nan if x == '' else x)\n",
    "\n",
    "    # ######## 2. NAN #######\n",
    "    # - Cuisine Style\n",
    "    df_output['Cuisine_Style_isNAN'] = pd.isna(\n",
    "        df_output['Cuisine Style']).astype('uint8')\n",
    "    modes = df_output.groupby('City')['Cuisine Style'].apply(\n",
    "        lambda x: split_data(x).mode()).reset_index(level=1, drop=True)\n",
    "    for c in df_output['City'].unique():\n",
    "        value = modes[modes.index == c].iloc[0]\n",
    "        df_output.loc[(df_output[\"City\"] == c) & (\n",
    "            df_output['Cuisine Style'].isnull()), 'Cuisine Style'] = value\n",
    "    # - Price Range\n",
    "    df_output['Price_Range_isNAN'] = pd.isna(\n",
    "        df_output['Price Range']).astype('uint8')\n",
    "    price_mode = df_output['Price Range'].mode().iloc[0]\n",
    "    df_output['Price Range'].fillna(price_mode, inplace=True)\n",
    "    # - Reviews\n",
    "    df_output['Reviews_isNAN'] = pd.isna(df_output['Reviews']).astype('uint8')\n",
    "    df_output.Reviews.fillna('no review', inplace=True)\n",
    "    # - Number of Reviews\n",
    "    df_output['Number_of_Reviews_isNAN'] = pd.isna(\n",
    "        df_output['Number of Reviews']).astype('uint8')\n",
    "    Num_Rev_medians = df_output.groupby(\n",
    "        \"City\")['Number of Reviews'].transform('median')\n",
    "    df_output['Number of Reviews'].fillna(Num_Rev_medians, inplace=True)\n",
    "\n",
    "    # ####### 3. Encoding #######\n",
    "    # - City\n",
    "    # save an original column 'City'\n",
    "    df_output.loc[:, 'City_orig'] = df_output.City\n",
    "    # для One-Hot Encoding\n",
    "    df_output = pd.get_dummies(df_output, columns=['City', ], dummy_na=True)\n",
    "    df_output.rename(columns={\"City_orig\": \"City\"}, inplace=True)\n",
    "    # - Price Range\n",
    "    price_dict = {\n",
    "        '$': 0,\n",
    "        '$$ - $$$': 1,\n",
    "        '$$$$': 2\n",
    "    }\n",
    "    df_output['Price Range'] = df_output['Price Range'].replace(\n",
    "        to_replace=price_dict)\n",
    "    # ### end Encoding\n",
    "\n",
    "    # ### 4. Feature Engineering\n",
    "    # - Cuisine Style\n",
    "    # Create a new columns with number of Cuisine Style\n",
    "    df_output.loc[:, 'Number of cuisine'] = df_output['Cuisine Style'].str.count(\n",
    "        ',')+1\n",
    "    # get list of Cuisine stylies\n",
    "    cuisines = set(df_output['Cuisine Style'].str.cat(sep=\",\").split(\",\"))\n",
    "    # create new columns for every Cuisine Style and fill\n",
    "    for c in cuisines:\n",
    "        col_name = 'Cuisine_' + c.replace(\"'\", '')\n",
    "        df_output.loc[df_output['Cuisine Style'].str.contains(c), col_name] = 1\n",
    "        df_output.loc[:, col_name].fillna(0, inplace=True)\n",
    "     # - Reviews\n",
    "    # Create a new columns with dates from Reviews\n",
    "    df_output.loc[:, 'Reviews_date1'] = df_output['Reviews'].apply(\n",
    "        lambda x: reviews_date(x, 1))\n",
    "    df_output.loc[:, 'Reviews_date2'] = df_output['Reviews'].apply(\n",
    "        lambda x: reviews_date(x, 2))\n",
    "    Rev_date1_modes = df_output.groupby(\"City\")['Reviews_date1'].apply(\n",
    "        lambda x: x.mode()).reset_index(level=1, drop=True)\n",
    "    Rev_date2_modes = df_output.groupby(\"City\")['Reviews_date1'].apply(\n",
    "        lambda x: x.mode()).reset_index(level=1, drop=True)\n",
    "    # fill NAN values 'Reviews_date' with mode by 'City'\n",
    "    for c in df_output['City'].unique():\n",
    "        value1 = Rev_date1_modes[Rev_date1_modes.index == c].iloc[0]\n",
    "        value2 = Rev_date2_modes[Rev_date2_modes.index == c].iloc[0]\n",
    "        df_output.loc[(df_output['City'] == c) & (\n",
    "            df_output['Reviews_date1'].isnull()), 'Reviews_date1'] = value1\n",
    "        df_output.loc[(df_output['City'] == c) & (\n",
    "            df_output['Reviews_date2'].isnull()), 'Reviews_date2'] = value2\n",
    "    # create columns with year, month, day\n",
    "    df_output.loc[:, 'Reviews1_year'] = df_output['Reviews_date1'].dt.year\n",
    "    df_output.loc[:, 'Reviews1_month'] = df_output['Reviews_date1'].dt.month\n",
    "    df_output.loc[:, 'Reviews1_day'] = df_output['Reviews_date1'].dt.day\n",
    "    df_output.loc[:, 'Reviews2_year'] = df_output['Reviews_date2'].dt.year\n",
    "    df_output.loc[:, 'Reviews2_month'] = df_output['Reviews_date2'].dt.month\n",
    "    df_output.loc[:, 'Reviews2_day'] = df_output['Reviews_date2'].dt.day\n",
    "\n",
    "    # ####### 5. Clean #######\n",
    "    # убираем признаки которые еще не успели обработать,\n",
    "    object_columns = [\n",
    "        s for s in df_output.columns if df_output[s].dtypes == 'object']\n",
    "    df_output.drop(object_columns, axis=1, inplace=True)\n",
    "    df_output.drop(['Reviews_date1', 'Reviews_date2'], axis=1, inplace=True)\n",
    "\n",
    "    return df_output"
   ]
  },
  {
   "cell_type": "markdown",
   "metadata": {},
   "source": [
    "#### Запускаем и проверяем что получилось"
   ]
  },
  {
   "cell_type": "code",
   "execution_count": 44,
   "metadata": {
    "scrolled": false
   },
   "outputs": [
    {
     "data": {
      "text/html": [
       "<div>\n",
       "<style scoped>\n",
       "    .dataframe tbody tr th:only-of-type {\n",
       "        vertical-align: middle;\n",
       "    }\n",
       "\n",
       "    .dataframe tbody tr th {\n",
       "        vertical-align: top;\n",
       "    }\n",
       "\n",
       "    .dataframe thead th {\n",
       "        text-align: right;\n",
       "    }\n",
       "</style>\n",
       "<table border=\"1\" class=\"dataframe\">\n",
       "  <thead>\n",
       "    <tr style=\"text-align: right;\">\n",
       "      <th></th>\n",
       "      <th>Ranking</th>\n",
       "      <th>Rating</th>\n",
       "      <th>Price Range</th>\n",
       "      <th>Number of Reviews</th>\n",
       "      <th>Cuisine_Style_isNAN</th>\n",
       "      <th>Price_Range_isNAN</th>\n",
       "      <th>Reviews_isNAN</th>\n",
       "      <th>Number_of_Reviews_isNAN</th>\n",
       "      <th>City_Amsterdam</th>\n",
       "      <th>City_Athens</th>\n",
       "      <th>...</th>\n",
       "      <th>Cuisine_Central_Asian</th>\n",
       "      <th>Cuisine_Turkish</th>\n",
       "      <th>Cuisine_Mexican</th>\n",
       "      <th>Cuisine_Minority_Chinese</th>\n",
       "      <th>Reviews1_year</th>\n",
       "      <th>Reviews1_month</th>\n",
       "      <th>Reviews1_day</th>\n",
       "      <th>Reviews2_year</th>\n",
       "      <th>Reviews2_month</th>\n",
       "      <th>Reviews2_day</th>\n",
       "    </tr>\n",
       "  </thead>\n",
       "  <tbody>\n",
       "    <tr>\n",
       "      <th>4658</th>\n",
       "      <td>1345.0</td>\n",
       "      <td>5.0</td>\n",
       "      <td>1</td>\n",
       "      <td>3.0</td>\n",
       "      <td>1</td>\n",
       "      <td>1</td>\n",
       "      <td>0</td>\n",
       "      <td>0</td>\n",
       "      <td>0</td>\n",
       "      <td>0</td>\n",
       "      <td>...</td>\n",
       "      <td>0.0</td>\n",
       "      <td>0.0</td>\n",
       "      <td>0.0</td>\n",
       "      <td>0.0</td>\n",
       "      <td>2017</td>\n",
       "      <td>9</td>\n",
       "      <td>10</td>\n",
       "      <td>2017</td>\n",
       "      <td>7</td>\n",
       "      <td>8</td>\n",
       "    </tr>\n",
       "    <tr>\n",
       "      <th>17588</th>\n",
       "      <td>71.0</td>\n",
       "      <td>4.0</td>\n",
       "      <td>1</td>\n",
       "      <td>4937.0</td>\n",
       "      <td>0</td>\n",
       "      <td>0</td>\n",
       "      <td>0</td>\n",
       "      <td>0</td>\n",
       "      <td>0</td>\n",
       "      <td>0</td>\n",
       "      <td>...</td>\n",
       "      <td>0.0</td>\n",
       "      <td>0.0</td>\n",
       "      <td>0.0</td>\n",
       "      <td>0.0</td>\n",
       "      <td>2018</td>\n",
       "      <td>1</td>\n",
       "      <td>9</td>\n",
       "      <td>2018</td>\n",
       "      <td>1</td>\n",
       "      <td>3</td>\n",
       "    </tr>\n",
       "    <tr>\n",
       "      <th>32454</th>\n",
       "      <td>2375.0</td>\n",
       "      <td>3.5</td>\n",
       "      <td>1</td>\n",
       "      <td>44.0</td>\n",
       "      <td>0</td>\n",
       "      <td>0</td>\n",
       "      <td>0</td>\n",
       "      <td>0</td>\n",
       "      <td>0</td>\n",
       "      <td>0</td>\n",
       "      <td>...</td>\n",
       "      <td>0.0</td>\n",
       "      <td>0.0</td>\n",
       "      <td>0.0</td>\n",
       "      <td>0.0</td>\n",
       "      <td>2016</td>\n",
       "      <td>5</td>\n",
       "      <td>25</td>\n",
       "      <td>2016</td>\n",
       "      <td>5</td>\n",
       "      <td>9</td>\n",
       "    </tr>\n",
       "    <tr>\n",
       "      <th>34504</th>\n",
       "      <td>12745.0</td>\n",
       "      <td>3.0</td>\n",
       "      <td>1</td>\n",
       "      <td>3.0</td>\n",
       "      <td>1</td>\n",
       "      <td>1</td>\n",
       "      <td>0</td>\n",
       "      <td>0</td>\n",
       "      <td>0</td>\n",
       "      <td>0</td>\n",
       "      <td>...</td>\n",
       "      <td>0.0</td>\n",
       "      <td>0.0</td>\n",
       "      <td>0.0</td>\n",
       "      <td>0.0</td>\n",
       "      <td>2017</td>\n",
       "      <td>9</td>\n",
       "      <td>22</td>\n",
       "      <td>2018</td>\n",
       "      <td>1</td>\n",
       "      <td>7</td>\n",
       "    </tr>\n",
       "    <tr>\n",
       "      <th>14053</th>\n",
       "      <td>12002.0</td>\n",
       "      <td>4.0</td>\n",
       "      <td>1</td>\n",
       "      <td>10.0</td>\n",
       "      <td>0</td>\n",
       "      <td>0</td>\n",
       "      <td>0</td>\n",
       "      <td>0</td>\n",
       "      <td>0</td>\n",
       "      <td>0</td>\n",
       "      <td>...</td>\n",
       "      <td>0.0</td>\n",
       "      <td>0.0</td>\n",
       "      <td>0.0</td>\n",
       "      <td>0.0</td>\n",
       "      <td>2016</td>\n",
       "      <td>2</td>\n",
       "      <td>8</td>\n",
       "      <td>2018</td>\n",
       "      <td>1</td>\n",
       "      <td>7</td>\n",
       "    </tr>\n",
       "  </tbody>\n",
       "</table>\n",
       "<p>5 rows × 172 columns</p>\n",
       "</div>"
      ],
      "text/plain": [
       "       Ranking  Rating  Price Range  Number of Reviews  Cuisine_Style_isNAN  \\\n",
       "4658    1345.0     5.0            1                3.0                    1   \n",
       "17588     71.0     4.0            1             4937.0                    0   \n",
       "32454   2375.0     3.5            1               44.0                    0   \n",
       "34504  12745.0     3.0            1                3.0                    1   \n",
       "14053  12002.0     4.0            1               10.0                    0   \n",
       "\n",
       "       Price_Range_isNAN  Reviews_isNAN  Number_of_Reviews_isNAN  \\\n",
       "4658                   1              0                        0   \n",
       "17588                  0              0                        0   \n",
       "32454                  0              0                        0   \n",
       "34504                  1              0                        0   \n",
       "14053                  0              0                        0   \n",
       "\n",
       "       City_Amsterdam  City_Athens  ...  Cuisine_Central_Asian  \\\n",
       "4658                0            0  ...                    0.0   \n",
       "17588               0            0  ...                    0.0   \n",
       "32454               0            0  ...                    0.0   \n",
       "34504               0            0  ...                    0.0   \n",
       "14053               0            0  ...                    0.0   \n",
       "\n",
       "       Cuisine_Turkish  Cuisine_Mexican  Cuisine_Minority_Chinese  \\\n",
       "4658               0.0              0.0                       0.0   \n",
       "17588              0.0              0.0                       0.0   \n",
       "32454              0.0              0.0                       0.0   \n",
       "34504              0.0              0.0                       0.0   \n",
       "14053              0.0              0.0                       0.0   \n",
       "\n",
       "       Reviews1_year  Reviews1_month  Reviews1_day  Reviews2_year  \\\n",
       "4658            2017               9            10           2017   \n",
       "17588           2018               1             9           2018   \n",
       "32454           2016               5            25           2016   \n",
       "34504           2017               9            22           2018   \n",
       "14053           2016               2             8           2018   \n",
       "\n",
       "       Reviews2_month  Reviews2_day  \n",
       "4658                7             8  \n",
       "17588               1             3  \n",
       "32454               5             9  \n",
       "34504               1             7  \n",
       "14053               1             7  \n",
       "\n",
       "[5 rows x 172 columns]"
      ]
     },
     "execution_count": 44,
     "metadata": {},
     "output_type": "execute_result"
    }
   ],
   "source": [
    "df_preproc = preproc_data(data)\n",
    "df_preproc.sample(5)"
   ]
  },
  {
   "cell_type": "code",
   "execution_count": 45,
   "metadata": {
    "scrolled": false
   },
   "outputs": [
    {
     "data": {
      "text/plain": [
       "(40000, 172)"
      ]
     },
     "execution_count": 45,
     "metadata": {},
     "output_type": "execute_result"
    }
   ],
   "source": [
    "df_preproc.shape"
   ]
  },
  {
   "cell_type": "markdown",
   "metadata": {},
   "source": [
    "### Разбиваем датафрейм на части, необходимые для обучения и тестирования модели"
   ]
  },
  {
   "cell_type": "code",
   "execution_count": 46,
   "metadata": {},
   "outputs": [],
   "source": [
    "# Х - данные с информацией о ресторанах, у - целевая переменная (рейтинги ресторанов)\n",
    "X = df_preproc.drop(['Rating'], axis=1)\n",
    "y = df_preproc['Rating']"
   ]
  },
  {
   "cell_type": "code",
   "execution_count": 47,
   "metadata": {},
   "outputs": [],
   "source": [
    "# Наборы данных с меткой \"train\" будут использоваться для обучения модели, \"test\" - для тестирования.\n",
    "# Для тестирования мы будем использовать 25% от исходного датасета.\n",
    "X_train, X_test, y_train, y_test = train_test_split(X, y, test_size=0.25)"
   ]
  },
  {
   "cell_type": "markdown",
   "metadata": {},
   "source": [
    "### Model"
   ]
  },
  {
   "cell_type": "markdown",
   "metadata": {},
   "source": [
    "#### Создаём, обучаем и тестируем модель"
   ]
  },
  {
   "cell_type": "code",
   "execution_count": 48,
   "metadata": {},
   "outputs": [],
   "source": [
    "# Создаём модель\n",
    "regr = RandomForestRegressor(n_estimators=100)\n",
    "\n",
    "# Обучаем модель на тестовом наборе данных\n",
    "regr.fit(X_train, y_train)\n",
    "\n",
    "# Используем обученную модель для предсказания рейтинга ресторанов в тестовой выборке.\n",
    "# Предсказанные значения записываем в переменную y_pred\n",
    "y_pred = regr.predict(X_test)"
   ]
  },
  {
   "cell_type": "code",
   "execution_count": 49,
   "metadata": {
    "scrolled": true
   },
   "outputs": [
    {
     "name": "stdout",
     "output_type": "stream",
     "text": [
      "MAE: 0.2140125\n"
     ]
    }
   ],
   "source": [
    "# Сравниваем предсказанные значения (y_pred) с реальными (y_test), и смотрим насколько они в среднем отличаются\n",
    "# Метрика называется Mean Absolute Error (MAE) и показывает среднее отклонение предсказанных значений от фактических.\n",
    "print('MAE:', metrics.mean_absolute_error(y_test, y_pred))"
   ]
  },
  {
   "cell_type": "code",
   "execution_count": null,
   "metadata": {},
   "outputs": [],
   "source": []
  }
 ],
 "metadata": {
  "kernelspec": {
   "display_name": "Python 3",
   "language": "python",
   "name": "python3"
  },
  "language_info": {
   "codemirror_mode": {
    "name": "ipython",
    "version": 3
   },
   "file_extension": ".py",
   "mimetype": "text/x-python",
   "name": "python",
   "nbconvert_exporter": "python",
   "pygments_lexer": "ipython3",
   "version": "3.7.6"
  }
 },
 "nbformat": 4,
 "nbformat_minor": 4
}
