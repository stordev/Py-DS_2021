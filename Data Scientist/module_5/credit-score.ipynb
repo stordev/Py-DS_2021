{
 "cells": [
  {
   "cell_type": "code",
   "execution_count": 5,
   "metadata": {
    "execution": {
     "iopub.execute_input": "2021-02-03T18:53:23.119976Z",
     "iopub.status.busy": "2021-02-03T18:53:23.119259Z",
     "iopub.status.idle": "2021-02-03T18:53:23.122895Z",
     "shell.execute_reply": "2021-02-03T18:53:23.123470Z"
    },
    "papermill": {
     "duration": 0.166429,
     "end_time": "2021-02-03T18:53:23.123665",
     "exception": false,
     "start_time": "2021-02-03T18:53:22.957236",
     "status": "completed"
    },
    "tags": []
   },
   "outputs": [],
   "source": [
    "%reset -f"
   ]
  },
  {
   "cell_type": "markdown",
   "metadata": {
    "papermill": {
     "duration": 0.027319,
     "end_time": "2021-02-03T18:53:23.179073",
     "exception": false,
     "start_time": "2021-02-03T18:53:23.151754",
     "status": "completed"
    },
    "tags": []
   },
   "source": [
    "### Project goal: to develop a scoring model for predicting customer default"
   ]
  },
  {
   "cell_type": "code",
   "execution_count": 6,
   "metadata": {
    "_cell_guid": "b1076dfc-b9ad-4769-8c92-a6c4dae69d19",
    "_uuid": "8f2839f25d086af736a60e9eeb907d3b93b6e0e5",
    "execution": {
     "iopub.execute_input": "2021-02-03T18:53:23.245750Z",
     "iopub.status.busy": "2021-02-03T18:53:23.244998Z",
     "iopub.status.idle": "2021-02-03T18:53:24.674976Z",
     "shell.execute_reply": "2021-02-03T18:53:24.674352Z"
    },
    "papermill": {
     "duration": 1.468488,
     "end_time": "2021-02-03T18:53:24.675093",
     "exception": false,
     "start_time": "2021-02-03T18:53:23.206605",
     "status": "completed"
    },
    "scrolled": true,
    "tags": []
   },
   "outputs": [],
   "source": [
    "import numpy as np # linear algebra\n",
    "import pandas as pd # data processing, CSV file I/O\n",
    "from pandas import Series\n",
    "\n",
    "import matplotlib.pyplot as plt\n",
    "import seaborn as sns \n",
    "%matplotlib inline\n",
    "\n",
    "from sklearn.model_selection import train_test_split # tool for splitting dataset:\n",
    "from sklearn.model_selection import GridSearchCV\n",
    "from sklearn.feature_selection import f_classif, mutual_info_classif\n",
    "from sklearn.preprocessing import LabelEncoder, OneHotEncoder, StandardScaler\n",
    "from sklearn.linear_model import LogisticRegression\n",
    "from sklearn.metrics import mean_absolute_error, \\\n",
    "            accuracy_score, precision_score, recall_score, f1_score, \\\n",
    "            confusion_matrix, auc, roc_auc_score, roc_curve"
   ]
  },
  {
   "cell_type": "code",
   "execution_count": 7,
   "metadata": {
    "execution": {
     "iopub.execute_input": "2021-02-03T18:53:24.801321Z",
     "iopub.status.busy": "2021-02-03T18:53:24.800288Z",
     "iopub.status.idle": "2021-02-03T18:53:27.823560Z",
     "shell.execute_reply": "2021-02-03T18:53:27.822430Z"
    },
    "papermill": {
     "duration": 3.054297,
     "end_time": "2021-02-03T18:53:27.823696",
     "exception": false,
     "start_time": "2021-02-03T18:53:24.769399",
     "status": "completed"
    },
    "scrolled": true,
    "tags": []
   },
   "outputs": [],
   "source": [
    "RANDOM_SEED = 42 # fix RANDOM_SEED"
   ]
  },
  {
   "cell_type": "markdown",
   "metadata": {
    "papermill": {
     "duration": 0.027716,
     "end_time": "2021-02-03T18:53:27.879595",
     "exception": false,
     "start_time": "2021-02-03T18:53:27.851879",
     "status": "completed"
    },
    "tags": []
   },
   "source": [
    "# DATA"
   ]
  },
  {
   "cell_type": "code",
   "execution_count": 9,
   "metadata": {
    "execution": {
     "iopub.execute_input": "2021-02-03T18:53:27.946607Z",
     "iopub.status.busy": "2021-02-03T18:53:27.945882Z",
     "iopub.status.idle": "2021-02-03T18:53:28.305858Z",
     "shell.execute_reply": "2021-02-03T18:53:28.305273Z"
    },
    "papermill": {
     "duration": 0.398382,
     "end_time": "2021-02-03T18:53:28.305972",
     "exception": false,
     "start_time": "2021-02-03T18:53:27.907590",
     "status": "completed"
    },
    "scrolled": true,
    "tags": []
   },
   "outputs": [
    {
     "name": "stdout",
     "output_type": "stream",
     "text": [
      "train\t (73799, 19)\n",
      "test:\t (36349, 18)\n"
     ]
    }
   ],
   "source": [
    "df_train = pd.read_csv( 'train.csv') # train \n",
    "df_test  = pd.read_csv( 'test.csv')  # test\n",
    "\n",
    "print('train\\t', df_train.shape)\n",
    "print('test:\\t', df_test.shape)\n",
    "\n",
    "pd.set_option('display.max_rows', 100)  # show more rows\n",
    "pd.set_option('display.max_columns', None)"
   ]
  },
  {
   "cell_type": "code",
   "execution_count": 10,
   "metadata": {
    "execution": {
     "iopub.execute_input": "2021-02-03T18:53:28.380873Z",
     "iopub.status.busy": "2021-02-03T18:53:28.380211Z",
     "iopub.status.idle": "2021-02-03T18:53:28.457833Z",
     "shell.execute_reply": "2021-02-03T18:53:28.458357Z"
    },
    "papermill": {
     "duration": 0.121937,
     "end_time": "2021-02-03T18:53:28.458539",
     "exception": false,
     "start_time": "2021-02-03T18:53:28.336602",
     "status": "completed"
    },
    "tags": []
   },
   "outputs": [
    {
     "data": {
      "text/plain": [
       "(110148, 20)"
      ]
     },
     "execution_count": 10,
     "metadata": {},
     "output_type": "execute_result"
    }
   ],
   "source": [
    "df_train.loc[:,'part'] = 1 # mark a train part\n",
    "df_test.loc[:,'part'] = 0 # mark a test part\n",
    "\n",
    "# merge train & test into one dataset\n",
    "df = df_train.append(df_test, sort=False).reset_index(drop=True) # merge\n",
    "df.shape"
   ]
  },
  {
   "cell_type": "markdown",
   "metadata": {
    "papermill": {
     "duration": 0.029788,
     "end_time": "2021-02-03T18:53:28.519378",
     "exception": false,
     "start_time": "2021-02-03T18:53:28.489590",
     "status": "completed"
    },
    "tags": []
   },
   "source": [
    "# 1. Preprocessing"
   ]
  },
  {
   "cell_type": "code",
   "execution_count": 11,
   "metadata": {
    "execution": {
     "iopub.execute_input": "2021-02-03T18:53:28.645595Z",
     "iopub.status.busy": "2021-02-03T18:53:28.621753Z",
     "iopub.status.idle": "2021-02-03T18:53:28.848792Z",
     "shell.execute_reply": "2021-02-03T18:53:28.849838Z"
    },
    "papermill": {
     "duration": 0.30018,
     "end_time": "2021-02-03T18:53:28.850108",
     "exception": false,
     "start_time": "2021-02-03T18:53:28.549928",
     "status": "completed"
    },
    "scrolled": true,
    "tags": []
   },
   "outputs": [
    {
     "name": "stdout",
     "output_type": "stream",
     "text": [
      "columns with nan values:\t | education | default\n",
      "2 unique values: | sex | car | car_type | good_work | foreign_passport | default | part\n",
      "> 2 unique values:\n",
      " | client_id | app_date | education | age | decline_app_cnt | score_bki | bki_request_cnt | region_rating | home_address | work_address | income | sna | first_time\n"
     ]
    }
   ],
   "source": [
    "print('columns with nan values:\\t', *df.columns[df.isnull().sum()>0],sep=' | ')\n",
    "print('2 unique values:', *df.columns[df.nunique()==2], sep=' | ')\n",
    "print('> 2 unique values:\\n', *df.columns[df.nunique()>2], sep=' | ')"
   ]
  },
  {
   "cell_type": "code",
   "execution_count": 12,
   "metadata": {
    "execution": {
     "iopub.execute_input": "2021-02-03T18:53:28.926285Z",
     "iopub.status.busy": "2021-02-03T18:53:28.925625Z",
     "iopub.status.idle": "2021-02-03T18:53:29.014047Z",
     "shell.execute_reply": "2021-02-03T18:53:29.014612Z"
    },
    "papermill": {
     "duration": 0.13314,
     "end_time": "2021-02-03T18:53:29.014774",
     "exception": false,
     "start_time": "2021-02-03T18:53:28.881634",
     "status": "completed"
    },
    "scrolled": true,
    "tags": []
   },
   "outputs": [],
   "source": [
    "# app_date\n",
    "\n",
    "# convert to date format\n",
    "df.loc[:,'app_date'] = pd.to_datetime(df.app_date, format='%d%b%Y')\n",
    "\n",
    "# create a new features\n",
    "df.loc[:,'day_num'] = (df['app_date'] - df['app_date'].min()).dt.days\n",
    "\n",
    "# drop 'app_date'\n",
    "df.drop('app_date', axis=1, inplace=True)"
   ]
  },
  {
   "cell_type": "code",
   "execution_count": 13,
   "metadata": {
    "execution": {
     "iopub.execute_input": "2021-02-03T18:53:29.095089Z",
     "iopub.status.busy": "2021-02-03T18:53:29.094223Z",
     "iopub.status.idle": "2021-02-03T18:53:29.428483Z",
     "shell.execute_reply": "2021-02-03T18:53:29.427819Z"
    },
    "papermill": {
     "duration": 0.38366,
     "end_time": "2021-02-03T18:53:29.428603",
     "exception": false,
     "start_time": "2021-02-03T18:53:29.044943",
     "status": "completed"
    },
    "scrolled": true,
    "tags": []
   },
   "outputs": [
    {
     "name": "stdout",
     "output_type": "stream",
     "text": [
      "null values:  478\n"
     ]
    },
    {
     "data": {
      "image/png": "[encoded data removed]",
      "text/plain": [
       "<Figure size 504x144 with 1 Axes>"
      ]
     },
     "metadata": {
      "needs_background": "light"
     },
     "output_type": "display_data"
    }
   ],
   "source": [
    "    # education\n",
    "\n",
    "print(\"null values: \", df.education.isna().sum() )\n",
    "\n",
    "# visualization\n",
    "plt.figure(figsize=(7,2)) # size of figure\n",
    "df.education.value_counts(dropna=False).plot.barh()\n",
    "plt.title('education')\n",
    "plt.show()"
   ]
  },
  {
   "cell_type": "code",
   "execution_count": 14,
   "metadata": {
    "execution": {
     "iopub.execute_input": "2021-02-03T18:53:29.522748Z",
     "iopub.status.busy": "2021-02-03T18:53:29.509272Z",
     "iopub.status.idle": "2021-02-03T18:53:29.626764Z",
     "shell.execute_reply": "2021-02-03T18:53:29.625926Z"
    },
    "papermill": {
     "duration": 0.167341,
     "end_time": "2021-02-03T18:53:29.626966",
     "exception": false,
     "start_time": "2021-02-03T18:53:29.459625",
     "status": "completed"
    },
    "scrolled": true,
    "tags": []
   },
   "outputs": [
    {
     "name": "stdout",
     "output_type": "stream",
     "text": [
      "null:  0\n"
     ]
    }
   ],
   "source": [
    "# education': fill nan values with the most frequent value 'SCH'\n",
    "df.loc[:,'education'].fillna('SCH', inplace=True)\n",
    "print('null: ',df.education.isnull().sum().sum()) # check null values\n",
    "\n",
    "# 'education' encoding \n",
    "df.loc[:, 'education_code'] = df.education.replace({'SCH':1, 'ACD':2,'UGR':2, 'GRD':3, 'PGR':4})"
   ]
  },
  {
   "cell_type": "code",
   "execution_count": 15,
   "metadata": {
    "execution": {
     "iopub.execute_input": "2021-02-03T18:53:29.697455Z",
     "iopub.status.busy": "2021-02-03T18:53:29.696742Z",
     "iopub.status.idle": "2021-02-03T18:53:29.699627Z",
     "shell.execute_reply": "2021-02-03T18:53:29.699006Z"
    },
    "papermill": {
     "duration": 0.040355,
     "end_time": "2021-02-03T18:53:29.699741",
     "exception": false,
     "start_time": "2021-02-03T18:53:29.659386",
     "status": "completed"
    },
    "scrolled": true,
    "tags": []
   },
   "outputs": [],
   "source": [
    "# split columns into several groups\n",
    "\n",
    "target = 'default'\n",
    "bin_cols = ['sex', 'car', 'car_type', 'good_work', 'foreign_passport'] # binary variables\n",
    "cat_cols = ['education_code', 'work_address', 'sna','first_time','region_rating'] # categorical variables\n",
    "num_cols = ['age', 'decline_app_cnt','score_bki','bki_request_cnt','income','day_num'] # numeric variables"
   ]
  },
  {
   "cell_type": "code",
   "execution_count": 16,
   "metadata": {
    "execution": {
     "iopub.execute_input": "2021-02-03T18:53:29.807440Z",
     "iopub.status.busy": "2021-02-03T18:53:29.806669Z",
     "iopub.status.idle": "2021-02-03T18:53:29.967738Z",
     "shell.execute_reply": "2021-02-03T18:53:29.967129Z"
    },
    "papermill": {
     "duration": 0.235837,
     "end_time": "2021-02-03T18:53:29.967868",
     "exception": false,
     "start_time": "2021-02-03T18:53:29.732031",
     "status": "completed"
    },
    "scrolled": true,
    "tags": []
   },
   "outputs": [
    {
     "data": {
      "text/html": [
       "<div>\n",
       "<style scoped>\n",
       "    .dataframe tbody tr th:only-of-type {\n",
       "        vertical-align: middle;\n",
       "    }\n",
       "\n",
       "    .dataframe tbody tr th {\n",
       "        vertical-align: top;\n",
       "    }\n",
       "\n",
       "    .dataframe thead th {\n",
       "        text-align: right;\n",
       "    }\n",
       "</style>\n",
       "<table border=\"1\" class=\"dataframe\">\n",
       "  <thead>\n",
       "    <tr style=\"text-align: right;\">\n",
       "      <th></th>\n",
       "      <th>client_id</th>\n",
       "      <th>education</th>\n",
       "      <th>sex</th>\n",
       "      <th>age</th>\n",
       "      <th>car</th>\n",
       "      <th>car_type</th>\n",
       "      <th>decline_app_cnt</th>\n",
       "      <th>good_work</th>\n",
       "      <th>score_bki</th>\n",
       "      <th>bki_request_cnt</th>\n",
       "      <th>region_rating</th>\n",
       "      <th>home_address</th>\n",
       "      <th>work_address</th>\n",
       "      <th>income</th>\n",
       "      <th>sna</th>\n",
       "      <th>first_time</th>\n",
       "      <th>foreign_passport</th>\n",
       "      <th>default</th>\n",
       "      <th>part</th>\n",
       "      <th>day_num</th>\n",
       "      <th>education_code</th>\n",
       "    </tr>\n",
       "  </thead>\n",
       "  <tbody>\n",
       "    <tr>\n",
       "      <th>53278</th>\n",
       "      <td>77451</td>\n",
       "      <td>SCH</td>\n",
       "      <td>1</td>\n",
       "      <td>26</td>\n",
       "      <td>1</td>\n",
       "      <td>0</td>\n",
       "      <td>2</td>\n",
       "      <td>1</td>\n",
       "      <td>-1.037306</td>\n",
       "      <td>0</td>\n",
       "      <td>60</td>\n",
       "      <td>2</td>\n",
       "      <td>3</td>\n",
       "      <td>30000</td>\n",
       "      <td>1</td>\n",
       "      <td>2</td>\n",
       "      <td>0</td>\n",
       "      <td>1.0</td>\n",
       "      <td>1</td>\n",
       "      <td>83</td>\n",
       "      <td>1</td>\n",
       "    </tr>\n",
       "    <tr>\n",
       "      <th>43135</th>\n",
       "      <td>87500</td>\n",
       "      <td>SCH</td>\n",
       "      <td>0</td>\n",
       "      <td>27</td>\n",
       "      <td>1</td>\n",
       "      <td>0</td>\n",
       "      <td>0</td>\n",
       "      <td>0</td>\n",
       "      <td>-2.415844</td>\n",
       "      <td>0</td>\n",
       "      <td>60</td>\n",
       "      <td>2</td>\n",
       "      <td>3</td>\n",
       "      <td>29000</td>\n",
       "      <td>1</td>\n",
       "      <td>4</td>\n",
       "      <td>0</td>\n",
       "      <td>0.0</td>\n",
       "      <td>1</td>\n",
       "      <td>92</td>\n",
       "      <td>1</td>\n",
       "    </tr>\n",
       "    <tr>\n",
       "      <th>54230</th>\n",
       "      <td>20244</td>\n",
       "      <td>SCH</td>\n",
       "      <td>1</td>\n",
       "      <td>35</td>\n",
       "      <td>0</td>\n",
       "      <td>0</td>\n",
       "      <td>0</td>\n",
       "      <td>0</td>\n",
       "      <td>-1.775263</td>\n",
       "      <td>2</td>\n",
       "      <td>50</td>\n",
       "      <td>1</td>\n",
       "      <td>3</td>\n",
       "      <td>45000</td>\n",
       "      <td>2</td>\n",
       "      <td>1</td>\n",
       "      <td>0</td>\n",
       "      <td>0.0</td>\n",
       "      <td>1</td>\n",
       "      <td>26</td>\n",
       "      <td>1</td>\n",
       "    </tr>\n",
       "  </tbody>\n",
       "</table>\n",
       "</div>"
      ],
      "text/plain": [
       "       client_id education  sex  age  car  car_type  decline_app_cnt  \\\n",
       "53278      77451       SCH    1   26    1         0                2   \n",
       "43135      87500       SCH    0   27    1         0                0   \n",
       "54230      20244       SCH    1   35    0         0                0   \n",
       "\n",
       "       good_work  score_bki  bki_request_cnt  region_rating  home_address  \\\n",
       "53278          1  -1.037306                0             60             2   \n",
       "43135          0  -2.415844                0             60             2   \n",
       "54230          0  -1.775263                2             50             1   \n",
       "\n",
       "       work_address  income  sna  first_time  foreign_passport  default  part  \\\n",
       "53278             3   30000    1           2                 0      1.0     1   \n",
       "43135             3   29000    1           4                 0      0.0     1   \n",
       "54230             3   45000    2           1                 0      0.0     1   \n",
       "\n",
       "       day_num  education_code  \n",
       "53278       83               1  \n",
       "43135       92               1  \n",
       "54230       26               1  "
      ]
     },
     "execution_count": 16,
     "metadata": {},
     "output_type": "execute_result"
    }
   ],
   "source": [
    "# LabelEncoder for bin columns\n",
    "\n",
    "label_encoder = LabelEncoder()\n",
    "for col in bin_cols:\n",
    "    df[col] = label_encoder.fit_transform(df[col])\n",
    "    \n",
    "df.sample(3) # check"
   ]
  },
  {
   "cell_type": "markdown",
   "metadata": {
    "papermill": {
     "duration": 0.031993,
     "end_time": "2021-02-03T18:53:30.032586",
     "exception": false,
     "start_time": "2021-02-03T18:53:30.000593",
     "status": "completed"
    },
    "tags": []
   },
   "source": [
    "# 2. EDA"
   ]
  },
  {
   "cell_type": "code",
   "execution_count": 17,
   "metadata": {
    "execution": {
     "iopub.execute_input": "2021-02-03T18:53:30.104375Z",
     "iopub.status.busy": "2021-02-03T18:53:30.103264Z",
     "iopub.status.idle": "2021-02-03T18:53:30.199328Z",
     "shell.execute_reply": "2021-02-03T18:53:30.198788Z"
    },
    "papermill": {
     "duration": 0.134526,
     "end_time": "2021-02-03T18:53:30.199444",
     "exception": false,
     "start_time": "2021-02-03T18:53:30.064918",
     "status": "completed"
    },
    "scrolled": true,
    "tags": []
   },
   "outputs": [
    {
     "data": {
      "image/png": "[encoded data removed]",
      "text/plain": [
       "<Figure size 144x144 with 1 Axes>"
      ]
     },
     "metadata": {
      "needs_background": "light"
     },
     "output_type": "display_data"
    }
   ],
   "source": [
    "# 'default' (target variable)\n",
    "\n",
    "plt.figure(figsize=(2,2))\n",
    "sns.countplot(df_train.default)\n",
    "plt.show()"
   ]
  },
  {
   "cell_type": "markdown",
   "metadata": {
    "papermill": {
     "duration": 0.032656,
     "end_time": "2021-02-03T18:53:30.264791",
     "exception": false,
     "start_time": "2021-02-03T18:53:30.232135",
     "status": "completed"
    },
    "tags": []
   },
   "source": [
    "There are significantly fewer default clients than non-default clients."
   ]
  },
  {
   "cell_type": "code",
   "execution_count": 18,
   "metadata": {
    "execution": {
     "iopub.execute_input": "2021-02-03T18:53:30.344120Z",
     "iopub.status.busy": "2021-02-03T18:53:30.342965Z",
     "iopub.status.idle": "2021-02-03T18:53:31.616663Z",
     "shell.execute_reply": "2021-02-03T18:53:31.617156Z"
    },
    "papermill": {
     "duration": 1.319619,
     "end_time": "2021-02-03T18:53:31.617329",
     "exception": false,
     "start_time": "2021-02-03T18:53:30.297710",
     "status": "completed"
    },
    "scrolled": true,
    "tags": []
   },
   "outputs": [
    {
     "data": {
      "image/png": "[encoded data removed]",
      "text/plain": [
       "<Figure size 576x288 with 6 Axes>"
      ]
     },
     "metadata": {
      "needs_background": "light"
     },
     "output_type": "display_data"
    }
   ],
   "source": [
    "# numeric columns plots\n",
    "\n",
    "fig, axes = plt.subplots(2, 3, figsize=(8,4))\n",
    "plt.subplots_adjust(wspace = 0.5, hspace = 0.5)\n",
    "for col, i in zip(num_cols, range(6)):\n",
    "    sns.distplot(df[col], kde=False, ax=axes.flat[i])"
   ]
  },
  {
   "cell_type": "markdown",
   "metadata": {
    "papermill": {
     "duration": 0.03363,
     "end_time": "2021-02-03T18:53:31.685394",
     "exception": false,
     "start_time": "2021-02-03T18:53:31.651764",
     "status": "completed"
    },
    "tags": []
   },
   "source": [
    "Only \"score_bki\" looks like a normal distribution."
   ]
  },
  {
   "cell_type": "code",
   "execution_count": 19,
   "metadata": {
    "execution": {
     "iopub.execute_input": "2021-02-03T18:53:31.763652Z",
     "iopub.status.busy": "2021-02-03T18:53:31.762648Z",
     "iopub.status.idle": "2021-02-03T18:53:31.820115Z",
     "shell.execute_reply": "2021-02-03T18:53:31.819320Z"
    },
    "papermill": {
     "duration": 0.099647,
     "end_time": "2021-02-03T18:53:31.820241",
     "exception": false,
     "start_time": "2021-02-03T18:53:31.720594",
     "status": "completed"
    },
    "scrolled": true,
    "tags": []
   },
   "outputs": [],
   "source": [
    "# take a logarithm to improve the ditribution\n",
    "\n",
    "for col in ['age', 'decline_app_cnt', 'bki_request_cnt','income','day_num']:\n",
    "    df.loc[:,col] = np.log(df[col] + 1)        "
   ]
  },
  {
   "cell_type": "code",
   "execution_count": 20,
   "metadata": {
    "execution": {
     "iopub.execute_input": "2021-02-03T18:53:31.905027Z",
     "iopub.status.busy": "2021-02-03T18:53:31.902671Z",
     "iopub.status.idle": "2021-02-03T18:53:32.553103Z",
     "shell.execute_reply": "2021-02-03T18:53:32.552432Z"
    },
    "papermill": {
     "duration": 0.698451,
     "end_time": "2021-02-03T18:53:32.553215",
     "exception": false,
     "start_time": "2021-02-03T18:53:31.854764",
     "status": "completed"
    },
    "scrolled": true,
    "tags": []
   },
   "outputs": [
    {
     "data": {
      "image/png": "[encoded data removed]",
      "text/plain": [
       "<Figure size 576x288 with 6 Axes>"
      ]
     },
     "metadata": {
      "needs_background": "light"
     },
     "output_type": "display_data"
    }
   ],
   "source": [
    "# boxplots for numerical variables\n",
    "\n",
    "fig, axes = plt.subplots(2, 3, figsize=(8,4))\n",
    "plt.subplots_adjust(wspace = 0.4, hspace=0.4)\n",
    "axes = axes.flatten()\n",
    "\n",
    "for i in range(len(num_cols)):\n",
    "    sns.boxplot(x=target, y=num_cols[i], data=df, orient='v', ax=axes[i], showfliers=False)    "
   ]
  },
  {
   "cell_type": "markdown",
   "metadata": {
    "papermill": {
     "duration": 0.03577,
     "end_time": "2021-02-03T18:53:32.624345",
     "exception": false,
     "start_time": "2021-02-03T18:53:32.588575",
     "status": "completed"
    },
    "tags": []
   },
   "source": [
    "<pre>\n",
    "on average default clients\n",
    "- are younger\n",
    "- have larger number of canceled applications, \n",
    "- have larger score_bki, \n",
    "- have more requests to bki, \n",
    "- have lower income\n",
    "</pre>"
   ]
  },
  {
   "cell_type": "code",
   "execution_count": 21,
   "metadata": {
    "execution": {
     "iopub.execute_input": "2021-02-03T18:53:32.705637Z",
     "iopub.status.busy": "2021-02-03T18:53:32.704449Z",
     "iopub.status.idle": "2021-02-03T18:53:33.239107Z",
     "shell.execute_reply": "2021-02-03T18:53:33.238581Z"
    },
    "papermill": {
     "duration": 0.579567,
     "end_time": "2021-02-03T18:53:33.239222",
     "exception": false,
     "start_time": "2021-02-03T18:53:32.659655",
     "status": "completed"
    },
    "scrolled": true,
    "tags": []
   },
   "outputs": [
    {
     "data": {
      "image/png": "[encoded data removed]",
      "text/plain": [
       "<Figure size 504x288 with 2 Axes>"
      ]
     },
     "metadata": {
      "needs_background": "light"
     },
     "output_type": "display_data"
    }
   ],
   "source": [
    "# Pearson correlation for numeric columns\n",
    "\n",
    "plt.figure(figsize=(7,4))\n",
    "sns.heatmap(df[num_cols + [target]].corr(), \n",
    "            vmin=0, vmax=1, annot=True, fmt='.2f', linewidths=.5 )\n",
    "\n",
    "#sns.heatmap(df_train[num_cols + [target]].corr(), vmin=0,vmax=1,annot=True,fmt='.2f', linewidths=.5 )\n",
    "plt.show()"
   ]
  },
  {
   "cell_type": "markdown",
   "metadata": {
    "papermill": {
     "duration": 0.0391,
     "end_time": "2021-02-03T18:53:33.314659",
     "exception": false,
     "start_time": "2021-02-03T18:53:33.275559",
     "status": "completed"
    },
    "tags": []
   },
   "source": [
    "In general, the numerical features are weakly correlated."
   ]
  },
  {
   "cell_type": "code",
   "execution_count": 22,
   "metadata": {
    "execution": {
     "iopub.execute_input": "2021-02-03T18:53:33.397662Z",
     "iopub.status.busy": "2021-02-03T18:53:33.395810Z",
     "iopub.status.idle": "2021-02-03T18:53:33.405607Z",
     "shell.execute_reply": "2021-02-03T18:53:33.405022Z"
    },
    "papermill": {
     "duration": 0.053661,
     "end_time": "2021-02-03T18:53:33.405736",
     "exception": false,
     "start_time": "2021-02-03T18:53:33.352075",
     "status": "completed"
    },
    "tags": []
   },
   "outputs": [],
   "source": [
    "# update df_train\n",
    "df_train = df[df.part==1]"
   ]
  },
  {
   "cell_type": "code",
   "execution_count": 23,
   "metadata": {
    "execution": {
     "iopub.execute_input": "2021-02-03T18:53:33.489962Z",
     "iopub.status.busy": "2021-02-03T18:53:33.489266Z",
     "iopub.status.idle": "2021-02-03T18:53:33.639691Z",
     "shell.execute_reply": "2021-02-03T18:53:33.639104Z"
    },
    "papermill": {
     "duration": 0.197023,
     "end_time": "2021-02-03T18:53:33.639805",
     "exception": false,
     "start_time": "2021-02-03T18:53:33.442782",
     "status": "completed"
    },
    "scrolled": true,
    "tags": []
   },
   "outputs": [
    {
     "data": {
      "image/png": "[encoded data removed]",
      "text/plain": [
       "<Figure size 432x288 with 1 Axes>"
      ]
     },
     "metadata": {
      "needs_background": "light"
     },
     "output_type": "display_data"
    }
   ],
   "source": [
    "# importance of numeric features\n",
    "\n",
    "imp_num = Series(f_classif(df_train[num_cols], df_train[target])[0],\n",
    "                 index = num_cols).sort_values()\n",
    "imp_num.plot(kind = 'barh')\n",
    "plt.title('Importance of numeric features')\n",
    "plt.show()"
   ]
  },
  {
   "cell_type": "markdown",
   "metadata": {
    "papermill": {
     "duration": 0.038161,
     "end_time": "2021-02-03T18:53:33.715056",
     "exception": false,
     "start_time": "2021-02-03T18:53:33.676895",
     "status": "completed"
    },
    "tags": []
   },
   "source": [
    "So, the most important feature among the numerical is 'score_bki', then - 'declain_app_cnt', \n",
    "The least significant attribute is 'age'."
   ]
  },
  {
   "cell_type": "code",
   "execution_count": 24,
   "metadata": {
    "execution": {
     "iopub.execute_input": "2021-02-03T18:53:33.799491Z",
     "iopub.status.busy": "2021-02-03T18:53:33.798819Z",
     "iopub.status.idle": "2021-02-03T18:53:34.083057Z",
     "shell.execute_reply": "2021-02-03T18:53:34.082505Z"
    },
    "papermill": {
     "duration": 0.33062,
     "end_time": "2021-02-03T18:53:34.083164",
     "exception": false,
     "start_time": "2021-02-03T18:53:33.752544",
     "status": "completed"
    },
    "scrolled": true,
    "tags": []
   },
   "outputs": [
    {
     "data": {
      "image/png": "[encoded data removed]",
      "text/plain": [
       "<Figure size 432x288 with 1 Axes>"
      ]
     },
     "metadata": {
      "needs_background": "light"
     },
     "output_type": "display_data"
    }
   ],
   "source": [
    "# importance of categorical and bin\n",
    "\n",
    "mi = mutual_info_classif(df_train[cat_cols+bin_cols], df_train[target], discrete_features=True)\n",
    "#mi = mutual_info_classif(df_train[cat_cols+bin_cols], df_train[target], discrete_features=True)\n",
    "pd.Series(mi, index=cat_cols+bin_cols).sort_values(ascending=True).plot(kind='barh')\n",
    "plt.title('Importance of categorical features')\n",
    "plt.show()"
   ]
  },
  {
   "cell_type": "markdown",
   "metadata": {
    "papermill": {
     "duration": 0.038025,
     "end_time": "2021-02-03T18:53:34.160140",
     "exception": false,
     "start_time": "2021-02-03T18:53:34.122115",
     "status": "completed"
    },
    "tags": []
   },
   "source": [
    "<pre>\n",
    "The most significant features: 'sna','first_time','address'\n",
    "The least: sex\n",
    "</pre>"
   ]
  },
  {
   "cell_type": "markdown",
   "metadata": {
    "papermill": {
     "duration": 0.038225,
     "end_time": "2021-02-03T18:53:34.237362",
     "exception": false,
     "start_time": "2021-02-03T18:53:34.199137",
     "status": "completed"
    },
    "tags": []
   },
   "source": [
    "# 3. Machine learning"
   ]
  },
  {
   "cell_type": "markdown",
   "metadata": {
    "papermill": {
     "duration": 0.037806,
     "end_time": "2021-02-03T18:53:34.313887",
     "exception": false,
     "start_time": "2021-02-03T18:53:34.276081",
     "status": "completed"
    },
    "tags": []
   },
   "source": [
    "### 3.1. Data preparation"
   ]
  },
  {
   "cell_type": "code",
   "execution_count": 25,
   "metadata": {
    "execution": {
     "iopub.execute_input": "2021-02-03T18:53:34.401901Z",
     "iopub.status.busy": "2021-02-03T18:53:34.398277Z",
     "iopub.status.idle": "2021-02-03T18:53:34.406336Z",
     "shell.execute_reply": "2021-02-03T18:53:34.407380Z"
    },
    "papermill": {
     "duration": 0.055425,
     "end_time": "2021-02-03T18:53:34.407616",
     "exception": false,
     "start_time": "2021-02-03T18:53:34.352191",
     "status": "completed"
    },
    "tags": []
   },
   "outputs": [
    {
     "name": "stdout",
     "output_type": "stream",
     "text": [
      "['education', 'work_address', 'sna', 'first_time', 'region_rating']\n"
     ]
    }
   ],
   "source": [
    "df = df.drop(['education_code'], axis=1)\n",
    "cat_cols[0] = 'education'\n",
    "print(cat_cols)"
   ]
  },
  {
   "cell_type": "code",
   "execution_count": 26,
   "metadata": {
    "execution": {
     "iopub.execute_input": "2021-02-03T18:53:34.506122Z",
     "iopub.status.busy": "2021-02-03T18:53:34.491595Z",
     "iopub.status.idle": "2021-02-03T18:53:34.535877Z",
     "shell.execute_reply": "2021-02-03T18:53:34.535277Z"
    },
    "papermill": {
     "duration": 0.089209,
     "end_time": "2021-02-03T18:53:34.535999",
     "exception": false,
     "start_time": "2021-02-03T18:53:34.446790",
     "status": "completed"
    },
    "tags": []
   },
   "outputs": [],
   "source": [
    "# categorical columns\n",
    "\n",
    "# OneHotLabels with get_dummies\n",
    "df = pd.get_dummies(df, prefix=cat_cols, columns=cat_cols)"
   ]
  },
  {
   "cell_type": "markdown",
   "metadata": {
    "papermill": {
     "duration": 0.038764,
     "end_time": "2021-02-03T18:53:34.613611",
     "exception": false,
     "start_time": "2021-02-03T18:53:34.574847",
     "status": "completed"
    },
    "tags": []
   },
   "source": [
    "### 3.2. Build a model"
   ]
  },
  {
   "cell_type": "code",
   "execution_count": 28,
   "metadata": {
    "execution": {
     "iopub.execute_input": "2021-02-03T18:53:34.698883Z",
     "iopub.status.busy": "2021-02-03T18:53:34.697836Z",
     "iopub.status.idle": "2021-02-03T18:53:34.737220Z",
     "shell.execute_reply": "2021-02-03T18:53:34.736540Z"
    },
    "papermill": {
     "duration": 0.084463,
     "end_time": "2021-02-03T18:53:34.737367",
     "exception": false,
     "start_time": "2021-02-03T18:53:34.652904",
     "status": "completed"
    },
    "tags": []
   },
   "outputs": [
    {
     "name": "stdout",
     "output_type": "stream",
     "text": [
      "train:  (73799, 36)\n",
      "test:  (36349, 36)\n"
     ]
    }
   ],
   "source": [
    "train_data = df.query('part == 1').drop(['part', 'client_id'], axis=1)\n",
    "test_data = df.query('part == 0').drop(['part', 'client_id'], axis=1)\n",
    "print('train: ', train_data.shape)\n",
    "print('test: ', test_data.shape)"
   ]
  },
  {
   "cell_type": "code",
   "execution_count": 29,
   "metadata": {
    "execution": {
     "iopub.execute_input": "2021-02-03T18:53:34.824947Z",
     "iopub.status.busy": "2021-02-03T18:53:34.824061Z",
     "iopub.status.idle": "2021-02-03T18:53:34.828009Z",
     "shell.execute_reply": "2021-02-03T18:53:34.827366Z"
    },
    "papermill": {
     "duration": 0.051614,
     "end_time": "2021-02-03T18:53:34.828120",
     "exception": false,
     "start_time": "2021-02-03T18:53:34.776506",
     "status": "completed"
    },
    "tags": []
   },
   "outputs": [],
   "source": [
    "X = train_data.drop(['default'], axis=1)\n",
    "y = train_data.default.values # target"
   ]
  },
  {
   "cell_type": "code",
   "execution_count": 30,
   "metadata": {
    "execution": {
     "iopub.execute_input": "2021-02-03T18:53:34.915597Z",
     "iopub.status.busy": "2021-02-03T18:53:34.913261Z",
     "iopub.status.idle": "2021-02-03T18:53:34.931641Z",
     "shell.execute_reply": "2021-02-03T18:53:34.932198Z"
    },
    "papermill": {
     "duration": 0.064742,
     "end_time": "2021-02-03T18:53:34.932375",
     "exception": false,
     "start_time": "2021-02-03T18:53:34.867633",
     "status": "completed"
    },
    "scrolled": true,
    "tags": []
   },
   "outputs": [
    {
     "name": "stdout",
     "output_type": "stream",
     "text": [
      "(59039, 35)\n",
      "(14760, 35)\n"
     ]
    }
   ],
   "source": [
    "# split the data into the training and test parts\n",
    "\n",
    "X_train, X_test, y_train, y_test = train_test_split(X, y, test_size=0.2, random_state=42)\n",
    "print(X_train.shape) \n",
    "print(X_test.shape)"
   ]
  },
  {
   "cell_type": "code",
   "execution_count": 31,
   "metadata": {
    "execution": {
     "iopub.execute_input": "2021-02-03T18:53:35.023185Z",
     "iopub.status.busy": "2021-02-03T18:53:35.022407Z",
     "iopub.status.idle": "2021-02-03T18:53:36.823315Z",
     "shell.execute_reply": "2021-02-03T18:53:36.822676Z"
    },
    "papermill": {
     "duration": 1.850249,
     "end_time": "2021-02-03T18:53:36.823429",
     "exception": false,
     "start_time": "2021-02-03T18:53:34.973180",
     "status": "completed"
    },
    "tags": []
   },
   "outputs": [
    {
     "name": "stdout",
     "output_type": "stream",
     "text": [
      "Accuracy: 0.8751\n",
      "Precision: 0.4045\n",
      "Recall: 0.0197\n",
      "F1: 0.0376\n"
     ]
    }
   ],
   "source": [
    "model = LogisticRegression(random_state=RANDOM_SEED, max_iter = 1000) # type of model\n",
    "model.fit(X_train, y_train)\n",
    "y_pred = model.predict(X_test)\n",
    "\n",
    "# print metrics\n",
    "print('Accuracy: %.4f' % accuracy_score(y_test, y_pred))\n",
    "print('Precision: %.4f' % precision_score(y_test, y_pred))\n",
    "print('Recall: %.4f' % recall_score(y_test, y_pred))\n",
    "print('F1: %.4f' % f1_score(y_test, y_pred))"
   ]
  },
  {
   "cell_type": "code",
   "execution_count": 32,
   "metadata": {
    "execution": {
     "iopub.execute_input": "2021-02-03T18:53:36.914119Z",
     "iopub.status.busy": "2021-02-03T18:53:36.913473Z",
     "iopub.status.idle": "2021-02-03T18:53:36.918415Z",
     "shell.execute_reply": "2021-02-03T18:53:36.917885Z"
    },
    "papermill": {
     "duration": 0.052177,
     "end_time": "2021-02-03T18:53:36.918540",
     "exception": false,
     "start_time": "2021-02-03T18:53:36.866363",
     "status": "completed"
    },
    "scrolled": true,
    "tags": []
   },
   "outputs": [],
   "source": [
    "# instantiate a model\n",
    "model = LogisticRegression(random_state=RANDOM_SEED) # type of model\n",
    "\n",
    "# Selection of hyperparameters\n",
    "iter_ = 1000 # iterations\n",
    "epsilon_stop = 1e-5 # delta\n",
    "\n",
    "\n",
    "param_grid = [\n",
    "#    {'penalty': ['l1', 'l2'],\n",
    "#   'C': [7,10],\n",
    "#    'solver': ['newton-cg', 'lbfgs', 'liblinear', 'sag', 'saga'], \n",
    "     'class_weight':['balanced'], 'multi_class': ['auto','ovr'], \n",
    "      'max_iter':[iter_], \n",
    "     'tol':[epsilon_stop]\n",
    "    }\n",
    "]\n"
   ]
  },
  {
   "cell_type": "code",
   "execution_count": 33,
   "metadata": {
    "execution": {
     "iopub.execute_input": "2021-02-03T18:53:37.010201Z",
     "iopub.status.busy": "2021-02-03T18:53:37.009502Z",
     "iopub.status.idle": "2021-02-03T18:53:44.794720Z",
     "shell.execute_reply": "2021-02-03T18:53:44.795338Z"
    },
    "papermill": {
     "duration": 7.835086,
     "end_time": "2021-02-03T18:53:44.795509",
     "exception": false,
     "start_time": "2021-02-03T18:53:36.960423",
     "status": "completed"
    },
    "scrolled": true,
    "tags": []
   },
   "outputs": [],
   "source": [
    "# Create a grid search\n",
    "\n",
    "gridsearch = GridSearchCV(model, param_grid, scoring='f1', n_jobs=-1, cv=5)\n",
    "\n",
    "# fit the gridsearch with training data\n",
    "gridsearch.fit(X_train, y_train)\n",
    "\n",
    "model = gridsearch.best_estimator_"
   ]
  },
  {
   "cell_type": "code",
   "execution_count": 34,
   "metadata": {
    "execution": {
     "iopub.execute_input": "2021-02-03T18:53:44.881990Z",
     "iopub.status.busy": "2021-02-03T18:53:44.880931Z",
     "iopub.status.idle": "2021-02-03T18:53:44.892890Z",
     "shell.execute_reply": "2021-02-03T18:53:44.892101Z"
    },
    "papermill": {
     "duration": 0.056435,
     "end_time": "2021-02-03T18:53:44.893059",
     "exception": false,
     "start_time": "2021-02-03T18:53:44.836624",
     "status": "completed"
    },
    "scrolled": true,
    "tags": []
   },
   "outputs": [
    {
     "name": "stdout",
     "output_type": "stream",
     "text": [
      "\tC: 1.0\n",
      "\tclass_weight: 'balanced'\n",
      "\tdual: False\n",
      "\tfit_intercept: True\n",
      "\tintercept_scaling: 1\n",
      "\tl1_ratio: None\n",
      "\tmax_iter: 1000\n",
      "\tmulti_class: 'auto'\n",
      "\tn_jobs: None\n",
      "\tpenalty: 'l2'\n",
      "\trandom_state: 42\n",
      "\tsolver: 'lbfgs'\n",
      "\ttol: 1e-05\n",
      "\tverbose: 0\n",
      "\twarm_start: False\n"
     ]
    }
   ],
   "source": [
    "# View best hyperparameters\n",
    "best_parameters = model.get_params()\n",
    "f=lambda param_name: ('\\t%s: %r' % (param_name, best_parameters[param_name]))\n",
    "print(*map( f, best_parameters.keys() ), sep='\\n')"
   ]
  },
  {
   "cell_type": "code",
   "execution_count": 35,
   "metadata": {
    "execution": {
     "iopub.execute_input": "2021-02-03T18:53:44.981915Z",
     "iopub.status.busy": "2021-02-03T18:53:44.980887Z",
     "iopub.status.idle": "2021-02-03T18:53:45.459617Z",
     "shell.execute_reply": "2021-02-03T18:53:45.460134Z"
    },
    "papermill": {
     "duration": 0.524515,
     "end_time": "2021-02-03T18:53:45.460276",
     "exception": false,
     "start_time": "2021-02-03T18:53:44.935761",
     "status": "completed"
    },
    "scrolled": false,
    "tags": []
   },
   "outputs": [
    {
     "name": "stdout",
     "output_type": "stream",
     "text": [
      "Accuracy: 0.6697\n",
      "Precision: 0.2252\n",
      "Recall: 0.6836\n",
      "F1: 0.3388\n"
     ]
    }
   ],
   "source": [
    "# build model with best parameters\n",
    "\n",
    "model = LogisticRegression(random_state=RANDOM_SEED, \n",
    "                        C = 7,\n",
    "                        class_weight = 'balanced',\n",
    "                        dual = False,\n",
    "                        fit_intercept = True,\n",
    "                        intercept_scaling = 1,\n",
    "                        l1_ratio = None,\n",
    "                        max_iter = 1000,\n",
    "                        multi_class = 'auto',\n",
    "                        n_jobs = None,\n",
    "                        penalty = 'l2',                        \n",
    "                        solver = 'liblinear',\n",
    "                        tol = 1e-05,\n",
    "                        verbose = 0,\n",
    "                        warm_start = False\n",
    "                          )\n",
    "\n",
    "model.fit(X_train, y_train)\n",
    "\n",
    "y_pred_prob = model.predict_proba(X_test)[:,1]\n",
    "y_pred = model.predict(X_test)\n",
    "\n",
    "print('Accuracy: %.4f' % accuracy_score(y_test, y_pred))\n",
    "print('Precision: %.4f' % precision_score(y_test, y_pred))\n",
    "print('Recall: %.4f' % recall_score(y_test, y_pred))\n",
    "print('F1: %.4f' % f1_score(y_test, y_pred))"
   ]
  },
  {
   "cell_type": "markdown",
   "metadata": {},
   "source": [
    "#### 3.3. Build ROC AUС"
   ]
  },
  {
   "cell_type": "code",
   "execution_count": 38,
   "metadata": {
    "execution": {
     "iopub.execute_input": "2021-02-03T18:53:45.548511Z",
     "iopub.status.busy": "2021-02-03T18:53:45.547514Z",
     "iopub.status.idle": "2021-02-03T18:53:45.735571Z",
     "shell.execute_reply": "2021-02-03T18:53:45.736114Z"
    },
    "papermill": {
     "duration": 0.233787,
     "end_time": "2021-02-03T18:53:45.736261",
     "exception": false,
     "start_time": "2021-02-03T18:53:45.502474",
     "status": "completed"
    },
    "scrolled": true,
    "tags": []
   },
   "outputs": [
    {
     "data": {
      "image/png": "[encoded data removed]",
      "text/plain": [
       "<Figure size 432x288 with 1 Axes>"
      ]
     },
     "metadata": {
      "needs_background": "light"
     },
     "output_type": "display_data"
    }
   ],
   "source": [
    "probs = model.predict_proba(X_test)\n",
    "probs = probs[:,1]\n",
    "\n",
    "fpr, tpr, threshold = roc_curve(y_test, probs)\n",
    "roc_auc = roc_auc_score(y_test, probs)\n",
    "\n",
    "plt.figure()\n",
    "plt.plot([0, 1], label='baseline', linestyle='--')\n",
    "plt.plot(fpr, tpr, label = 'Regression')\n",
    "plt.title('Logistic Regression ROC AUC = %0.5f' % roc_auc)\n",
    "plt.ylabel('True Positive Rate')\n",
    "plt.xlabel('False Positive Rate')\n",
    "plt.legend(loc = 'lower right')\n",
    "plt.show()"
   ]
  },
  {
   "cell_type": "markdown",
   "metadata": {
    "papermill": {
     "duration": 0.042776,
     "end_time": "2021-02-03T18:53:45.822834",
     "exception": false,
     "start_time": "2021-02-03T18:53:45.780058",
     "status": "completed"
    },
    "tags": []
   },
   "source": [
    "### 3.4. Submission"
   ]
  },
  {
   "cell_type": "code",
   "execution_count": 39,
   "metadata": {
    "execution": {
     "iopub.execute_input": "2021-02-03T18:53:45.912782Z",
     "iopub.status.busy": "2021-02-03T18:53:45.911739Z",
     "iopub.status.idle": "2021-02-03T18:53:45.928425Z",
     "shell.execute_reply": "2021-02-03T18:53:45.928914Z"
    },
    "papermill": {
     "duration": 0.06325,
     "end_time": "2021-02-03T18:53:45.929072",
     "exception": false,
     "start_time": "2021-02-03T18:53:45.865822",
     "status": "completed"
    },
    "tags": []
   },
   "outputs": [],
   "source": [
    "X_train = train_data.drop(['default'], axis=1)\n",
    "y_train = train_data.default.values # target\n",
    "\n",
    "X_test = test_data.drop(['default'], axis=1)"
   ]
  },
  {
   "cell_type": "code",
   "execution_count": 40,
   "metadata": {
    "execution": {
     "iopub.execute_input": "2021-02-03T18:53:46.025058Z",
     "iopub.status.busy": "2021-02-03T18:53:46.019327Z",
     "iopub.status.idle": "2021-02-03T18:53:46.484787Z",
     "shell.execute_reply": "2021-02-03T18:53:46.483560Z"
    },
    "papermill": {
     "duration": 0.512315,
     "end_time": "2021-02-03T18:53:46.484928",
     "exception": false,
     "start_time": "2021-02-03T18:53:45.972613",
     "status": "completed"
    },
    "tags": []
   },
   "outputs": [],
   "source": [
    "y_pred_prob = model.predict_proba(X_test)[:,1]\n",
    "\n",
    "submit = pd.DataFrame(df_test.client_id)\n",
    "submit['default'] = y_pred_prob\n",
    "submit.to_csv('submission.csv', index=False)"
   ]
  }
 ],
 "metadata": {
  "kernelspec": {
   "display_name": "Python 3",
   "language": "python",
   "name": "python3"
  },
  "language_info": {
   "codemirror_mode": {
    "name": "ipython",
    "version": 3
   },
   "file_extension": ".py",
   "mimetype": "text/x-python",
   "name": "python",
   "nbconvert_exporter": "python",
   "pygments_lexer": "ipython3",
   "version": "3.7.6"
  },
  "papermill": {
   "duration": 30.105782,
   "end_time": "2021-02-03T18:53:47.623545",
   "environment_variables": {},
   "exception": null,
   "input_path": "__notebook__.ipynb",
   "output_path": "__notebook__.ipynb",
   "parameters": {},
   "start_time": "2021-02-03T18:53:17.517763",
   "version": "2.1.0"
  }
 },
 "nbformat": 4,
 "nbformat_minor": 4
}
