{
 "cells": [
  {
   "cell_type": "code",
   "execution_count": 4,
   "metadata": {},
   "outputs": [],
   "source": [
    "%reset -f"
   ]
  },
  {
   "cell_type": "code",
   "execution_count": 5,
   "metadata": {},
   "outputs": [],
   "source": [
    "import requests\n",
    "import json\n",
    "import time\n",
    "\n",
    "import pandas as pd\n",
    "import numpy as np\n",
    "from pandas import Series\n",
    "import matplotlib.pyplot as plt\n",
    "import seaborn as sns\n",
    "%matplotlib inline\n",
    "\n",
    "from sklearn.ensemble import RandomForestRegressor, GradientBoostingRegressor, StackingRegressor\n",
    "from sklearn.feature_selection import f_classif, mutual_info_classif\n",
    "from sklearn.model_selection import train_test_split, GridSearchCV, KFold\n",
    "from sklearn.preprocessing import LabelEncoder\n",
    "from sklearn.metrics import make_scorer\n",
    "\n",
    "from catboost import CatBoostRegressor\n",
    "from lightgbm import LGBMRegressor\n",
    "from xgboost import XGBRegressor\n",
    "\n",
    "from pprint import pprint"
   ]
  },
  {
   "cell_type": "code",
   "execution_count": 2,
   "metadata": {},
   "outputs": [],
   "source": [
    "# fix package version\n",
    "!pip freeze > requirements.txt\n",
    "# fix RANDOM_SEED"
   ]
  },
  {
   "cell_type": "code",
   "execution_count": 6,
   "metadata": {
    "scrolled": true
   },
   "outputs": [],
   "source": [
    "pd.set_option('display.max_rows', 50) # show more rows\n",
    "pd.set_option('display.max_columns', 50) # show more columns\n",
    "RANDOM_SEED = 42 # fix RANDOM_SEED"
   ]
  },
  {
   "cell_type": "code",
   "execution_count": 77,
   "metadata": {
    "scrolled": true
   },
   "outputs": [
    {
     "data": {
      "text/html": [
       "<div>\n",
       "<style scoped>\n",
       "    .dataframe tbody tr th:only-of-type {\n",
       "        vertical-align: middle;\n",
       "    }\n",
       "\n",
       "    .dataframe tbody tr th {\n",
       "        vertical-align: top;\n",
       "    }\n",
       "\n",
       "    .dataframe thead th {\n",
       "        text-align: right;\n",
       "    }\n",
       "</style>\n",
       "<table border=\"1\" class=\"dataframe\">\n",
       "  <thead>\n",
       "    <tr style=\"text-align: right;\">\n",
       "      <th></th>\n",
       "      <th>bodyType</th>\n",
       "      <th>brand</th>\n",
       "      <th>car_url</th>\n",
       "      <th>color</th>\n",
       "      <th>complectation_dict</th>\n",
       "      <th>description</th>\n",
       "      <th>engineDisplacement</th>\n",
       "      <th>enginePower</th>\n",
       "      <th>equipment_dict</th>\n",
       "      <th>fuelType</th>\n",
       "      <th>image</th>\n",
       "      <th>mileage</th>\n",
       "      <th>modelDate</th>\n",
       "      <th>model_info</th>\n",
       "      <th>model_name</th>\n",
       "      <th>name</th>\n",
       "      <th>numberOfDoors</th>\n",
       "      <th>parsing_unixtime</th>\n",
       "      <th>priceCurrency</th>\n",
       "      <th>productionDate</th>\n",
       "      <th>sell_id</th>\n",
       "      <th>super_gen</th>\n",
       "      <th>vehicleConfiguration</th>\n",
       "      <th>vehicleTransmission</th>\n",
       "      <th>vendor</th>\n",
       "      <th>Владельцы</th>\n",
       "      <th>Владение</th>\n",
       "      <th>ПТС</th>\n",
       "      <th>Привод</th>\n",
       "      <th>Руль</th>\n",
       "      <th>Состояние</th>\n",
       "      <th>Таможня</th>\n",
       "    </tr>\n",
       "  </thead>\n",
       "  <tbody>\n",
       "    <tr>\n",
       "      <th>4382</th>\n",
       "      <td>хэтчбек 5 дв.</td>\n",
       "      <td>AUDI</td>\n",
       "      <td>https://auto.ru/cars/used/sale/audi/a2/1100577...</td>\n",
       "      <td>чёрный</td>\n",
       "      <td>NaN</td>\n",
       "      <td>Машина полностью обслужена, два комплекта ново...</td>\n",
       "      <td>1.2 LTR</td>\n",
       "      <td>61 N12</td>\n",
       "      <td>{\"tinted-glass\":true,\"esp\":true,\"ptf\":true,\"st...</td>\n",
       "      <td>дизель</td>\n",
       "      <td>https://avatars.mds.yandex.net/get-autoru-vos/...</td>\n",
       "      <td>179000</td>\n",
       "      <td>2000</td>\n",
       "      <td>{\"code\":\"A2\",\"name\":\"A2\",\"ru_name\":\"А2\",\"morph...</td>\n",
       "      <td>A2</td>\n",
       "      <td>1.2d AMT (61 л.с.)</td>\n",
       "      <td>5</td>\n",
       "      <td>1603129457</td>\n",
       "      <td>RUB</td>\n",
       "      <td>2001</td>\n",
       "      <td>1100577972</td>\n",
       "      <td>{\"id\":\"4720889\",\"displacement\":1191,\"engine_ty...</td>\n",
       "      <td>HATCHBACK_5_DOORS ROBOT 1.2</td>\n",
       "      <td>роботизированная</td>\n",
       "      <td>EUROPEAN</td>\n",
       "      <td>3 или более</td>\n",
       "      <td>7 лет и 3 месяца</td>\n",
       "      <td>Дубликат</td>\n",
       "      <td>передний</td>\n",
       "      <td>Левый</td>\n",
       "      <td>Не требует ремонта</td>\n",
       "      <td>Растаможен</td>\n",
       "    </tr>\n",
       "  </tbody>\n",
       "</table>\n",
       "</div>"
      ],
      "text/plain": [
       "           bodyType brand                                            car_url  \\\n",
       "4382  хэтчбек 5 дв.  AUDI  https://auto.ru/cars/used/sale/audi/a2/1100577...   \n",
       "\n",
       "       color complectation_dict  \\\n",
       "4382  чёрный                NaN   \n",
       "\n",
       "                                            description engineDisplacement  \\\n",
       "4382  Машина полностью обслужена, два комплекта ново...            1.2 LTR   \n",
       "\n",
       "     enginePower                                     equipment_dict fuelType  \\\n",
       "4382      61 N12  {\"tinted-glass\":true,\"esp\":true,\"ptf\":true,\"st...   дизель   \n",
       "\n",
       "                                                  image  mileage  modelDate  \\\n",
       "4382  https://avatars.mds.yandex.net/get-autoru-vos/...   179000       2000   \n",
       "\n",
       "                                             model_info model_name  \\\n",
       "4382  {\"code\":\"A2\",\"name\":\"A2\",\"ru_name\":\"А2\",\"morph...         A2   \n",
       "\n",
       "                    name  numberOfDoors  parsing_unixtime priceCurrency  \\\n",
       "4382  1.2d AMT (61 л.с.)              5        1603129457           RUB   \n",
       "\n",
       "      productionDate     sell_id  \\\n",
       "4382            2001  1100577972   \n",
       "\n",
       "                                              super_gen  \\\n",
       "4382  {\"id\":\"4720889\",\"displacement\":1191,\"engine_ty...   \n",
       "\n",
       "             vehicleConfiguration vehicleTransmission    vendor    Владельцы  \\\n",
       "4382  HATCHBACK_5_DOORS ROBOT 1.2    роботизированная  EUROPEAN  3 или более   \n",
       "\n",
       "              Владение       ПТС    Привод   Руль           Состояние  \\\n",
       "4382  7 лет и 3 месяца  Дубликат  передний  Левый  Не требует ремонта   \n",
       "\n",
       "         Таможня  \n",
       "4382  Растаможен  "
      ]
     },
     "execution_count": 77,
     "metadata": {},
     "output_type": "execute_result"
    }
   ],
   "source": [
    "# load data\n",
    "submit = pd.read_csv('data/submission_kaggle.csv')\n",
    "test = pd.read_csv('data/test_kaggle.csv') # test data from kaggle\n",
    "test.sample(1)"
   ]
  },
  {
   "cell_type": "markdown",
   "metadata": {},
   "source": [
    "## 0. Parsing"
   ]
  },
  {
   "cell_type": "code",
   "execution_count": 987,
   "metadata": {},
   "outputs": [
    {
     "data": {
      "text/plain": [
       "array(['SKODA', 'AUDI', 'HONDA', 'VOLVO', 'BMW', 'NISSAN', 'INFINITI',\n",
       "       'MERCEDES', 'TOYOTA', 'LEXUS', 'VOLKSWAGEN', 'MITSUBISHI'],\n",
       "      dtype=object)"
      ]
     },
     "execution_count": 987,
     "metadata": {},
     "output_type": "execute_result"
    }
   ],
   "source": [
    "# save unque brands\n",
    "brands = df_test.brand.unique()\n",
    "brands"
   ]
  },
  {
   "cell_type": "code",
   "execution_count": 988,
   "metadata": {
    "scrolled": true
   },
   "outputs": [],
   "source": [
    "url = 'https://auto.ru/-/ajax/desktop/listing/'\n",
    "\n",
    "param =  { # request paramters\n",
    "    \"catalog_filter\": {\"mark\": \"\" },\n",
    "\t\"category\": \"cars\",\n",
    "\t\"geo_id\": 213,\t# moscow region\n",
    "\t\"geo_radius\": 200,\n",
    "\t\"page\": '',\n",
    "\t\"section\": \"used\"\n",
    "}\n",
    "\n",
    "headers =  \"\"\"\n",
    "x-csrf-token: 84cdcc823a18ee2d1227f4c03d56e2ab5343d1a695027659\n",
    "x-requested-with: fetch\n",
    "content-type: application/json\n",
    "Cookie: _csrf_token=84cdcc823a18ee2d1227f4c03d56e2ab5343d1a695027659; autoru_sid=a%3Ag6042469b2c9hrb08e1n1muei0n7e7gn.a0d602345514707622b6b24f21d5d4aa%7C1614956187510.604800.TPJZh4BUmN2Wt0FC_jmZrQ.NHzt-Jka93A1pmYOHgGzxnz4Brc2lQ0g7MdRW-DmzpY; autoruuid=g6042469b2c9hrb08e1n1muei0n7e7gn.a0d602345514707622b6b24f21d5d4aa; autoru_gdpr=1; suid=1d270ae91acc0fa82a86a19ea598ba32.5825ab4cd7b1312d26da39f617f8c149; from_lifetime=1615122225520; from=direct; yuidlt=1; yandexuid=5621063921614956192; crookie=Kuztm6dub/2iVJP2c+bLZ7mVDOwQLsORYc5dG81VEpwhIfPvhNzyLP/jxLClA7DoKXL+/6w7iT7XhGWDrxmU3u2sd74=; cmtchd=MTYxNDk1NjE5NzI1MA==; bltsr=1; autoru-visits-count=3; X-Vertis-DC=sas; autoru-visits-session-unexpired=1; spravka=dD0xNTgzNTg2MjI5O2k9ODQuNDIuMTg3LjEzMDt1PTE1ODM1ODYyMjk2NTEwNzY1MTU7aD1kOTBkOGQ0ZDJhZGRhZWNlYjY3MmI1MDQwNjcyNTYzZg==\n",
    "\"\"\".strip().split('\\n')\n",
    "\n",
    "#proxies = {\n",
    "#    \"https\": '88.205.225.203:3128',\n",
    "#}\n",
    "\n",
    "# convert headers to dictionary\n",
    "headers_dict = dict(list(map(lambda h: h.split(': '), headers)))"
   ]
  },
  {
   "cell_type": "code",
   "execution_count": 262,
   "metadata": {
    "scrolled": true
   },
   "outputs": [
    {
     "name": "stdout",
     "output_type": "stream",
     "text": [
      "offers:  26491\n"
     ]
    }
   ],
   "source": [
    "offers = [] # list for collected data\n",
    "\n",
    "# get all offers (long process)\n",
    "for n in range(1,100):\n",
    "    for brand in brands:\n",
    "        param['page'] = n\n",
    "        param[\"catalog_filter\"][\"mark\"]=brand\n",
    "        response = requests.post(url, json=param, headers=headers_dict)\n",
    "        time.sleep(1)\n",
    "        data = response.json() # get json    \n",
    "        offers.extend(data['offers']) # add to list 'offers' every element from list\n",
    "\n",
    "print(\"offers: \", len(offers))"
   ]
  },
  {
   "cell_type": "code",
   "execution_count": 263,
   "metadata": {},
   "outputs": [],
   "source": [
    "# save data to json file\n",
    "with open('data/data.json', 'w') as f:\n",
    "    json.dump(offers, f)"
   ]
  },
  {
   "cell_type": "markdown",
   "metadata": {},
   "source": [
    "## 1. Preprocessing"
   ]
  },
  {
   "cell_type": "markdown",
   "metadata": {},
   "source": [
    "### 1.1. prepare test data"
   ]
  },
  {
   "cell_type": "code",
   "execution_count": 280,
   "metadata": {},
   "outputs": [
    {
     "name": "stdout",
     "output_type": "stream",
     "text": [
      "% of nan values:\n",
      " complectation_dict    81.5\n",
      "Владение              65.4\n",
      "dtype: float64\n"
     ]
    },
    {
     "data": {
      "text/html": [
       "<div>\n",
       "<style scoped>\n",
       "    .dataframe tbody tr th:only-of-type {\n",
       "        vertical-align: middle;\n",
       "    }\n",
       "\n",
       "    .dataframe tbody tr th {\n",
       "        vertical-align: top;\n",
       "    }\n",
       "\n",
       "    .dataframe thead th {\n",
       "        text-align: right;\n",
       "    }\n",
       "</style>\n",
       "<table border=\"1\" class=\"dataframe\">\n",
       "  <thead>\n",
       "    <tr style=\"text-align: right;\">\n",
       "      <th></th>\n",
       "      <th>bodyType</th>\n",
       "      <th>brand</th>\n",
       "      <th>car_url</th>\n",
       "      <th>color</th>\n",
       "      <th>complectation_dict</th>\n",
       "      <th>description</th>\n",
       "      <th>engineDisplacement</th>\n",
       "      <th>enginePower</th>\n",
       "      <th>equipment_dict</th>\n",
       "      <th>fuelType</th>\n",
       "      <th>image</th>\n",
       "      <th>mileage</th>\n",
       "      <th>modelDate</th>\n",
       "      <th>model_info</th>\n",
       "      <th>model_name</th>\n",
       "      <th>name</th>\n",
       "      <th>numberOfDoors</th>\n",
       "      <th>parsing_unixtime</th>\n",
       "      <th>priceCurrency</th>\n",
       "      <th>productionDate</th>\n",
       "      <th>sell_id</th>\n",
       "      <th>super_gen</th>\n",
       "      <th>vehicleConfiguration</th>\n",
       "      <th>vehicleTransmission</th>\n",
       "      <th>vendor</th>\n",
       "      <th>Владельцы</th>\n",
       "      <th>Владение</th>\n",
       "      <th>ПТС</th>\n",
       "      <th>Привод</th>\n",
       "      <th>Руль</th>\n",
       "      <th>Состояние</th>\n",
       "      <th>Таможня</th>\n",
       "    </tr>\n",
       "  </thead>\n",
       "  <tbody>\n",
       "    <tr>\n",
       "      <th>0</th>\n",
       "      <td>лифтбек</td>\n",
       "      <td>SKODA</td>\n",
       "      <td>https://auto.ru/cars/used/sale/skoda/octavia/1...</td>\n",
       "      <td>синий</td>\n",
       "      <td>NaN</td>\n",
       "      <td>Все автомобили, представленные в продаже, прох...</td>\n",
       "      <td>1.2 LTR</td>\n",
       "      <td>105 N12</td>\n",
       "      <td>{\"engine-proof\":true,\"tinted-glass\":true,\"airb...</td>\n",
       "      <td>бензин</td>\n",
       "      <td>https://autoru.naydex.net/o9DBXQ270/5ac010hAY0...</td>\n",
       "      <td>74000</td>\n",
       "      <td>2013</td>\n",
       "      <td>{\"code\":\"OCTAVIA\",\"name\":\"Octavia\",\"ru_name\":\"...</td>\n",
       "      <td>OCTAVIA</td>\n",
       "      <td>1.2 AMT (105 л.с.)</td>\n",
       "      <td>5</td>\n",
       "      <td>1603226273</td>\n",
       "      <td>RUB</td>\n",
       "      <td>2014</td>\n",
       "      <td>1100575026</td>\n",
       "      <td>{\"id\":\"10373605\",\"displacement\":1197,\"engine_t...</td>\n",
       "      <td>LIFTBACK ROBOT 1.2</td>\n",
       "      <td>роботизированная</td>\n",
       "      <td>EUROPEAN</td>\n",
       "      <td>3 или более</td>\n",
       "      <td>NaN</td>\n",
       "      <td>Оригинал</td>\n",
       "      <td>передний</td>\n",
       "      <td>Левый</td>\n",
       "      <td>Не требует ремонта</td>\n",
       "      <td>Растаможен</td>\n",
       "    </tr>\n",
       "  </tbody>\n",
       "</table>\n",
       "</div>"
      ],
      "text/plain": [
       "  bodyType  brand                                            car_url  color  \\\n",
       "0  лифтбек  SKODA  https://auto.ru/cars/used/sale/skoda/octavia/1...  синий   \n",
       "\n",
       "  complectation_dict                                        description  \\\n",
       "0                NaN  Все автомобили, представленные в продаже, прох...   \n",
       "\n",
       "  engineDisplacement enginePower  \\\n",
       "0            1.2 LTR     105 N12   \n",
       "\n",
       "                                      equipment_dict fuelType  \\\n",
       "0  {\"engine-proof\":true,\"tinted-glass\":true,\"airb...   бензин   \n",
       "\n",
       "                                               image  mileage  modelDate  \\\n",
       "0  https://autoru.naydex.net/o9DBXQ270/5ac010hAY0...    74000       2013   \n",
       "\n",
       "                                          model_info model_name  \\\n",
       "0  {\"code\":\"OCTAVIA\",\"name\":\"Octavia\",\"ru_name\":\"...    OCTAVIA   \n",
       "\n",
       "                 name  numberOfDoors  parsing_unixtime priceCurrency  \\\n",
       "0  1.2 AMT (105 л.с.)              5        1603226273           RUB   \n",
       "\n",
       "   productionDate     sell_id  \\\n",
       "0            2014  1100575026   \n",
       "\n",
       "                                           super_gen vehicleConfiguration  \\\n",
       "0  {\"id\":\"10373605\",\"displacement\":1197,\"engine_t...   LIFTBACK ROBOT 1.2   \n",
       "\n",
       "  vehicleTransmission    vendor    Владельцы Владение       ПТС    Привод  \\\n",
       "0    роботизированная  EUROPEAN  3 или более      NaN  Оригинал  передний   \n",
       "\n",
       "    Руль           Состояние     Таможня  \n",
       "0  Левый  Не требует ремонта  Растаможен  "
      ]
     },
     "execution_count": 280,
     "metadata": {},
     "output_type": "execute_result"
    }
   ],
   "source": [
    "# look at nan values in test data\n",
    "nan = round(test.isna().sum()/test.shape[0]*100,1)\n",
    "print(\"% of nan values:\\n\", nan[nan.values > 50] )\n",
    "test.head(1)"
   ]
  },
  {
   "cell_type": "code",
   "execution_count": 281,
   "metadata": {},
   "outputs": [
    {
     "name": "stdout",
     "output_type": "stream",
     "text": [
      "test shape:  (34686, 18)\n"
     ]
    }
   ],
   "source": [
    "# remove columns drom test data\n",
    "drop_cols = ['car_url','complectation_dict','description','image','model_info','parsing_unixtime','priceCurrency','productionDate','vehicleConfiguration','super_gen','Владельцы','Владение','Состояние','Таможня']\n",
    "test.drop(drop_cols, axis=1, inplace=True)\n",
    "\n",
    "# rename columns\n",
    "cols_dict = {\n",
    "    'ПТС': 'pts',\n",
    "    'Привод': 'gear',\n",
    "    'Руль': 'wheel'\n",
    "}\n",
    "test.rename(columns=cols_dict, inplace=True)\n",
    "\n",
    "print('test shape: ', test.shape)"
   ]
  },
  {
   "cell_type": "markdown",
   "metadata": {},
   "source": [
    "### 1.2. Create a train set"
   ]
  },
  {
   "cell_type": "code",
   "execution_count": 282,
   "metadata": {},
   "outputs": [
    {
     "data": {
      "text/plain": [
       "26491"
      ]
     },
     "execution_count": 282,
     "metadata": {},
     "output_type": "execute_result"
    }
   ],
   "source": [
    "# load data from json file\n",
    "with open('data/data.json', 'r', encoding='utf8') as f:\n",
    "    offers = json.load(f)\n",
    "len(offers)"
   ]
  },
  {
   "cell_type": "code",
   "execution_count": 283,
   "metadata": {},
   "outputs": [
    {
     "data": {
      "text/plain": [
       "26394"
      ]
     },
     "execution_count": 283,
     "metadata": {},
     "output_type": "execute_result"
    }
   ],
   "source": [
    "# coollect only cars with not empty price info\n",
    "train_offers = []\n",
    "for offer in offers:\n",
    "    if offer['price_info']:\n",
    "        train_offers.append(offer)\n",
    "len(train_offers)"
   ]
  },
  {
   "cell_type": "code",
   "execution_count": 284,
   "metadata": {},
   "outputs": [],
   "source": [
    "def fill_keys(key1 ,key2, key3=None):\n",
    "    \"\"\" fill keys if they are not existed \"\"\"\n",
    "    for train_offer in train_offers:        \n",
    "        try: train_offer[key1][key2]\n",
    "        except: train_offer[key1][key2] = {key3: np.nan}\n",
    "        try: train_offer[key1][key2][key3]\n",
    "        except: train_offer[key1][key2][key3] = np.nan\n",
    "        \n",
    "fill_keys('vehicle_info', 'configuration', 'human_name')\n",
    "fill_keys('vehicle_info', 'configuration', 'doors_count')\n",
    "fill_keys('vehicle_info', 'tech_param', 'power')\n",
    "fill_keys('vehicle_info', 'tech_param', 'engine_type')\n",
    "fill_keys('vehicle_info', 'tech_param', 'transmission')\n",
    "fill_keys('vehicle_info', 'tech_param', 'gear_type')"
   ]
  },
  {
   "cell_type": "code",
   "execution_count": 285,
   "metadata": {},
   "outputs": [
    {
     "name": "stdout",
     "output_type": "stream",
     "text": [
      "duplicated rows:  290\n",
      "rows with nan:  6\n",
      "shape:  (26394, 19)\n"
     ]
    }
   ],
   "source": [
    "train = pd.DataFrame() # create an empty train data\n",
    "\n",
    "# create colums for train set\n",
    "train.loc[:, 'bodyType'] = list(map(lambda x: x['vehicle_info']['configuration']['human_name'], train_offers))\n",
    "train.loc[:, 'brand'] = list(map(lambda x: x['vehicle_info']['mark_info']['code'], train_offers))\n",
    "train.loc[:, 'color'] = list(map(lambda x: x['color_hex'], train_offers))\n",
    "train.loc[:, 'engineDisplacement'] = list(map(lambda x: str(x['lk_summary'][:3]), train_offers))\n",
    "train.loc[:, 'enginePower'] = list(map(lambda x: x['vehicle_info']['tech_param']['power'], train_offers))\n",
    "train.loc[:, 'equipment_dict'] = list(map(lambda x: str(x['vehicle_info']['equipment']), train_offers))\n",
    "train.loc[:, 'fuelType'] = list(map(lambda x: x['vehicle_info']['tech_param']['engine_type'], train_offers))\n",
    "train.loc[:, 'mileage'] = list(map(lambda x: x['state']['mileage'], train_offers))\n",
    "train.loc[:, 'modelDate'] = list(map(lambda x: x['documents']['year'], train_offers))\n",
    "train.loc[:, 'model_name'] = list(map(lambda x: x['vehicle_info']['model_info']['code'], train_offers))\n",
    "train.loc[:, 'numberOfDoors'] = list(map(lambda x: x['vehicle_info']['configuration']['doors_count'], train_offers))\n",
    "train.loc[:, 'sell_id'] = list(map(lambda x: x['id'], train_offers))\n",
    "#train.loc[:, 'sell_id_long'] = list(map(lambda x: x['saleId'], train_offers))\n",
    "train.loc[:, 'vehicleTransmission'] = list(map(lambda x: x['vehicle_info']['tech_param']['transmission'], train_offers))\n",
    "train.loc[:, 'vendor'] = list(map(lambda x: x['vehicle_info']['vendor'], train_offers))\n",
    "train.loc[:, 'pts'] = list(map(lambda x: x['documents']['pts'], train_offers))\n",
    "train.loc[:, 'gear'] = list(map(lambda x: x['vehicle_info']['tech_param']['gear_type'], train_offers))\n",
    "train.loc[:, 'wheel'] = list(map(lambda x: x['vehicle_info']['steering_wheel'], train_offers))\n",
    "train.loc[:, 'lk_summary'] = list(map(lambda x: x['lk_summary'], train_offers))\n",
    "train.loc[:, 'price'] = list(map(lambda x: x['price_info']['price'], train_offers))\n",
    "\n",
    "print('duplicated rows: ', len(train) - len(train.drop_duplicates()) )\n",
    "print('rows with nan: ', train.isnull().any().sum())\n",
    "print(\"shape: \", train.shape)"
   ]
  },
  {
   "cell_type": "code",
   "execution_count": 286,
   "metadata": {},
   "outputs": [
    {
     "name": "stdout",
     "output_type": "stream",
     "text": [
      "train shape:\t\t (26102, 19)\n",
      "train unique sell_id:\t 26102\n",
      "train unique brands: 12\n"
     ]
    },
    {
     "data": {
      "text/html": [
       "<div>\n",
       "<style scoped>\n",
       "    .dataframe tbody tr th:only-of-type {\n",
       "        vertical-align: middle;\n",
       "    }\n",
       "\n",
       "    .dataframe tbody tr th {\n",
       "        vertical-align: top;\n",
       "    }\n",
       "\n",
       "    .dataframe thead th {\n",
       "        text-align: right;\n",
       "    }\n",
       "</style>\n",
       "<table border=\"1\" class=\"dataframe\">\n",
       "  <thead>\n",
       "    <tr style=\"text-align: right;\">\n",
       "      <th></th>\n",
       "      <th>bodyType</th>\n",
       "      <th>brand</th>\n",
       "      <th>color</th>\n",
       "      <th>engineDisplacement</th>\n",
       "      <th>enginePower</th>\n",
       "      <th>equipment_dict</th>\n",
       "      <th>fuelType</th>\n",
       "      <th>mileage</th>\n",
       "      <th>modelDate</th>\n",
       "      <th>model_name</th>\n",
       "      <th>numberOfDoors</th>\n",
       "      <th>sell_id</th>\n",
       "      <th>vehicleTransmission</th>\n",
       "      <th>vendor</th>\n",
       "      <th>pts</th>\n",
       "      <th>gear</th>\n",
       "      <th>wheel</th>\n",
       "      <th>lk_summary</th>\n",
       "      <th>price</th>\n",
       "    </tr>\n",
       "  </thead>\n",
       "  <tbody>\n",
       "    <tr>\n",
       "      <th>0</th>\n",
       "      <td>Лифтбек</td>\n",
       "      <td>SKODA</td>\n",
       "      <td>C49648</td>\n",
       "      <td>1.4</td>\n",
       "      <td>150.0</td>\n",
       "      <td>{}</td>\n",
       "      <td>GASOLINE</td>\n",
       "      <td>140000</td>\n",
       "      <td>2016</td>\n",
       "      <td>OCTAVIA</td>\n",
       "      <td>5.0</td>\n",
       "      <td>1102691650</td>\n",
       "      <td>ROBOT</td>\n",
       "      <td>EUROPEAN</td>\n",
       "      <td>ORIGINAL</td>\n",
       "      <td>FORWARD_CONTROL</td>\n",
       "      <td>LEFT</td>\n",
       "      <td>1.4 AMT (150 л.с.), лифтбек, передний, бензин</td>\n",
       "      <td>795000</td>\n",
       "    </tr>\n",
       "  </tbody>\n",
       "</table>\n",
       "</div>"
      ],
      "text/plain": [
       "  bodyType  brand   color engineDisplacement  enginePower equipment_dict  \\\n",
       "0  Лифтбек  SKODA  C49648                1.4        150.0             {}   \n",
       "\n",
       "   fuelType  mileage  modelDate model_name  numberOfDoors     sell_id  \\\n",
       "0  GASOLINE   140000       2016    OCTAVIA            5.0  1102691650   \n",
       "\n",
       "  vehicleTransmission    vendor       pts             gear wheel  \\\n",
       "0               ROBOT  EUROPEAN  ORIGINAL  FORWARD_CONTROL  LEFT   \n",
       "\n",
       "                                      lk_summary   price  \n",
       "0  1.4 AMT (150 л.с.), лифтбек, передний, бензин  795000  "
      ]
     },
     "metadata": {},
     "output_type": "display_data"
    },
    {
     "data": {
      "text/html": [
       "<div>\n",
       "<style scoped>\n",
       "    .dataframe tbody tr th:only-of-type {\n",
       "        vertical-align: middle;\n",
       "    }\n",
       "\n",
       "    .dataframe tbody tr th {\n",
       "        vertical-align: top;\n",
       "    }\n",
       "\n",
       "    .dataframe thead th {\n",
       "        text-align: right;\n",
       "    }\n",
       "</style>\n",
       "<table border=\"1\" class=\"dataframe\">\n",
       "  <thead>\n",
       "    <tr style=\"text-align: right;\">\n",
       "      <th></th>\n",
       "      <th>bodyType</th>\n",
       "      <th>brand</th>\n",
       "      <th>color</th>\n",
       "      <th>engineDisplacement</th>\n",
       "      <th>enginePower</th>\n",
       "      <th>equipment_dict</th>\n",
       "      <th>fuelType</th>\n",
       "      <th>mileage</th>\n",
       "      <th>modelDate</th>\n",
       "      <th>model_name</th>\n",
       "      <th>name</th>\n",
       "      <th>numberOfDoors</th>\n",
       "      <th>sell_id</th>\n",
       "      <th>vehicleTransmission</th>\n",
       "      <th>vendor</th>\n",
       "      <th>pts</th>\n",
       "      <th>gear</th>\n",
       "      <th>wheel</th>\n",
       "    </tr>\n",
       "  </thead>\n",
       "  <tbody>\n",
       "    <tr>\n",
       "      <th>0</th>\n",
       "      <td>лифтбек</td>\n",
       "      <td>SKODA</td>\n",
       "      <td>синий</td>\n",
       "      <td>1.2 LTR</td>\n",
       "      <td>105 N12</td>\n",
       "      <td>{\"engine-proof\":true,\"tinted-glass\":true,\"airb...</td>\n",
       "      <td>бензин</td>\n",
       "      <td>74000</td>\n",
       "      <td>2013</td>\n",
       "      <td>OCTAVIA</td>\n",
       "      <td>1.2 AMT (105 л.с.)</td>\n",
       "      <td>5</td>\n",
       "      <td>1100575026</td>\n",
       "      <td>роботизированная</td>\n",
       "      <td>EUROPEAN</td>\n",
       "      <td>Оригинал</td>\n",
       "      <td>передний</td>\n",
       "      <td>Левый</td>\n",
       "    </tr>\n",
       "  </tbody>\n",
       "</table>\n",
       "</div>"
      ],
      "text/plain": [
       "  bodyType  brand  color engineDisplacement enginePower  \\\n",
       "0  лифтбек  SKODA  синий            1.2 LTR     105 N12   \n",
       "\n",
       "                                      equipment_dict fuelType  mileage  \\\n",
       "0  {\"engine-proof\":true,\"tinted-glass\":true,\"airb...   бензин    74000   \n",
       "\n",
       "   modelDate model_name                name  numberOfDoors     sell_id  \\\n",
       "0       2013    OCTAVIA  1.2 AMT (105 л.с.)              5  1100575026   \n",
       "\n",
       "  vehicleTransmission    vendor       pts      gear  wheel  \n",
       "0    роботизированная  EUROPEAN  Оригинал  передний  Левый  "
      ]
     },
     "metadata": {},
     "output_type": "display_data"
    }
   ],
   "source": [
    "# drop duplicates and rows with nan\n",
    "train.drop_duplicates(inplace=True)\n",
    "train.dropna(axis=0, inplace=True)\n",
    "print('train shape:\\t\\t', train.shape)\n",
    "print('train unique sell_id:\\t', train.sell_id.nunique())\n",
    "print('train unique brands:', train.brand.nunique())\n",
    "display(train.head(1))\n",
    "display(test.head(1))"
   ]
  },
  {
   "cell_type": "markdown",
   "metadata": {},
   "source": [
    "### 1.3. Analyze columns"
   ]
  },
  {
   "cell_type": "code",
   "execution_count": 287,
   "metadata": {},
   "outputs": [],
   "source": [
    "    # body_type\n",
    "# convert to one register\n",
    "train.loc[:,'bodyType'] = train.bodyType.str.lower()"
   ]
  },
  {
   "cell_type": "code",
   "execution_count": 288,
   "metadata": {},
   "outputs": [],
   "source": [
    "    # color\n",
    "# convert to one standard\n",
    "color_dict = {'040001':'чёрный', 'EE1D19':'красный', '0000CC':'синий', \n",
    "              'CACECB':'серебристый', '007F00':'зелёный', 'FAFBFB':'белый', \n",
    "              '97948F':'серый', '22A0F8':'голубой', '660099':'пурпурный', \n",
    "              '200204':'коричневый', 'C49648':'бежевый', 'DEA522':'золотистый', \n",
    "              '4A2197':'фиолетовый', 'FFD600':'жёлтый', 'FF8649':'оранжевый', \n",
    "              'FFC0CB':'розовый'}\n",
    "train.loc[:, 'color'] = train['color'].map(color_dict)"
   ]
  },
  {
   "cell_type": "code",
   "execution_count": 289,
   "metadata": {},
   "outputs": [
    {
     "name": "stdout",
     "output_type": "stream",
     "text": [
      "train:  [1]\n",
      "test:  [1 0]\n"
     ]
    }
   ],
   "source": [
    "    # equipment_dict\n",
    "# mak with 0 if have and 1 don't have equipment\n",
    "train.loc[:, 'equipment_dict'] = train['equipment_dict'].notnull().map({False:0, True: 1})\n",
    "test.loc[:, 'equipment_dict'] = test['equipment_dict'].notnull().map({False:0, True: 1})\n",
    "print('train: ', train.equipment_dict.unique())\n",
    "print('test: ',test.equipment_dict.unique())"
   ]
  },
  {
   "cell_type": "code",
   "execution_count": 290,
   "metadata": {},
   "outputs": [],
   "source": [
    "# equipment_dict\n",
    "# all offers in train data have equipment, so I drop this feature\n",
    "train.drop('equipment_dict', axis=1, inplace=True)\n",
    "test.drop('equipment_dict', axis=1, inplace=True)"
   ]
  },
  {
   "cell_type": "code",
   "execution_count": 292,
   "metadata": {},
   "outputs": [
    {
     "name": "stdout",
     "output_type": "stream",
     "text": [
      " train:\t 1.4 1.2 1.6 2.0 1.8 3.0 2.3 2.8 Ele 2.9 2.5 3.5 1.5 2.4 1.3 4.8 4.4 5.6 3.7 5.0 2.1 5.5 4.7 6.2 4.0 4.6 5.7 4.5 2.7 3.6 3.2 3.8 4.2 1.7 6.0 3.4 0.6 2.6 1.0 3.3 1.9 0.7 3.1 4.1 2.2 6.6 5.8 4.3 5.9 5.4 5.2 6.3 1.1 4.9 3.9\n",
      " test:\t 1.2 LTR 1.6 LTR 1.8 LTR 2.0 LTR 1.4 LTR 1.3 LTR 1.0 LTR 3.6 LTR 1.5 LTR 1.9 LTR 2.8 LTR 1.1 LTR 2.5 LTR 4.2 LTR 3.0 LTR 4.0 LTR 5.9 LTR 2.7 LTR 3.1 LTR 2.4 LTR 5.2 LTR 3.2 LTR 4.1 LTR 6.3 LTR 2.3 LTR 6.0 LTR 2.2 LTR 3.7 LTR 2.9 LTR 5.0 LTR 3.3 LTR 2.1 LTR 2.6 LTR  LTR 3.5 LTR 1.7 LTR 0.7 LTR 4.4 LTR 4.8 LTR 5.4 LTR 6.6 LTR 4.9 LTR 3.8 LTR 3.4 LTR 3.9 LTR 4.6 LTR 5.6 LTR 4.5 LTR 5.5 LTR 6.2 LTR 4.7 LTR 4.3 LTR 5.8 LTR 5.3 LTR 5.7 LTR\n"
     ]
    }
   ],
   "source": [
    "    # engineDisplacement\n",
    "# unique values\n",
    "print(' train:\\t', *train.engineDisplacement.unique())\n",
    "print(' test:\\t', *test.engineDisplacement.unique())"
   ]
  },
  {
   "cell_type": "code",
   "execution_count": 293,
   "metadata": {},
   "outputs": [],
   "source": [
    "# engineDisplacement\n",
    "\n",
    "# remove '  LTR' in test data\n",
    "test.loc[:,'engineDisplacement'] = test.engineDisplacement.str[:3]\n",
    "\n",
    " # remove 'Ele' in train\n",
    "train = train[train.engineDisplacement!='Ele']\n",
    " # 'replace  'LT' with most common value in order to sove test shape\n",
    "test_ed_mode = test.engineDisplacement.mode().values[0]\n",
    "test.loc[:, 'engineDisplacement'] = test.engineDisplacement.str.replace('LT', test_ed_mode)\n",
    "\n",
    "# convert to float\n",
    "train.loc[:,'engineDisplacement'] = train.engineDisplacement.astype(float)\n",
    "test.loc[:, 'engineDisplacement'] = test.engineDisplacement.astype(float)"
   ]
  },
  {
   "cell_type": "code",
   "execution_count": 298,
   "metadata": {},
   "outputs": [],
   "source": [
    "    # enginePower\n",
    "# convert to int\n",
    "train.loc[:,'enginePower'] = train.enginePower.astype('int')\n",
    "test.loc[:,'enginePower'] = test.enginePower.str[:3].astype('int')"
   ]
  },
  {
   "cell_type": "code",
   "execution_count": 299,
   "metadata": {},
   "outputs": [],
   "source": [
    "    # fuelType\n",
    "# convert to one standard\n",
    "fuel_dict = {\n",
    "    'бензин': 'GASOLINE',\n",
    "    'дизель': 'DIESEL',\n",
    "    'гибрид': 'HYBRID',\n",
    "    'электро': 'ELECTRO',\n",
    "    'газ': 'LPG'\n",
    "}\n",
    "test.loc[:, 'fuelType'] = test['fuelType'].map(fuel_dict)"
   ]
  },
  {
   "cell_type": "code",
   "execution_count": 300,
   "metadata": {},
   "outputs": [],
   "source": [
    "    # vehicleTransmission\n",
    "# convert to one standard\n",
    "vehicleTransmission_dict = {\n",
    "    'автоматическая': 'AUTOMATIC',\n",
    "    'роботизированная': 'ROBOT',\n",
    "    'вариатор': 'VARIATOR',\n",
    "    'механическая': 'MECHANICAL'\n",
    "}\n",
    "test.loc[:, 'vehicleTransmission'] = test['vehicleTransmission'].map(vehicleTransmission_dict)"
   ]
  },
  {
   "cell_type": "code",
   "execution_count": 301,
   "metadata": {
    "scrolled": true
   },
   "outputs": [
    {
     "name": "stdout",
     "output_type": "stream",
     "text": [
      "train:\tORIGINAL\tDUPLICATE\n",
      "test: \tОригинал\tДубликат\tnan\n"
     ]
    }
   ],
   "source": [
    "    # pts\n",
    "print('train:', *train.pts.unique(), sep='\\t')\n",
    "print('test: ', *test.pts.unique(), sep='\\t')"
   ]
  },
  {
   "cell_type": "code",
   "execution_count": 302,
   "metadata": {},
   "outputs": [],
   "source": [
    "# pts\n",
    "# remove test data a row with NaN in colomns 'pts'\n",
    "\n",
    "# convert to one standard\n",
    "pts_dict = { 'Оригинал': 'ORIGINAL',\n",
    "            'Дубликат': 'DUPLICATE'}\n",
    "test.loc[:, 'pts'] = test['pts'].map(pts_dict)\n",
    "\n",
    "# code with 1 and 0\n",
    "train.loc[:, 'pts'] = train['pts'].map( { 'ORIGINAL':1, 'DUPLICATE':0 } )\n",
    "test['pts'] = test['pts'].map( { 'ORIGINAL':1, 'DUPLICATE':0 }  )"
   ]
  },
  {
   "cell_type": "code",
   "execution_count": 303,
   "metadata": {},
   "outputs": [],
   "source": [
    "    # gear\n",
    "# convert to one standard\n",
    "gear_dict = {\n",
    "    'полный': 'ALL_WHEEL_DRIVE',\n",
    "    'передний': 'FORWARD_CONTROL',\n",
    "    'задний': 'REAR_DRIVE'\n",
    "}\n",
    "test.loc[:, 'gear'] = test['gear'].map(gear_dict)"
   ]
  },
  {
   "cell_type": "code",
   "execution_count": 304,
   "metadata": {},
   "outputs": [],
   "source": [
    "    # whee\n",
    "wheel_dict = {\n",
    "    'Левый': 'LEFT',\n",
    "    'Правый': 'RIGHT'    \n",
    "}\n",
    "test.loc[:, 'wheel'] = test['wheel'].map(wheel_dict)"
   ]
  },
  {
   "cell_type": "code",
   "execution_count": 305,
   "metadata": {},
   "outputs": [],
   "source": [
    "    # gearbox\n",
    "\n",
    "# create a new feature in train\n",
    "train.loc[:, 'lk_summary'] = train.lk_summary.map(lambda x: x.split()[1])\n",
    "# rename columns 'lk_summary\" to 'gearbox'\n",
    "train.rename(columns={\"lk_summary\": \"gearbox\"}, inplace=True)\n",
    "\n",
    "# create a new feature in test\n",
    "test.loc[:, 'gearbox'] = test['name'].map(lambda x: x.split(' (')[0].split()[-1])\n",
    "\n",
    "# drop 'name' columns\n",
    "test.drop('name', axis=1, inplace=True)"
   ]
  },
  {
   "cell_type": "code",
   "execution_count": 306,
   "metadata": {
    "scrolled": false
   },
   "outputs": [
    {
     "data": {
      "text/html": [
       "<div>\n",
       "<style scoped>\n",
       "    .dataframe tbody tr th:only-of-type {\n",
       "        vertical-align: middle;\n",
       "    }\n",
       "\n",
       "    .dataframe tbody tr th {\n",
       "        vertical-align: top;\n",
       "    }\n",
       "\n",
       "    .dataframe thead th {\n",
       "        text-align: right;\n",
       "    }\n",
       "</style>\n",
       "<table border=\"1\" class=\"dataframe\">\n",
       "  <thead>\n",
       "    <tr style=\"text-align: right;\">\n",
       "      <th></th>\n",
       "      <th>bodyType</th>\n",
       "      <th>brand</th>\n",
       "      <th>color</th>\n",
       "      <th>engineDisplacement</th>\n",
       "      <th>enginePower</th>\n",
       "      <th>fuelType</th>\n",
       "      <th>mileage</th>\n",
       "      <th>modelDate</th>\n",
       "      <th>model_name</th>\n",
       "      <th>numberOfDoors</th>\n",
       "      <th>sell_id</th>\n",
       "      <th>vehicleTransmission</th>\n",
       "      <th>vendor</th>\n",
       "      <th>pts</th>\n",
       "      <th>gear</th>\n",
       "      <th>wheel</th>\n",
       "      <th>gearbox</th>\n",
       "      <th>price</th>\n",
       "    </tr>\n",
       "  </thead>\n",
       "  <tbody>\n",
       "    <tr>\n",
       "      <th>0</th>\n",
       "      <td>лифтбек</td>\n",
       "      <td>SKODA</td>\n",
       "      <td>бежевый</td>\n",
       "      <td>1.4</td>\n",
       "      <td>150</td>\n",
       "      <td>GASOLINE</td>\n",
       "      <td>140000</td>\n",
       "      <td>2016</td>\n",
       "      <td>OCTAVIA</td>\n",
       "      <td>5.0</td>\n",
       "      <td>1102691650</td>\n",
       "      <td>ROBOT</td>\n",
       "      <td>EUROPEAN</td>\n",
       "      <td>1</td>\n",
       "      <td>FORWARD_CONTROL</td>\n",
       "      <td>LEFT</td>\n",
       "      <td>AMT</td>\n",
       "      <td>795000</td>\n",
       "    </tr>\n",
       "  </tbody>\n",
       "</table>\n",
       "</div>"
      ],
      "text/plain": [
       "  bodyType  brand    color  engineDisplacement  enginePower  fuelType  \\\n",
       "0  лифтбек  SKODA  бежевый                 1.4          150  GASOLINE   \n",
       "\n",
       "   mileage  modelDate model_name  numberOfDoors     sell_id  \\\n",
       "0   140000       2016    OCTAVIA            5.0  1102691650   \n",
       "\n",
       "  vehicleTransmission    vendor  pts             gear wheel gearbox   price  \n",
       "0               ROBOT  EUROPEAN    1  FORWARD_CONTROL  LEFT     AMT  795000  "
      ]
     },
     "metadata": {},
     "output_type": "display_data"
    },
    {
     "data": {
      "text/html": [
       "<div>\n",
       "<style scoped>\n",
       "    .dataframe tbody tr th:only-of-type {\n",
       "        vertical-align: middle;\n",
       "    }\n",
       "\n",
       "    .dataframe tbody tr th {\n",
       "        vertical-align: top;\n",
       "    }\n",
       "\n",
       "    .dataframe thead th {\n",
       "        text-align: right;\n",
       "    }\n",
       "</style>\n",
       "<table border=\"1\" class=\"dataframe\">\n",
       "  <thead>\n",
       "    <tr style=\"text-align: right;\">\n",
       "      <th></th>\n",
       "      <th>bodyType</th>\n",
       "      <th>brand</th>\n",
       "      <th>color</th>\n",
       "      <th>engineDisplacement</th>\n",
       "      <th>enginePower</th>\n",
       "      <th>fuelType</th>\n",
       "      <th>mileage</th>\n",
       "      <th>modelDate</th>\n",
       "      <th>model_name</th>\n",
       "      <th>numberOfDoors</th>\n",
       "      <th>sell_id</th>\n",
       "      <th>vehicleTransmission</th>\n",
       "      <th>vendor</th>\n",
       "      <th>pts</th>\n",
       "      <th>gear</th>\n",
       "      <th>wheel</th>\n",
       "      <th>gearbox</th>\n",
       "    </tr>\n",
       "  </thead>\n",
       "  <tbody>\n",
       "    <tr>\n",
       "      <th>0</th>\n",
       "      <td>лифтбек</td>\n",
       "      <td>SKODA</td>\n",
       "      <td>синий</td>\n",
       "      <td>1.2</td>\n",
       "      <td>105</td>\n",
       "      <td>GASOLINE</td>\n",
       "      <td>74000</td>\n",
       "      <td>2013</td>\n",
       "      <td>OCTAVIA</td>\n",
       "      <td>5</td>\n",
       "      <td>1100575026</td>\n",
       "      <td>ROBOT</td>\n",
       "      <td>EUROPEAN</td>\n",
       "      <td>1.0</td>\n",
       "      <td>FORWARD_CONTROL</td>\n",
       "      <td>LEFT</td>\n",
       "      <td>AMT</td>\n",
       "    </tr>\n",
       "  </tbody>\n",
       "</table>\n",
       "</div>"
      ],
      "text/plain": [
       "  bodyType  brand  color  engineDisplacement  enginePower  fuelType  mileage  \\\n",
       "0  лифтбек  SKODA  синий                 1.2          105  GASOLINE    74000   \n",
       "\n",
       "   modelDate model_name  numberOfDoors     sell_id vehicleTransmission  \\\n",
       "0       2013    OCTAVIA              5  1100575026               ROBOT   \n",
       "\n",
       "     vendor  pts             gear wheel gearbox  \n",
       "0  EUROPEAN  1.0  FORWARD_CONTROL  LEFT     AMT  "
      ]
     },
     "metadata": {},
     "output_type": "display_data"
    },
    {
     "name": "stdout",
     "output_type": "stream",
     "text": [
      "train shape: (26034, 18) nan:  0\n",
      "test shape:  (34686, 17) nan:  1\n"
     ]
    }
   ],
   "source": [
    "display(train.head(1))\n",
    "display(test.head(1))\n",
    "print('train shape:', train.shape, 'nan: ', train.isna().sum().sum())\n",
    "print('test shape: ', test.shape, 'nan: ', test.isna().sum().sum())"
   ]
  },
  {
   "cell_type": "markdown",
   "metadata": {},
   "source": [
    "#### 1.4. save data"
   ]
  },
  {
   "cell_type": "code",
   "execution_count": 307,
   "metadata": {},
   "outputs": [],
   "source": [
    "train.to_csv('data/train.csv', index = False)\n",
    "test.to_csv('data/test.csv', index = False)"
   ]
  },
  {
   "cell_type": "markdown",
   "metadata": {},
   "source": [
    "#### 1.5. load data"
   ]
  },
  {
   "cell_type": "code",
   "execution_count": 7,
   "metadata": {},
   "outputs": [],
   "source": [
    "# load data\n",
    "train = pd.read_csv('data/train.csv')\n",
    "test = pd.read_csv('data/test.csv')\n",
    "\n",
    "train['Train'] = 1 # mark train\n",
    "test['Train'] = 0 # mark test\n",
    "\n",
    "df = train.append(test, sort=False).reset_index(drop=True) # combine"
   ]
  },
  {
   "cell_type": "markdown",
   "metadata": {},
   "source": [
    "## 2. EDA"
   ]
  },
  {
   "cell_type": "code",
   "execution_count": 9,
   "metadata": {},
   "outputs": [],
   "source": [
    "bin_cols =  ['pts', 'wheel', ]\n",
    "cat_cols = [\n",
    "    'bodyType', 'brand', 'color', 'fuelType', 'model_name', 'numberOfDoors',\n",
    "    'vehicleTransmission', 'vendor', 'gear', 'gearbox', \n",
    "]\n",
    "num_cols = ['modelDate', 'engineDisplacement', 'mileage', 'enginePower']\n",
    "target = 'price'"
   ]
  },
  {
   "cell_type": "markdown",
   "metadata": {},
   "source": [
    "### 2.1. Numeric features"
   ]
  },
  {
   "cell_type": "code",
   "execution_count": 310,
   "metadata": {
    "scrolled": true
   },
   "outputs": [
    {
     "data": {
      "image/png": "[encoded data removed]",
      "text/plain": [
       "<Figure size 576x288 with 4 Axes>"
      ]
     },
     "metadata": {
      "needs_background": "light"
     },
     "output_type": "display_data"
    }
   ],
   "source": [
    "# numeric columns plots\n",
    "\n",
    "fig, axes = plt.subplots(2, 2, figsize=(8,4))\n",
    "plt.subplots_adjust(wspace = 0.5, hspace = 0.5)\n",
    "for col, i in zip(num_cols, range(len(num_cols))):\n",
    "    sns.distplot(df[col], kde=False, ax=axes.flat[i])"
   ]
  },
  {
   "cell_type": "code",
   "execution_count": 10,
   "metadata": {},
   "outputs": [],
   "source": [
    "# take a logarithm to improve the ditribution\n",
    "for col in num_cols:\n",
    "    df[col] = np.log(df[col] + 1)"
   ]
  },
  {
   "cell_type": "code",
   "execution_count": 312,
   "metadata": {
    "scrolled": true
   },
   "outputs": [
    {
     "data": {
      "text/html": [
       "<style  type=\"text/css\" >\n",
       "    #T_8593cffa_8108_11eb_a04a_a45e60d21f0drow0_col0 {\n",
       "            background-color:  #b40426;\n",
       "            color:  #f1f1f1;\n",
       "        }    #T_8593cffa_8108_11eb_a04a_a45e60d21f0drow0_col1 {\n",
       "            background-color:  #3e51c5;\n",
       "            color:  #f1f1f1;\n",
       "        }    #T_8593cffa_8108_11eb_a04a_a45e60d21f0drow0_col2 {\n",
       "            background-color:  #3b4cc0;\n",
       "            color:  #f1f1f1;\n",
       "        }    #T_8593cffa_8108_11eb_a04a_a45e60d21f0drow0_col3 {\n",
       "            background-color:  #bcd2f7;\n",
       "            color:  #000000;\n",
       "        }    #T_8593cffa_8108_11eb_a04a_a45e60d21f0drow1_col0 {\n",
       "            background-color:  #aec9fc;\n",
       "            color:  #000000;\n",
       "        }    #T_8593cffa_8108_11eb_a04a_a45e60d21f0drow1_col1 {\n",
       "            background-color:  #b40426;\n",
       "            color:  #f1f1f1;\n",
       "        }    #T_8593cffa_8108_11eb_a04a_a45e60d21f0drow1_col2 {\n",
       "            background-color:  #aac7fd;\n",
       "            color:  #000000;\n",
       "        }    #T_8593cffa_8108_11eb_a04a_a45e60d21f0drow1_col3 {\n",
       "            background-color:  #e0654f;\n",
       "            color:  #000000;\n",
       "        }    #T_8593cffa_8108_11eb_a04a_a45e60d21f0drow2_col0 {\n",
       "            background-color:  #3b4cc0;\n",
       "            color:  #f1f1f1;\n",
       "        }    #T_8593cffa_8108_11eb_a04a_a45e60d21f0drow2_col1 {\n",
       "            background-color:  #3b4cc0;\n",
       "            color:  #f1f1f1;\n",
       "        }    #T_8593cffa_8108_11eb_a04a_a45e60d21f0drow2_col2 {\n",
       "            background-color:  #b40426;\n",
       "            color:  #f1f1f1;\n",
       "        }    #T_8593cffa_8108_11eb_a04a_a45e60d21f0drow2_col3 {\n",
       "            background-color:  #3b4cc0;\n",
       "            color:  #f1f1f1;\n",
       "        }    #T_8593cffa_8108_11eb_a04a_a45e60d21f0drow3_col0 {\n",
       "            background-color:  #e2dad5;\n",
       "            color:  #000000;\n",
       "        }    #T_8593cffa_8108_11eb_a04a_a45e60d21f0drow3_col1 {\n",
       "            background-color:  #e57058;\n",
       "            color:  #000000;\n",
       "        }    #T_8593cffa_8108_11eb_a04a_a45e60d21f0drow3_col2 {\n",
       "            background-color:  #81a4fb;\n",
       "            color:  #000000;\n",
       "        }    #T_8593cffa_8108_11eb_a04a_a45e60d21f0drow3_col3 {\n",
       "            background-color:  #b40426;\n",
       "            color:  #f1f1f1;\n",
       "        }</style><table id=\"T_8593cffa_8108_11eb_a04a_a45e60d21f0d\" ><thead>    <tr>        <th class=\"blank level0\" ></th>        <th class=\"col_heading level0 col0\" >modelDate</th>        <th class=\"col_heading level0 col1\" >engineDisplacement</th>        <th class=\"col_heading level0 col2\" >mileage</th>        <th class=\"col_heading level0 col3\" >enginePower</th>    </tr></thead><tbody>\n",
       "                <tr>\n",
       "                        <th id=\"T_8593cffa_8108_11eb_a04a_a45e60d21f0dlevel0_row0\" class=\"row_heading level0 row0\" >modelDate</th>\n",
       "                        <td id=\"T_8593cffa_8108_11eb_a04a_a45e60d21f0drow0_col0\" class=\"data row0 col0\" >1.000</td>\n",
       "                        <td id=\"T_8593cffa_8108_11eb_a04a_a45e60d21f0drow0_col1\" class=\"data row0 col1\" >0.005</td>\n",
       "                        <td id=\"T_8593cffa_8108_11eb_a04a_a45e60d21f0drow0_col2\" class=\"data row0 col2\" >-0.519</td>\n",
       "                        <td id=\"T_8593cffa_8108_11eb_a04a_a45e60d21f0drow0_col3\" class=\"data row0 col3\" >0.276</td>\n",
       "            </tr>\n",
       "            <tr>\n",
       "                        <th id=\"T_8593cffa_8108_11eb_a04a_a45e60d21f0dlevel0_row1\" class=\"row_heading level0 row1\" >engineDisplacement</th>\n",
       "                        <td id=\"T_8593cffa_8108_11eb_a04a_a45e60d21f0drow1_col0\" class=\"data row1 col0\" >0.005</td>\n",
       "                        <td id=\"T_8593cffa_8108_11eb_a04a_a45e60d21f0drow1_col1\" class=\"data row1 col1\" >1.000</td>\n",
       "                        <td id=\"T_8593cffa_8108_11eb_a04a_a45e60d21f0drow1_col2\" class=\"data row1 col2\" >-0.011</td>\n",
       "                        <td id=\"T_8593cffa_8108_11eb_a04a_a45e60d21f0drow1_col3\" class=\"data row1 col3\" >0.839</td>\n",
       "            </tr>\n",
       "            <tr>\n",
       "                        <th id=\"T_8593cffa_8108_11eb_a04a_a45e60d21f0dlevel0_row2\" class=\"row_heading level0 row2\" >mileage</th>\n",
       "                        <td id=\"T_8593cffa_8108_11eb_a04a_a45e60d21f0drow2_col0\" class=\"data row2 col0\" >-0.519</td>\n",
       "                        <td id=\"T_8593cffa_8108_11eb_a04a_a45e60d21f0drow2_col1\" class=\"data row2 col1\" >-0.011</td>\n",
       "                        <td id=\"T_8593cffa_8108_11eb_a04a_a45e60d21f0drow2_col2\" class=\"data row2 col2\" >1.000</td>\n",
       "                        <td id=\"T_8593cffa_8108_11eb_a04a_a45e60d21f0drow2_col3\" class=\"data row2 col3\" >-0.187</td>\n",
       "            </tr>\n",
       "            <tr>\n",
       "                        <th id=\"T_8593cffa_8108_11eb_a04a_a45e60d21f0dlevel0_row3\" class=\"row_heading level0 row3\" >enginePower</th>\n",
       "                        <td id=\"T_8593cffa_8108_11eb_a04a_a45e60d21f0drow3_col0\" class=\"data row3 col0\" >0.276</td>\n",
       "                        <td id=\"T_8593cffa_8108_11eb_a04a_a45e60d21f0drow3_col1\" class=\"data row3 col1\" >0.839</td>\n",
       "                        <td id=\"T_8593cffa_8108_11eb_a04a_a45e60d21f0drow3_col2\" class=\"data row3 col2\" >-0.187</td>\n",
       "                        <td id=\"T_8593cffa_8108_11eb_a04a_a45e60d21f0drow3_col3\" class=\"data row3 col3\" >1.000</td>\n",
       "            </tr>\n",
       "    </tbody></table>"
      ],
      "text/plain": [
       "<pandas.io.formats.style.Styler at 0x1a6549ab90>"
      ]
     },
     "execution_count": 312,
     "metadata": {},
     "output_type": "execute_result"
    }
   ],
   "source": [
    "# Pearson correlation for numeric columns\n",
    "corr = df[num_cols].corr()\n",
    "corr.style.background_gradient(cmap='coolwarm').set_precision(3)"
   ]
  },
  {
   "cell_type": "markdown",
   "metadata": {},
   "source": [
    "High correlation have columns\n",
    "'engineDisplacement' and 'enginePower'"
   ]
  },
  {
   "cell_type": "code",
   "execution_count": 11,
   "metadata": {
    "scrolled": false
   },
   "outputs": [
    {
     "data": {
      "image/png": "[encoded data removed]",
      "text/plain": [
       "<Figure size 360x108 with 1 Axes>"
      ]
     },
     "metadata": {
      "needs_background": "light"
     },
     "output_type": "display_data"
    }
   ],
   "source": [
    "# importance of numeric features\n",
    "df_train = df[df['Train']==1]\n",
    "\n",
    "plt.figure(figsize=(5,1.5))\n",
    "imp_num = Series(f_classif(df_train[num_cols], df_train[target])[0],\n",
    "                 index = num_cols).sort_values()\n",
    "imp_num.plot(kind = 'barh')\n",
    "plt.title('Importance of numeric features')\n",
    "plt.show()"
   ]
  },
  {
   "cell_type": "markdown",
   "metadata": {},
   "source": [
    "### 2.2. Categorical features"
   ]
  },
  {
   "cell_type": "code",
   "execution_count": 12,
   "metadata": {},
   "outputs": [],
   "source": [
    "# convert\n",
    "for col in cat_cols:\n",
    "    df[col] = df[col].astype('category').cat.codes"
   ]
  },
  {
   "cell_type": "code",
   "execution_count": 13,
   "metadata": {
    "scrolled": true
   },
   "outputs": [
    {
     "data": {
      "image/png": "[encoded data removed]",
      "text/plain": [
       "<Figure size 432x288 with 1 Axes>"
      ]
     },
     "metadata": {
      "needs_background": "light"
     },
     "output_type": "display_data"
    }
   ],
   "source": [
    "# importance of categorical and bin\n",
    "df_train = df[df['Train']==1] # data with 'price'\n",
    "\n",
    "mi = mutual_info_classif(df_train[cat_cols], df_train[target], discrete_features=True)\n",
    "pd.Series(mi, index=cat_cols).sort_values(ascending=True).plot(kind='barh')\n",
    "plt.title('Importance of categorical features')\n",
    "plt.show()"
   ]
  },
  {
   "cell_type": "code",
   "execution_count": 14,
   "metadata": {
    "scrolled": true
   },
   "outputs": [
    {
     "data": {
      "text/html": [
       "<style  type=\"text/css\" >\n",
       "    #T_aeabb4a4_81b5_11eb_9870_a45e60d21f0drow0_col0 {\n",
       "            background-color:  #b40426;\n",
       "            color:  #f1f1f1;\n",
       "        }    #T_aeabb4a4_81b5_11eb_9870_a45e60d21f0drow0_col1 {\n",
       "            background-color:  #6485ec;\n",
       "            color:  #000000;\n",
       "        }    #T_aeabb4a4_81b5_11eb_9870_a45e60d21f0drow0_col2 {\n",
       "            background-color:  #5b7ae5;\n",
       "            color:  #000000;\n",
       "        }    #T_aeabb4a4_81b5_11eb_9870_a45e60d21f0drow0_col3 {\n",
       "            background-color:  #9ebeff;\n",
       "            color:  #000000;\n",
       "        }    #T_aeabb4a4_81b5_11eb_9870_a45e60d21f0drow0_col4 {\n",
       "            background-color:  #3b4cc0;\n",
       "            color:  #f1f1f1;\n",
       "        }    #T_aeabb4a4_81b5_11eb_9870_a45e60d21f0drow0_col5 {\n",
       "            background-color:  #3b4cc0;\n",
       "            color:  #f1f1f1;\n",
       "        }    #T_aeabb4a4_81b5_11eb_9870_a45e60d21f0drow0_col6 {\n",
       "            background-color:  #6384eb;\n",
       "            color:  #000000;\n",
       "        }    #T_aeabb4a4_81b5_11eb_9870_a45e60d21f0drow0_col7 {\n",
       "            background-color:  #3b4cc0;\n",
       "            color:  #f1f1f1;\n",
       "        }    #T_aeabb4a4_81b5_11eb_9870_a45e60d21f0drow0_col8 {\n",
       "            background-color:  #f7b194;\n",
       "            color:  #000000;\n",
       "        }    #T_aeabb4a4_81b5_11eb_9870_a45e60d21f0drow0_col9 {\n",
       "            background-color:  #5673e0;\n",
       "            color:  #000000;\n",
       "        }    #T_aeabb4a4_81b5_11eb_9870_a45e60d21f0drow1_col0 {\n",
       "            background-color:  #b9d0f9;\n",
       "            color:  #000000;\n",
       "        }    #T_aeabb4a4_81b5_11eb_9870_a45e60d21f0drow1_col1 {\n",
       "            background-color:  #b40426;\n",
       "            color:  #f1f1f1;\n",
       "        }    #T_aeabb4a4_81b5_11eb_9870_a45e60d21f0drow1_col2 {\n",
       "            background-color:  #3b4cc0;\n",
       "            color:  #f1f1f1;\n",
       "        }    #T_aeabb4a4_81b5_11eb_9870_a45e60d21f0drow1_col3 {\n",
       "            background-color:  #6a8bef;\n",
       "            color:  #000000;\n",
       "        }    #T_aeabb4a4_81b5_11eb_9870_a45e60d21f0drow1_col4 {\n",
       "            background-color:  #e8d6cc;\n",
       "            color:  #000000;\n",
       "        }    #T_aeabb4a4_81b5_11eb_9870_a45e60d21f0drow1_col5 {\n",
       "            background-color:  #c4d5f3;\n",
       "            color:  #000000;\n",
       "        }    #T_aeabb4a4_81b5_11eb_9870_a45e60d21f0drow1_col6 {\n",
       "            background-color:  #81a4fb;\n",
       "            color:  #000000;\n",
       "        }    #T_aeabb4a4_81b5_11eb_9870_a45e60d21f0drow1_col7 {\n",
       "            background-color:  #90b2fe;\n",
       "            color:  #000000;\n",
       "        }    #T_aeabb4a4_81b5_11eb_9870_a45e60d21f0drow1_col8 {\n",
       "            background-color:  #b9d0f9;\n",
       "            color:  #000000;\n",
       "        }    #T_aeabb4a4_81b5_11eb_9870_a45e60d21f0drow1_col9 {\n",
       "            background-color:  #6f92f3;\n",
       "            color:  #000000;\n",
       "        }    #T_aeabb4a4_81b5_11eb_9870_a45e60d21f0drow2_col0 {\n",
       "            background-color:  #b3cdfb;\n",
       "            color:  #000000;\n",
       "        }    #T_aeabb4a4_81b5_11eb_9870_a45e60d21f0drow2_col1 {\n",
       "            background-color:  #3b4cc0;\n",
       "            color:  #f1f1f1;\n",
       "        }    #T_aeabb4a4_81b5_11eb_9870_a45e60d21f0drow2_col2 {\n",
       "            background-color:  #b40426;\n",
       "            color:  #f1f1f1;\n",
       "        }    #T_aeabb4a4_81b5_11eb_9870_a45e60d21f0drow2_col3 {\n",
       "            background-color:  #4c66d6;\n",
       "            color:  #000000;\n",
       "        }    #T_aeabb4a4_81b5_11eb_9870_a45e60d21f0drow2_col4 {\n",
       "            background-color:  #9bbcff;\n",
       "            color:  #000000;\n",
       "        }    #T_aeabb4a4_81b5_11eb_9870_a45e60d21f0drow2_col5 {\n",
       "            background-color:  #a7c5fe;\n",
       "            color:  #000000;\n",
       "        }    #T_aeabb4a4_81b5_11eb_9870_a45e60d21f0drow2_col6 {\n",
       "            background-color:  #3b4cc0;\n",
       "            color:  #f1f1f1;\n",
       "        }    #T_aeabb4a4_81b5_11eb_9870_a45e60d21f0drow2_col7 {\n",
       "            background-color:  #688aef;\n",
       "            color:  #000000;\n",
       "        }    #T_aeabb4a4_81b5_11eb_9870_a45e60d21f0drow2_col8 {\n",
       "            background-color:  #8badfd;\n",
       "            color:  #000000;\n",
       "        }    #T_aeabb4a4_81b5_11eb_9870_a45e60d21f0drow2_col9 {\n",
       "            background-color:  #3f53c6;\n",
       "            color:  #f1f1f1;\n",
       "        }    #T_aeabb4a4_81b5_11eb_9870_a45e60d21f0drow3_col0 {\n",
       "            background-color:  #d9dce1;\n",
       "            color:  #000000;\n",
       "        }    #T_aeabb4a4_81b5_11eb_9870_a45e60d21f0drow3_col1 {\n",
       "            background-color:  #6485ec;\n",
       "            color:  #000000;\n",
       "        }    #T_aeabb4a4_81b5_11eb_9870_a45e60d21f0drow3_col2 {\n",
       "            background-color:  #485fd1;\n",
       "            color:  #f1f1f1;\n",
       "        }    #T_aeabb4a4_81b5_11eb_9870_a45e60d21f0drow3_col3 {\n",
       "            background-color:  #b40426;\n",
       "            color:  #f1f1f1;\n",
       "        }    #T_aeabb4a4_81b5_11eb_9870_a45e60d21f0drow3_col4 {\n",
       "            background-color:  #8db0fe;\n",
       "            color:  #000000;\n",
       "        }    #T_aeabb4a4_81b5_11eb_9870_a45e60d21f0drow3_col5 {\n",
       "            background-color:  #94b6ff;\n",
       "            color:  #000000;\n",
       "        }    #T_aeabb4a4_81b5_11eb_9870_a45e60d21f0drow3_col6 {\n",
       "            background-color:  #9fbfff;\n",
       "            color:  #000000;\n",
       "        }    #T_aeabb4a4_81b5_11eb_9870_a45e60d21f0drow3_col7 {\n",
       "            background-color:  #92b4fe;\n",
       "            color:  #000000;\n",
       "        }    #T_aeabb4a4_81b5_11eb_9870_a45e60d21f0drow3_col8 {\n",
       "            background-color:  #dedcdb;\n",
       "            color:  #000000;\n",
       "        }    #T_aeabb4a4_81b5_11eb_9870_a45e60d21f0drow3_col9 {\n",
       "            background-color:  #6282ea;\n",
       "            color:  #000000;\n",
       "        }    #T_aeabb4a4_81b5_11eb_9870_a45e60d21f0drow4_col0 {\n",
       "            background-color:  #4c66d6;\n",
       "            color:  #000000;\n",
       "        }    #T_aeabb4a4_81b5_11eb_9870_a45e60d21f0drow4_col1 {\n",
       "            background-color:  #c1d4f4;\n",
       "            color:  #000000;\n",
       "        }    #T_aeabb4a4_81b5_11eb_9870_a45e60d21f0drow4_col2 {\n",
       "            background-color:  #506bda;\n",
       "            color:  #000000;\n",
       "        }    #T_aeabb4a4_81b5_11eb_9870_a45e60d21f0drow4_col3 {\n",
       "            background-color:  #455cce;\n",
       "            color:  #f1f1f1;\n",
       "        }    #T_aeabb4a4_81b5_11eb_9870_a45e60d21f0drow4_col4 {\n",
       "            background-color:  #b40426;\n",
       "            color:  #f1f1f1;\n",
       "        }    #T_aeabb4a4_81b5_11eb_9870_a45e60d21f0drow4_col5 {\n",
       "            background-color:  #f5c2aa;\n",
       "            color:  #000000;\n",
       "        }    #T_aeabb4a4_81b5_11eb_9870_a45e60d21f0drow4_col6 {\n",
       "            background-color:  #6788ee;\n",
       "            color:  #000000;\n",
       "        }    #T_aeabb4a4_81b5_11eb_9870_a45e60d21f0drow4_col7 {\n",
       "            background-color:  #6c8ff1;\n",
       "            color:  #000000;\n",
       "        }    #T_aeabb4a4_81b5_11eb_9870_a45e60d21f0drow4_col8 {\n",
       "            background-color:  #5673e0;\n",
       "            color:  #000000;\n",
       "        }    #T_aeabb4a4_81b5_11eb_9870_a45e60d21f0drow4_col9 {\n",
       "            background-color:  #4c66d6;\n",
       "            color:  #000000;\n",
       "        }    #T_aeabb4a4_81b5_11eb_9870_a45e60d21f0drow5_col0 {\n",
       "            background-color:  #3b4cc0;\n",
       "            color:  #f1f1f1;\n",
       "        }    #T_aeabb4a4_81b5_11eb_9870_a45e60d21f0drow5_col1 {\n",
       "            background-color:  #7396f5;\n",
       "            color:  #000000;\n",
       "        }    #T_aeabb4a4_81b5_11eb_9870_a45e60d21f0drow5_col2 {\n",
       "            background-color:  #4e68d8;\n",
       "            color:  #000000;\n",
       "        }    #T_aeabb4a4_81b5_11eb_9870_a45e60d21f0drow5_col3 {\n",
       "            background-color:  #3b4cc0;\n",
       "            color:  #f1f1f1;\n",
       "        }    #T_aeabb4a4_81b5_11eb_9870_a45e60d21f0drow5_col4 {\n",
       "            background-color:  #f2c9b4;\n",
       "            color:  #000000;\n",
       "        }    #T_aeabb4a4_81b5_11eb_9870_a45e60d21f0drow5_col5 {\n",
       "            background-color:  #b40426;\n",
       "            color:  #f1f1f1;\n",
       "        }    #T_aeabb4a4_81b5_11eb_9870_a45e60d21f0drow5_col6 {\n",
       "            background-color:  #7396f5;\n",
       "            color:  #000000;\n",
       "        }    #T_aeabb4a4_81b5_11eb_9870_a45e60d21f0drow5_col7 {\n",
       "            background-color:  #84a7fc;\n",
       "            color:  #000000;\n",
       "        }    #T_aeabb4a4_81b5_11eb_9870_a45e60d21f0drow5_col8 {\n",
       "            background-color:  #3b4cc0;\n",
       "            color:  #f1f1f1;\n",
       "        }    #T_aeabb4a4_81b5_11eb_9870_a45e60d21f0drow5_col9 {\n",
       "            background-color:  #3b4cc0;\n",
       "            color:  #f1f1f1;\n",
       "        }    #T_aeabb4a4_81b5_11eb_9870_a45e60d21f0drow6_col0 {\n",
       "            background-color:  #b9d0f9;\n",
       "            color:  #000000;\n",
       "        }    #T_aeabb4a4_81b5_11eb_9870_a45e60d21f0drow6_col1 {\n",
       "            background-color:  #82a6fb;\n",
       "            color:  #000000;\n",
       "        }    #T_aeabb4a4_81b5_11eb_9870_a45e60d21f0drow6_col2 {\n",
       "            background-color:  #3b4cc0;\n",
       "            color:  #f1f1f1;\n",
       "        }    #T_aeabb4a4_81b5_11eb_9870_a45e60d21f0drow6_col3 {\n",
       "            background-color:  #a3c2fe;\n",
       "            color:  #000000;\n",
       "        }    #T_aeabb4a4_81b5_11eb_9870_a45e60d21f0drow6_col4 {\n",
       "            background-color:  #aec9fc;\n",
       "            color:  #000000;\n",
       "        }    #T_aeabb4a4_81b5_11eb_9870_a45e60d21f0drow6_col5 {\n",
       "            background-color:  #c3d5f4;\n",
       "            color:  #000000;\n",
       "        }    #T_aeabb4a4_81b5_11eb_9870_a45e60d21f0drow6_col6 {\n",
       "            background-color:  #b40426;\n",
       "            color:  #f1f1f1;\n",
       "        }    #T_aeabb4a4_81b5_11eb_9870_a45e60d21f0drow6_col7 {\n",
       "            background-color:  #89acfd;\n",
       "            color:  #000000;\n",
       "        }    #T_aeabb4a4_81b5_11eb_9870_a45e60d21f0drow6_col8 {\n",
       "            background-color:  #bed2f6;\n",
       "            color:  #000000;\n",
       "        }    #T_aeabb4a4_81b5_11eb_9870_a45e60d21f0drow6_col9 {\n",
       "            background-color:  #9bbcff;\n",
       "            color:  #000000;\n",
       "        }    #T_aeabb4a4_81b5_11eb_9870_a45e60d21f0drow7_col0 {\n",
       "            background-color:  #8db0fe;\n",
       "            color:  #000000;\n",
       "        }    #T_aeabb4a4_81b5_11eb_9870_a45e60d21f0drow7_col1 {\n",
       "            background-color:  #85a8fc;\n",
       "            color:  #000000;\n",
       "        }    #T_aeabb4a4_81b5_11eb_9870_a45e60d21f0drow7_col2 {\n",
       "            background-color:  #5b7ae5;\n",
       "            color:  #000000;\n",
       "        }    #T_aeabb4a4_81b5_11eb_9870_a45e60d21f0drow7_col3 {\n",
       "            background-color:  #8badfd;\n",
       "            color:  #000000;\n",
       "        }    #T_aeabb4a4_81b5_11eb_9870_a45e60d21f0drow7_col4 {\n",
       "            background-color:  #a9c6fd;\n",
       "            color:  #000000;\n",
       "        }    #T_aeabb4a4_81b5_11eb_9870_a45e60d21f0drow7_col5 {\n",
       "            background-color:  #c6d6f1;\n",
       "            color:  #000000;\n",
       "        }    #T_aeabb4a4_81b5_11eb_9870_a45e60d21f0drow7_col6 {\n",
       "            background-color:  #7da0f9;\n",
       "            color:  #000000;\n",
       "        }    #T_aeabb4a4_81b5_11eb_9870_a45e60d21f0drow7_col7 {\n",
       "            background-color:  #b40426;\n",
       "            color:  #f1f1f1;\n",
       "        }    #T_aeabb4a4_81b5_11eb_9870_a45e60d21f0drow7_col8 {\n",
       "            background-color:  #8caffe;\n",
       "            color:  #000000;\n",
       "        }    #T_aeabb4a4_81b5_11eb_9870_a45e60d21f0drow7_col9 {\n",
       "            background-color:  #a9c6fd;\n",
       "            color:  #000000;\n",
       "        }    #T_aeabb4a4_81b5_11eb_9870_a45e60d21f0drow8_col0 {\n",
       "            background-color:  #f7a98b;\n",
       "            color:  #000000;\n",
       "        }    #T_aeabb4a4_81b5_11eb_9870_a45e60d21f0drow8_col1 {\n",
       "            background-color:  #799cf8;\n",
       "            color:  #000000;\n",
       "        }    #T_aeabb4a4_81b5_11eb_9870_a45e60d21f0drow8_col2 {\n",
       "            background-color:  #4055c8;\n",
       "            color:  #f1f1f1;\n",
       "        }    #T_aeabb4a4_81b5_11eb_9870_a45e60d21f0drow8_col3 {\n",
       "            background-color:  #b7cff9;\n",
       "            color:  #000000;\n",
       "        }    #T_aeabb4a4_81b5_11eb_9870_a45e60d21f0drow8_col4 {\n",
       "            background-color:  #5a78e4;\n",
       "            color:  #000000;\n",
       "        }    #T_aeabb4a4_81b5_11eb_9870_a45e60d21f0drow8_col5 {\n",
       "            background-color:  #506bda;\n",
       "            color:  #000000;\n",
       "        }    #T_aeabb4a4_81b5_11eb_9870_a45e60d21f0drow8_col6 {\n",
       "            background-color:  #81a4fb;\n",
       "            color:  #000000;\n",
       "        }    #T_aeabb4a4_81b5_11eb_9870_a45e60d21f0drow8_col7 {\n",
       "            background-color:  #4f69d9;\n",
       "            color:  #000000;\n",
       "        }    #T_aeabb4a4_81b5_11eb_9870_a45e60d21f0drow8_col8 {\n",
       "            background-color:  #b40426;\n",
       "            color:  #f1f1f1;\n",
       "        }    #T_aeabb4a4_81b5_11eb_9870_a45e60d21f0drow8_col9 {\n",
       "            background-color:  #7295f4;\n",
       "            color:  #000000;\n",
       "        }    #T_aeabb4a4_81b5_11eb_9870_a45e60d21f0drow9_col0 {\n",
       "            background-color:  #bbd1f8;\n",
       "            color:  #000000;\n",
       "        }    #T_aeabb4a4_81b5_11eb_9870_a45e60d21f0drow9_col1 {\n",
       "            background-color:  #81a4fb;\n",
       "            color:  #000000;\n",
       "        }    #T_aeabb4a4_81b5_11eb_9870_a45e60d21f0drow9_col2 {\n",
       "            background-color:  #516ddb;\n",
       "            color:  #000000;\n",
       "        }    #T_aeabb4a4_81b5_11eb_9870_a45e60d21f0drow9_col3 {\n",
       "            background-color:  #779af7;\n",
       "            color:  #000000;\n",
       "        }    #T_aeabb4a4_81b5_11eb_9870_a45e60d21f0drow9_col4 {\n",
       "            background-color:  #a7c5fe;\n",
       "            color:  #000000;\n",
       "        }    #T_aeabb4a4_81b5_11eb_9870_a45e60d21f0drow9_col5 {\n",
       "            background-color:  #a6c4fe;\n",
       "            color:  #000000;\n",
       "        }    #T_aeabb4a4_81b5_11eb_9870_a45e60d21f0drow9_col6 {\n",
       "            background-color:  #a9c6fd;\n",
       "            color:  #000000;\n",
       "        }    #T_aeabb4a4_81b5_11eb_9870_a45e60d21f0drow9_col7 {\n",
       "            background-color:  #bfd3f6;\n",
       "            color:  #000000;\n",
       "        }    #T_aeabb4a4_81b5_11eb_9870_a45e60d21f0drow9_col8 {\n",
       "            background-color:  #bfd3f6;\n",
       "            color:  #000000;\n",
       "        }    #T_aeabb4a4_81b5_11eb_9870_a45e60d21f0drow9_col9 {\n",
       "            background-color:  #b40426;\n",
       "            color:  #f1f1f1;\n",
       "        }</style><table id=\"T_aeabb4a4_81b5_11eb_9870_a45e60d21f0d\" ><thead>    <tr>        <th class=\"blank level0\" ></th>        <th class=\"col_heading level0 col0\" >bodyType</th>        <th class=\"col_heading level0 col1\" >brand</th>        <th class=\"col_heading level0 col2\" >color</th>        <th class=\"col_heading level0 col3\" >fuelType</th>        <th class=\"col_heading level0 col4\" >model_name</th>        <th class=\"col_heading level0 col5\" >numberOfDoors</th>        <th class=\"col_heading level0 col6\" >vehicleTransmission</th>        <th class=\"col_heading level0 col7\" >vendor</th>        <th class=\"col_heading level0 col8\" >gear</th>        <th class=\"col_heading level0 col9\" >gearbox</th>    </tr></thead><tbody>\n",
       "                <tr>\n",
       "                        <th id=\"T_aeabb4a4_81b5_11eb_9870_a45e60d21f0dlevel0_row0\" class=\"row_heading level0 row0\" >bodyType</th>\n",
       "                        <td id=\"T_aeabb4a4_81b5_11eb_9870_a45e60d21f0drow0_col0\" class=\"data row0 col0\" >1.000</td>\n",
       "                        <td id=\"T_aeabb4a4_81b5_11eb_9870_a45e60d21f0drow0_col1\" class=\"data row0 col1\" >0.034</td>\n",
       "                        <td id=\"T_aeabb4a4_81b5_11eb_9870_a45e60d21f0drow0_col2\" class=\"data row0 col2\" >0.005</td>\n",
       "                        <td id=\"T_aeabb4a4_81b5_11eb_9870_a45e60d21f0drow0_col3\" class=\"data row0 col3\" >0.205</td>\n",
       "                        <td id=\"T_aeabb4a4_81b5_11eb_9870_a45e60d21f0drow0_col4\" class=\"data row0 col4\" >-0.460</td>\n",
       "                        <td id=\"T_aeabb4a4_81b5_11eb_9870_a45e60d21f0drow0_col5\" class=\"data row0 col5\" >-0.553</td>\n",
       "                        <td id=\"T_aeabb4a4_81b5_11eb_9870_a45e60d21f0drow0_col6\" class=\"data row0 col6\" >0.034</td>\n",
       "                        <td id=\"T_aeabb4a4_81b5_11eb_9870_a45e60d21f0drow0_col7\" class=\"data row0 col7\" >-0.164</td>\n",
       "                        <td id=\"T_aeabb4a4_81b5_11eb_9870_a45e60d21f0drow0_col8\" class=\"data row0 col8\" >0.549</td>\n",
       "                        <td id=\"T_aeabb4a4_81b5_11eb_9870_a45e60d21f0drow0_col9\" class=\"data row0 col9\" >0.046</td>\n",
       "            </tr>\n",
       "            <tr>\n",
       "                        <th id=\"T_aeabb4a4_81b5_11eb_9870_a45e60d21f0dlevel0_row1\" class=\"row_heading level0 row1\" >brand</th>\n",
       "                        <td id=\"T_aeabb4a4_81b5_11eb_9870_a45e60d21f0drow1_col0\" class=\"data row1 col0\" >0.034</td>\n",
       "                        <td id=\"T_aeabb4a4_81b5_11eb_9870_a45e60d21f0drow1_col1\" class=\"data row1 col1\" >1.000</td>\n",
       "                        <td id=\"T_aeabb4a4_81b5_11eb_9870_a45e60d21f0drow1_col2\" class=\"data row1 col2\" >-0.115</td>\n",
       "                        <td id=\"T_aeabb4a4_81b5_11eb_9870_a45e60d21f0drow1_col3\" class=\"data row1 col3\" >0.037</td>\n",
       "                        <td id=\"T_aeabb4a4_81b5_11eb_9870_a45e60d21f0drow1_col4\" class=\"data row1 col4\" >0.337</td>\n",
       "                        <td id=\"T_aeabb4a4_81b5_11eb_9870_a45e60d21f0drow1_col5\" class=\"data row1 col5\" >0.085</td>\n",
       "                        <td id=\"T_aeabb4a4_81b5_11eb_9870_a45e60d21f0drow1_col6\" class=\"data row1 col6\" >0.130</td>\n",
       "                        <td id=\"T_aeabb4a4_81b5_11eb_9870_a45e60d21f0drow1_col7\" class=\"data row1 col7\" >0.138</td>\n",
       "                        <td id=\"T_aeabb4a4_81b5_11eb_9870_a45e60d21f0drow1_col8\" class=\"data row1 col8\" >0.100</td>\n",
       "                        <td id=\"T_aeabb4a4_81b5_11eb_9870_a45e60d21f0drow1_col9\" class=\"data row1 col9\" >0.126</td>\n",
       "            </tr>\n",
       "            <tr>\n",
       "                        <th id=\"T_aeabb4a4_81b5_11eb_9870_a45e60d21f0dlevel0_row2\" class=\"row_heading level0 row2\" >color</th>\n",
       "                        <td id=\"T_aeabb4a4_81b5_11eb_9870_a45e60d21f0drow2_col0\" class=\"data row2 col0\" >0.005</td>\n",
       "                        <td id=\"T_aeabb4a4_81b5_11eb_9870_a45e60d21f0drow2_col1\" class=\"data row2 col1\" >-0.115</td>\n",
       "                        <td id=\"T_aeabb4a4_81b5_11eb_9870_a45e60d21f0drow2_col2\" class=\"data row2 col2\" >1.000</td>\n",
       "                        <td id=\"T_aeabb4a4_81b5_11eb_9870_a45e60d21f0drow2_col3\" class=\"data row2 col3\" >-0.064</td>\n",
       "                        <td id=\"T_aeabb4a4_81b5_11eb_9870_a45e60d21f0drow2_col4\" class=\"data row2 col4\" >-0.034</td>\n",
       "                        <td id=\"T_aeabb4a4_81b5_11eb_9870_a45e60d21f0drow2_col5\" class=\"data row2 col5\" >-0.044</td>\n",
       "                        <td id=\"T_aeabb4a4_81b5_11eb_9870_a45e60d21f0drow2_col6\" class=\"data row2 col6\" >-0.112</td>\n",
       "                        <td id=\"T_aeabb4a4_81b5_11eb_9870_a45e60d21f0drow2_col7\" class=\"data row2 col7\" >0.004</td>\n",
       "                        <td id=\"T_aeabb4a4_81b5_11eb_9870_a45e60d21f0drow2_col8\" class=\"data row2 col8\" >-0.089</td>\n",
       "                        <td id=\"T_aeabb4a4_81b5_11eb_9870_a45e60d21f0drow2_col9\" class=\"data row2 col9\" >-0.032</td>\n",
       "            </tr>\n",
       "            <tr>\n",
       "                        <th id=\"T_aeabb4a4_81b5_11eb_9870_a45e60d21f0dlevel0_row3\" class=\"row_heading level0 row3\" >fuelType</th>\n",
       "                        <td id=\"T_aeabb4a4_81b5_11eb_9870_a45e60d21f0drow3_col0\" class=\"data row3 col0\" >0.205</td>\n",
       "                        <td id=\"T_aeabb4a4_81b5_11eb_9870_a45e60d21f0drow3_col1\" class=\"data row3 col1\" >0.037</td>\n",
       "                        <td id=\"T_aeabb4a4_81b5_11eb_9870_a45e60d21f0drow3_col2\" class=\"data row3 col2\" >-0.064</td>\n",
       "                        <td id=\"T_aeabb4a4_81b5_11eb_9870_a45e60d21f0drow3_col3\" class=\"data row3 col3\" >1.000</td>\n",
       "                        <td id=\"T_aeabb4a4_81b5_11eb_9870_a45e60d21f0drow3_col4\" class=\"data row3 col4\" >-0.091</td>\n",
       "                        <td id=\"T_aeabb4a4_81b5_11eb_9870_a45e60d21f0drow3_col5\" class=\"data row3 col5\" >-0.131</td>\n",
       "                        <td id=\"T_aeabb4a4_81b5_11eb_9870_a45e60d21f0drow3_col6\" class=\"data row3 col6\" >0.225</td>\n",
       "                        <td id=\"T_aeabb4a4_81b5_11eb_9870_a45e60d21f0drow3_col7\" class=\"data row3 col7\" >0.144</td>\n",
       "                        <td id=\"T_aeabb4a4_81b5_11eb_9870_a45e60d21f0drow3_col8\" class=\"data row3 col8\" >0.289</td>\n",
       "                        <td id=\"T_aeabb4a4_81b5_11eb_9870_a45e60d21f0drow3_col9\" class=\"data row3 col9\" >0.084</td>\n",
       "            </tr>\n",
       "            <tr>\n",
       "                        <th id=\"T_aeabb4a4_81b5_11eb_9870_a45e60d21f0dlevel0_row4\" class=\"row_heading level0 row4\" >model_name</th>\n",
       "                        <td id=\"T_aeabb4a4_81b5_11eb_9870_a45e60d21f0drow4_col0\" class=\"data row4 col0\" >-0.460</td>\n",
       "                        <td id=\"T_aeabb4a4_81b5_11eb_9870_a45e60d21f0drow4_col1\" class=\"data row4 col1\" >0.337</td>\n",
       "                        <td id=\"T_aeabb4a4_81b5_11eb_9870_a45e60d21f0drow4_col2\" class=\"data row4 col2\" >-0.034</td>\n",
       "                        <td id=\"T_aeabb4a4_81b5_11eb_9870_a45e60d21f0drow4_col3\" class=\"data row4 col3\" >-0.091</td>\n",
       "                        <td id=\"T_aeabb4a4_81b5_11eb_9870_a45e60d21f0drow4_col4\" class=\"data row4 col4\" >1.000</td>\n",
       "                        <td id=\"T_aeabb4a4_81b5_11eb_9870_a45e60d21f0drow4_col5\" class=\"data row4 col5\" >0.430</td>\n",
       "                        <td id=\"T_aeabb4a4_81b5_11eb_9870_a45e60d21f0drow4_col6\" class=\"data row4 col6\" >0.046</td>\n",
       "                        <td id=\"T_aeabb4a4_81b5_11eb_9870_a45e60d21f0drow4_col7\" class=\"data row4 col7\" >0.020</td>\n",
       "                        <td id=\"T_aeabb4a4_81b5_11eb_9870_a45e60d21f0drow4_col8\" class=\"data row4 col8\" >-0.308</td>\n",
       "                        <td id=\"T_aeabb4a4_81b5_11eb_9870_a45e60d21f0drow4_col9\" class=\"data row4 col9\" >0.014</td>\n",
       "            </tr>\n",
       "            <tr>\n",
       "                        <th id=\"T_aeabb4a4_81b5_11eb_9870_a45e60d21f0dlevel0_row5\" class=\"row_heading level0 row5\" >numberOfDoors</th>\n",
       "                        <td id=\"T_aeabb4a4_81b5_11eb_9870_a45e60d21f0drow5_col0\" class=\"data row5 col0\" >-0.553</td>\n",
       "                        <td id=\"T_aeabb4a4_81b5_11eb_9870_a45e60d21f0drow5_col1\" class=\"data row5 col1\" >0.085</td>\n",
       "                        <td id=\"T_aeabb4a4_81b5_11eb_9870_a45e60d21f0drow5_col2\" class=\"data row5 col2\" >-0.044</td>\n",
       "                        <td id=\"T_aeabb4a4_81b5_11eb_9870_a45e60d21f0drow5_col3\" class=\"data row5 col3\" >-0.131</td>\n",
       "                        <td id=\"T_aeabb4a4_81b5_11eb_9870_a45e60d21f0drow5_col4\" class=\"data row5 col4\" >0.430</td>\n",
       "                        <td id=\"T_aeabb4a4_81b5_11eb_9870_a45e60d21f0drow5_col5\" class=\"data row5 col5\" >1.000</td>\n",
       "                        <td id=\"T_aeabb4a4_81b5_11eb_9870_a45e60d21f0drow5_col6\" class=\"data row5 col6\" >0.084</td>\n",
       "                        <td id=\"T_aeabb4a4_81b5_11eb_9870_a45e60d21f0drow5_col7\" class=\"data row5 col7\" >0.098</td>\n",
       "                        <td id=\"T_aeabb4a4_81b5_11eb_9870_a45e60d21f0drow5_col8\" class=\"data row5 col8\" >-0.441</td>\n",
       "                        <td id=\"T_aeabb4a4_81b5_11eb_9870_a45e60d21f0drow5_col9\" class=\"data row5 col9\" >-0.051</td>\n",
       "            </tr>\n",
       "            <tr>\n",
       "                        <th id=\"T_aeabb4a4_81b5_11eb_9870_a45e60d21f0dlevel0_row6\" class=\"row_heading level0 row6\" >vehicleTransmission</th>\n",
       "                        <td id=\"T_aeabb4a4_81b5_11eb_9870_a45e60d21f0drow6_col0\" class=\"data row6 col0\" >0.034</td>\n",
       "                        <td id=\"T_aeabb4a4_81b5_11eb_9870_a45e60d21f0drow6_col1\" class=\"data row6 col1\" >0.130</td>\n",
       "                        <td id=\"T_aeabb4a4_81b5_11eb_9870_a45e60d21f0drow6_col2\" class=\"data row6 col2\" >-0.112</td>\n",
       "                        <td id=\"T_aeabb4a4_81b5_11eb_9870_a45e60d21f0drow6_col3\" class=\"data row6 col3\" >0.225</td>\n",
       "                        <td id=\"T_aeabb4a4_81b5_11eb_9870_a45e60d21f0drow6_col4\" class=\"data row6 col4\" >0.046</td>\n",
       "                        <td id=\"T_aeabb4a4_81b5_11eb_9870_a45e60d21f0drow6_col5\" class=\"data row6 col5\" >0.084</td>\n",
       "                        <td id=\"T_aeabb4a4_81b5_11eb_9870_a45e60d21f0drow6_col6\" class=\"data row6 col6\" >1.000</td>\n",
       "                        <td id=\"T_aeabb4a4_81b5_11eb_9870_a45e60d21f0drow6_col7\" class=\"data row6 col7\" >0.117</td>\n",
       "                        <td id=\"T_aeabb4a4_81b5_11eb_9870_a45e60d21f0drow6_col8\" class=\"data row6 col8\" >0.128</td>\n",
       "                        <td id=\"T_aeabb4a4_81b5_11eb_9870_a45e60d21f0drow6_col9\" class=\"data row6 col9\" >0.254</td>\n",
       "            </tr>\n",
       "            <tr>\n",
       "                        <th id=\"T_aeabb4a4_81b5_11eb_9870_a45e60d21f0dlevel0_row7\" class=\"row_heading level0 row7\" >vendor</th>\n",
       "                        <td id=\"T_aeabb4a4_81b5_11eb_9870_a45e60d21f0drow7_col0\" class=\"data row7 col0\" >-0.164</td>\n",
       "                        <td id=\"T_aeabb4a4_81b5_11eb_9870_a45e60d21f0drow7_col1\" class=\"data row7 col1\" >0.138</td>\n",
       "                        <td id=\"T_aeabb4a4_81b5_11eb_9870_a45e60d21f0drow7_col2\" class=\"data row7 col2\" >0.004</td>\n",
       "                        <td id=\"T_aeabb4a4_81b5_11eb_9870_a45e60d21f0drow7_col3\" class=\"data row7 col3\" >0.144</td>\n",
       "                        <td id=\"T_aeabb4a4_81b5_11eb_9870_a45e60d21f0drow7_col4\" class=\"data row7 col4\" >0.020</td>\n",
       "                        <td id=\"T_aeabb4a4_81b5_11eb_9870_a45e60d21f0drow7_col5\" class=\"data row7 col5\" >0.098</td>\n",
       "                        <td id=\"T_aeabb4a4_81b5_11eb_9870_a45e60d21f0drow7_col6\" class=\"data row7 col6\" >0.117</td>\n",
       "                        <td id=\"T_aeabb4a4_81b5_11eb_9870_a45e60d21f0drow7_col7\" class=\"data row7 col7\" >1.000</td>\n",
       "                        <td id=\"T_aeabb4a4_81b5_11eb_9870_a45e60d21f0drow7_col8\" class=\"data row7 col8\" >-0.085</td>\n",
       "                        <td id=\"T_aeabb4a4_81b5_11eb_9870_a45e60d21f0drow7_col9\" class=\"data row7 col9\" >0.296</td>\n",
       "            </tr>\n",
       "            <tr>\n",
       "                        <th id=\"T_aeabb4a4_81b5_11eb_9870_a45e60d21f0dlevel0_row8\" class=\"row_heading level0 row8\" >gear</th>\n",
       "                        <td id=\"T_aeabb4a4_81b5_11eb_9870_a45e60d21f0drow8_col0\" class=\"data row8 col0\" >0.549</td>\n",
       "                        <td id=\"T_aeabb4a4_81b5_11eb_9870_a45e60d21f0drow8_col1\" class=\"data row8 col1\" >0.100</td>\n",
       "                        <td id=\"T_aeabb4a4_81b5_11eb_9870_a45e60d21f0drow8_col2\" class=\"data row8 col2\" >-0.089</td>\n",
       "                        <td id=\"T_aeabb4a4_81b5_11eb_9870_a45e60d21f0drow8_col3\" class=\"data row8 col3\" >0.289</td>\n",
       "                        <td id=\"T_aeabb4a4_81b5_11eb_9870_a45e60d21f0drow8_col4\" class=\"data row8 col4\" >-0.308</td>\n",
       "                        <td id=\"T_aeabb4a4_81b5_11eb_9870_a45e60d21f0drow8_col5\" class=\"data row8 col5\" >-0.441</td>\n",
       "                        <td id=\"T_aeabb4a4_81b5_11eb_9870_a45e60d21f0drow8_col6\" class=\"data row8 col6\" >0.128</td>\n",
       "                        <td id=\"T_aeabb4a4_81b5_11eb_9870_a45e60d21f0drow8_col7\" class=\"data row8 col7\" >-0.085</td>\n",
       "                        <td id=\"T_aeabb4a4_81b5_11eb_9870_a45e60d21f0drow8_col8\" class=\"data row8 col8\" >1.000</td>\n",
       "                        <td id=\"T_aeabb4a4_81b5_11eb_9870_a45e60d21f0drow8_col9\" class=\"data row8 col9\" >0.132</td>\n",
       "            </tr>\n",
       "            <tr>\n",
       "                        <th id=\"T_aeabb4a4_81b5_11eb_9870_a45e60d21f0dlevel0_row9\" class=\"row_heading level0 row9\" >gearbox</th>\n",
       "                        <td id=\"T_aeabb4a4_81b5_11eb_9870_a45e60d21f0drow9_col0\" class=\"data row9 col0\" >0.046</td>\n",
       "                        <td id=\"T_aeabb4a4_81b5_11eb_9870_a45e60d21f0drow9_col1\" class=\"data row9 col1\" >0.126</td>\n",
       "                        <td id=\"T_aeabb4a4_81b5_11eb_9870_a45e60d21f0drow9_col2\" class=\"data row9 col2\" >-0.032</td>\n",
       "                        <td id=\"T_aeabb4a4_81b5_11eb_9870_a45e60d21f0drow9_col3\" class=\"data row9 col3\" >0.084</td>\n",
       "                        <td id=\"T_aeabb4a4_81b5_11eb_9870_a45e60d21f0drow9_col4\" class=\"data row9 col4\" >0.014</td>\n",
       "                        <td id=\"T_aeabb4a4_81b5_11eb_9870_a45e60d21f0drow9_col5\" class=\"data row9 col5\" >-0.051</td>\n",
       "                        <td id=\"T_aeabb4a4_81b5_11eb_9870_a45e60d21f0drow9_col6\" class=\"data row9 col6\" >0.254</td>\n",
       "                        <td id=\"T_aeabb4a4_81b5_11eb_9870_a45e60d21f0drow9_col7\" class=\"data row9 col7\" >0.296</td>\n",
       "                        <td id=\"T_aeabb4a4_81b5_11eb_9870_a45e60d21f0drow9_col8\" class=\"data row9 col8\" >0.132</td>\n",
       "                        <td id=\"T_aeabb4a4_81b5_11eb_9870_a45e60d21f0drow9_col9\" class=\"data row9 col9\" >1.000</td>\n",
       "            </tr>\n",
       "    </tbody></table>"
      ],
      "text/plain": [
       "<pandas.io.formats.style.Styler at 0x1a299fb2d0>"
      ]
     },
     "execution_count": 14,
     "metadata": {},
     "output_type": "execute_result"
    }
   ],
   "source": [
    "# correlation for categorical columns\n",
    "corr = df_train[cat_cols].corr(method='spearman')\n",
    "corr.style.background_gradient(cmap='coolwarm').set_precision(3)"
   ]
  },
  {
   "cell_type": "markdown",
   "metadata": {},
   "source": [
    "<pre>\n",
    "Strong correlarion between \n",
    "'bodyType' & 'gear'\n",
    "'bodyType' & 'numberOfDoors'\n",
    "</pre>"
   ]
  },
  {
   "cell_type": "markdown",
   "metadata": {},
   "source": [
    "### 2.3.  Binary features"
   ]
  },
  {
   "cell_type": "code",
   "execution_count": 15,
   "metadata": {
    "scrolled": true
   },
   "outputs": [],
   "source": [
    "label_encoder = LabelEncoder()\n",
    "for col in bin_cols:\n",
    "    df[col] = label_encoder.fit_transform(df[col])"
   ]
  },
  {
   "cell_type": "code",
   "execution_count": 16,
   "metadata": {
    "scrolled": true
   },
   "outputs": [
    {
     "data": {
      "image/png": "[encoded data removed]",
      "text/plain": [
       "<Figure size 216x72 with 1 Axes>"
      ]
     },
     "metadata": {
      "needs_background": "light"
     },
     "output_type": "display_data"
    }
   ],
   "source": [
    "# importance of binary features\n",
    "df_train = df[df['Train']==1]\n",
    "\n",
    "plt.figure(figsize=(3,1))\n",
    "imp_bin = pd.Series(mutual_info_classif(df_train[bin_cols],\n",
    "                                     df_train['price'],\n",
    "                                     discrete_features=True),\n",
    "                 index=bin_cols)\n",
    "imp_bin.sort_values(inplace=True)\n",
    "imp_bin.plot(kind='barh')\n",
    "plt.title('importance of binary features')\n",
    "plt.show()"
   ]
  },
  {
   "cell_type": "markdown",
   "metadata": {},
   "source": [
    "## 3. Machine learning"
   ]
  },
  {
   "cell_type": "markdown",
   "metadata": {},
   "source": [
    "### 3.1. Prepare data to ML"
   ]
  },
  {
   "cell_type": "code",
   "execution_count": 17,
   "metadata": {},
   "outputs": [],
   "source": [
    "train_data = df[df['Train'] == 1].drop(['Train'], axis=1)\n",
    "test_data = df[df['Train'] == 0].drop(['Train'], axis=1)\n",
    "X_sub = test_data.drop(['price'], axis=1).values\n",
    "\n",
    "X = train_data.drop(['price'], axis=1).values\n",
    "y = train_data.price.values"
   ]
  },
  {
   "cell_type": "code",
   "execution_count": 18,
   "metadata": {
    "scrolled": true
   },
   "outputs": [
    {
     "name": "stdout",
     "output_type": "stream",
     "text": [
      "ttrain data (26034, 18)\n",
      "X (26034, 17)\n",
      "y  (26034,)\n",
      "  X_train (25773, 17)\n",
      "  X_test (261, 17)\n"
     ]
    }
   ],
   "source": [
    "# split\n",
    "X_train, X_test, y_train, y_test = train_test_split(X, y, test_size=0.01, random_state=RANDOM_SEED)\n",
    "\n",
    "#print('test data\\t', test_data.shape)\n",
    "print('ttrain data', train_data.shape)\n",
    "print(\"X\", X.shape) \n",
    "print('y ', y.shape)\n",
    "print('  X_train', X_train.shape) \n",
    "print('  X_test', X_test.shape)"
   ]
  },
  {
   "cell_type": "markdown",
   "metadata": {},
   "source": [
    "### 3.2. models"
   ]
  },
  {
   "cell_type": "markdown",
   "metadata": {},
   "source": [
    "###### function block"
   ]
  },
  {
   "cell_type": "code",
   "execution_count": 29,
   "metadata": {},
   "outputs": [],
   "source": [
    "def get_mape(y_true, y_pred):\n",
    "    \"\"\" get metric 'mape' \"\"\"\n",
    "    return np.mean(np.abs((y_pred - y_true) / y_true)) * 100\n",
    "\n",
    "# since lesser the error, the better:\n",
    "my_scorer = make_scorer(get_mape, greater_is_better=False)\n",
    "\n",
    "def fit_model(model, param_grid):    \n",
    "    \"\"\" find best parameters for model \"\"\"\n",
    "    cv = KFold(n_splits=3) # Define a custom kfold\n",
    "    gs_model = GridSearchCV(estimator=model, param_grid=param_grid, scoring=my_scorer, cv=cv, n_jobs=-1)\n",
    "    gs_model.fit(X_train, np.log(y_train + 1))\n",
    "    y_pred = np.exp(gs_model.best_estimator_.predict(X_test))\n",
    "    print('best params: ', gs_model.best_params_)\n",
    "    print('MAPE:', get_mape(y_test, y_pred))"
   ]
  },
  {
   "cell_type": "markdown",
   "metadata": {},
   "source": [
    "##### Random Forest"
   ]
  },
  {
   "cell_type": "code",
   "execution_count": 50,
   "metadata": {
    "scrolled": true
   },
   "outputs": [
    {
     "name": "stdout",
     "output_type": "stream",
     "text": [
      "MAPE: 12.961455136080263\n"
     ]
    }
   ],
   "source": [
    "# RandomForest with default parameters\n",
    "model_rf = RandomForestRegressor(random_state = RANDOM_SEED, n_jobs = -1, verbose=0)\n",
    "model_rf.fit(X_train, np.log(y_train + 1))\n",
    "y_pred = np.exp(model_rf.predict(X_test))\n",
    "print(\"MAPE:\", get_mape(y_test, y_pred))"
   ]
  },
  {
   "cell_type": "code",
   "execution_count": 51,
   "metadata": {
    "scrolled": false
   },
   "outputs": [
    {
     "name": "stdout",
     "output_type": "stream",
     "text": [
      "best params:  {'min_samples_leaf': 1, 'n_estimators': 1000}\n",
      "MAPE: 12.73919591491634\n"
     ]
    }
   ],
   "source": [
    "mode_RF = RandomForestRegressor(random_state=RANDOM_SEED)\n",
    "#print('Parameters currently in use:')\n",
    "#pprint(model.get_params())\n",
    "\n",
    "param_grid= {                         \n",
    "    'n_estimators': [200, 1000],\n",
    "    'min_samples_leaf': [1,2]\n",
    "}\n",
    "fit_model(mode_RF, param_grid)"
   ]
  },
  {
   "cell_type": "markdown",
   "metadata": {},
   "source": [
    "##### CatBoostRegressor"
   ]
  },
  {
   "cell_type": "code",
   "execution_count": 99,
   "metadata": {
    "scrolled": true
   },
   "outputs": [
    {
     "name": "stdout",
     "output_type": "stream",
     "text": [
      "MAPE: 11.153640484208726\n"
     ]
    }
   ],
   "source": [
    "# CatBoostRegressor\n",
    "model_cb = CatBoostRegressor(iterations = 50000, random_seed = RANDOM_SEED)\n",
    "model_cb.fit(X_train, np.log(y_train+1), verbose=False)\n",
    "y_pred = np.exp(model_cb.predict(X_test))\n",
    "print(\"MAPE:\", get_mape(y_test, y_pred))"
   ]
  },
  {
   "cell_type": "markdown",
   "metadata": {},
   "source": [
    "##### XGBoost"
   ]
  },
  {
   "cell_type": "code",
   "execution_count": 84,
   "metadata": {
    "scrolled": false
   },
   "outputs": [
    {
     "name": "stdout",
     "output_type": "stream",
     "text": [
      "MAPE: 13.31344442933882\n"
     ]
    }
   ],
   "source": [
    "# XGBoost with default parameters\n",
    "model_xgb = XGBRegressor(alpha=1, n_estimators=1000)\n",
    "model_xgb.fit(X_train, np.log(y_train+1))\n",
    "y_pred = np.exp(model_xgb.predict(X_test))\n",
    "print(\"MAPE:\", get_mape(y_test, y_pred))"
   ]
  },
  {
   "cell_type": "code",
   "execution_count": 53,
   "metadata": {},
   "outputs": [
    {
     "name": "stdout",
     "output_type": "stream",
     "text": [
      "best params:  {'learning_rate': None, 'max_depth': None, 'n_estimators': 200}\n",
      "MAPE: 11.876368824896362\n"
     ]
    }
   ],
   "source": [
    "# XGBoost\n",
    "model_XGB = XGBRegressor(random_seed = RANDOM_SEED, verbosity=0)\n",
    "#pprint(model.get_params())\n",
    "\n",
    "param_grid= {\n",
    "    'n_estimators': [200, 1000],\n",
    "    'learning_rate': [None, 0.3],\n",
    "    'max_depth': [None, 3],\n",
    "}\n",
    "fit_model(model_XGB, param_grid)"
   ]
  },
  {
   "cell_type": "markdown",
   "metadata": {},
   "source": [
    "##### LightGBM"
   ]
  },
  {
   "cell_type": "code",
   "execution_count": 95,
   "metadata": {},
   "outputs": [
    {
     "name": "stdout",
     "output_type": "stream",
     "text": [
      "best params:  {'learning_rate': 0.1, 'max_depth': -1, 'n_estimators': 1000}\n",
      "MAPE: 11.202654119368523\n"
     ]
    }
   ],
   "source": [
    "model_LGB = LGBMRegressor(random_seed = RANDOM_SEED)\n",
    "#pprint(model_LGB.get_params())\n",
    "\n",
    "param_grid= {\n",
    "    'n_estimators': [500, 1000, 2000],\n",
    "    'max_depth': [-1,3],\n",
    "    'learning_rate': [0.1, 0.3],\n",
    "}\n",
    "fit_model(model_LGB, param_grid)"
   ]
  },
  {
   "cell_type": "markdown",
   "metadata": {},
   "source": [
    "## 4. Submission"
   ]
  },
  {
   "cell_type": "markdown",
   "metadata": {},
   "source": [
    "Make a prediction and submission\n",
    "Catbost na kaggle had better result"
   ]
  },
  {
   "cell_type": "code",
   "execution_count": 100,
   "metadata": {},
   "outputs": [],
   "source": [
    "#model_best = LGBMRegressor(random_seed=RANDOM_SEED, learning_rate=0.1, max_depth=-1, n_estimators=1000)\n",
    "#model_best.fit(X_train, np.log(y_train+1))"
   ]
  },
  {
   "cell_type": "code",
   "execution_count": 101,
   "metadata": {},
   "outputs": [
    {
     "data": {
      "text/html": [
       "<div>\n",
       "<style scoped>\n",
       "    .dataframe tbody tr th:only-of-type {\n",
       "        vertical-align: middle;\n",
       "    }\n",
       "\n",
       "    .dataframe tbody tr th {\n",
       "        vertical-align: top;\n",
       "    }\n",
       "\n",
       "    .dataframe thead th {\n",
       "        text-align: right;\n",
       "    }\n",
       "</style>\n",
       "<table border=\"1\" class=\"dataframe\">\n",
       "  <thead>\n",
       "    <tr style=\"text-align: right;\">\n",
       "      <th></th>\n",
       "      <th>sell_id</th>\n",
       "      <th>price</th>\n",
       "    </tr>\n",
       "  </thead>\n",
       "  <tbody>\n",
       "    <tr>\n",
       "      <th>0</th>\n",
       "      <td>1100575026</td>\n",
       "      <td>639099.741414</td>\n",
       "    </tr>\n",
       "    <tr>\n",
       "      <th>1</th>\n",
       "      <td>1100549428</td>\n",
       "      <td>943155.593585</td>\n",
       "    </tr>\n",
       "    <tr>\n",
       "      <th>2</th>\n",
       "      <td>1100658222</td>\n",
       "      <td>865912.803621</td>\n",
       "    </tr>\n",
       "    <tr>\n",
       "      <th>3</th>\n",
       "      <td>1100937408</td>\n",
       "      <td>656689.233568</td>\n",
       "    </tr>\n",
       "    <tr>\n",
       "      <th>4</th>\n",
       "      <td>1101037972</td>\n",
       "      <td>588734.595648</td>\n",
       "    </tr>\n",
       "  </tbody>\n",
       "</table>\n",
       "</div>"
      ],
      "text/plain": [
       "      sell_id          price\n",
       "0  1100575026  639099.741414\n",
       "1  1100549428  943155.593585\n",
       "2  1100658222  865912.803621\n",
       "3  1100937408  656689.233568\n",
       "4  1101037972  588734.595648"
      ]
     },
     "execution_count": 101,
     "metadata": {},
     "output_type": "execute_result"
    }
   ],
   "source": [
    "# fit and predct\n",
    "y_pred = np.exp(model_cb.predict(X_sub))\n",
    "\n",
    "predict_submission = y_pred\n",
    "submit.loc[:, 'price'] = predict_submission\n",
    "submit.to_csv('data/submission.csv', index=False)\n",
    "submit.head()"
   ]
  }
 ],
 "metadata": {
  "kernelspec": {
   "display_name": "Python 3",
   "language": "python",
   "name": "python3"
  },
  "language_info": {
   "codemirror_mode": {
    "name": "ipython",
    "version": 3
   },
   "file_extension": ".py",
   "mimetype": "text/x-python",
   "name": "python",
   "nbconvert_exporter": "python",
   "pygments_lexer": "ipython3",
   "version": "3.7.6"
  }
 },
 "nbformat": 4,
 "nbformat_minor": 4
}
