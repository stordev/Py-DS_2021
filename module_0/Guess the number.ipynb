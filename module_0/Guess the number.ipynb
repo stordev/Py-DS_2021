{
 "cells": [
  {
   "cell_type": "code",
   "execution_count": 8,
   "metadata": {},
   "outputs": [
    {
     "name": "stdout",
     "output_type": "stream",
     "text": [
      "Your algorithm guesses the number on average in 5 attempts\n"
     ]
    },
    {
     "data": {
      "text/plain": [
       "5"
      ]
     },
     "execution_count": 8,
     "metadata": {},
     "output_type": "execute_result"
    }
   ],
   "source": [
    "import numpy as np\n",
    "\n",
    "def game_core(number, begin, end):\n",
    "    '''Divide the segment in half many times'''    \n",
    "    \n",
    "    count = 0\n",
    "    while True:\n",
    "        count += 1\n",
    "        predict = int((begin+end) / 2)\n",
    "        if number > predict: \n",
    "            begin = predict\n",
    "        elif number < predict: \n",
    "            end = predict\n",
    "        else: break        \n",
    "    \n",
    "    return(count)\n",
    "\n",
    "\n",
    "def score_game(game_core):\n",
    "    ''''Run the game 1000 times to find out how quickly the game guesses a number'''\n",
    "    low_limit = 1\n",
    "    high_limit = 101\n",
    "    quantity = 1000\n",
    "    count_ls = []      \n",
    "    \n",
    "    np.random.seed(1)    \n",
    "    random_array = np.random.randint(low_limit, high_limit, size=(quantity))\n",
    "    for number in random_array:\n",
    "        count_ls.append(game_core(number, low_limit, high_limit))\n",
    "    \n",
    "    score = int(np.mean(count_ls))\n",
    "    print(f\"Your algorithm guesses the number on average in {score} attempts\")\n",
    "    \n",
    "    return(score)\n",
    "\n",
    "\n",
    "score_game(game_core)"
   ]
  }
 ],
 "metadata": {
  "kernelspec": {
   "display_name": "Python 3",
   "language": "python",
   "name": "python3"
  },
  "language_info": {
   "codemirror_mode": {
    "name": "ipython",
    "version": 3
   },
   "file_extension": ".py",
   "mimetype": "text/x-python",
   "name": "python",
   "nbconvert_exporter": "python",
   "pygments_lexer": "ipython3",
   "version": "3.7.6"
  }
 },
 "nbformat": 4,
 "nbformat_minor": 4
}
