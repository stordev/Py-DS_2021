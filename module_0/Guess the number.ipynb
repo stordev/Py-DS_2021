{
 "cells": [
  {
   "cell_type": "code",
   "execution_count": null,
   "metadata": {},
   "outputs": [],
   "source": [
    "import numpy as np\n",
    "count = 0\n",
    "number = np.random.randint(1,101)\n",
    "print(\"A guessed number is from 1 to 100\")\n",
    "\n",
    "while True:\n",
    "    predict = int(input())\n",
    "    count += 1    \n",
    "    if number == predict:        \n",
    "        break\n",
    "    elif number > predict:\n",
    "        print(f'my number > {predict}')\n",
    "    elif count < predict:\n",
    "        print(f'my number < {predict}')\n",
    "\n",
    "print(f'You guessed the number {number} with {count} attempts')    "
   ]
  }
 ],
 "metadata": {
  "kernelspec": {
   "display_name": "Python 3",
   "language": "python",
   "name": "python3"
  },
  "language_info": {
   "codemirror_mode": {
    "name": "ipython",
    "version": 3
   },
   "file_extension": ".py",
   "mimetype": "text/x-python",
   "name": "python",
   "nbconvert_exporter": "python",
   "pygments_lexer": "ipython3",
   "version": "3.7.6"
  }
 },
 "nbformat": 4,
 "nbformat_minor": 4
}
