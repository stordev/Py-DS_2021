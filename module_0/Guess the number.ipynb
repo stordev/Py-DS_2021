{
 "cells": [
  {
   "cell_type": "code",
   "execution_count": null,
   "metadata": {},
   "outputs": [],
   "source": [
    "import numpy as np\n",
    "\n",
    "def middle(begin, end):\n",
    "    return int((begin+end)/2)\n",
    "\n",
    "def game_core(number):\n",
    "    '''Divide the segment in half many times'''\n",
    "    count = 1\n",
    "    begin = 1\n",
    "    end = 101\n",
    "    predict = middle(begin, end)\n",
    "    while number != predict:\n",
    "        count+=1\n",
    "        if number > predict: \n",
    "            begin = predict\n",
    "        elif number < predict: \n",
    "            end = predict\n",
    "        predict = middle(begin, end)\n",
    "    return(count)\n",
    "\n",
    "\n",
    "def score_game(game_core):\n",
    "    ''''Run the game 1000 times to find out how quickly the game guesses the number'''\n",
    "    count_ls = []\n",
    "    np.random.seed(1)\n",
    "    random_array = np.random.randint(1,101, size=(1000))\n",
    "    for number in random_array:\n",
    "        count_ls.append(game_core(number))\n",
    "    score = int(np.mean(count_ls))\n",
    "    print(f\"Ваш алгоритм угадывает число в среднем за {score} попыток\")\n",
    "    return(score)\n",
    "\n",
    "\n",
    "score_game(game_core)"
   ]
  }
 ],
 "metadata": {
  "kernelspec": {
   "display_name": "Python 3",
   "language": "python",
   "name": "python3"
  },
  "language_info": {
   "codemirror_mode": {
    "name": "ipython",
    "version": 3
   },
   "file_extension": ".py",
   "mimetype": "text/x-python",
   "name": "python",
   "nbconvert_exporter": "python",
   "pygments_lexer": "ipython3",
   "version": "3.7.6"
  }
 },
 "nbformat": 4,
 "nbformat_minor": 4
}
