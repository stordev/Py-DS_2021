{
 "cells": [
  {
   "cell_type": "markdown",
   "metadata": {},
   "source": [
    "### Цели и задачи проекта\n",
    " Необходимо отследить влияние условий жизни учащихся в возрасте от 15 до 22 лет на их успеваемость по математике. \n",
    " Провести разведывательный анализ данных и составить отчёт по его результатам\n",
    " Определиться с параметрами будущей модели, \n",
    " "
   ]
  },
  {
   "cell_type": "code",
   "execution_count": 1,
   "metadata": {},
   "outputs": [],
   "source": [
    "import pandas as pd\n",
    "import numpy as np\n",
    "import matplotlib.pyplot as plt\n",
    "import seaborn as sns\n",
    "from scipy import stats\n",
    "from itertools import combinations"
   ]
  },
  {
   "cell_type": "code",
   "execution_count": 2,
   "metadata": {},
   "outputs": [],
   "source": [
    "# load data from a local csv file\n",
    "stud = pd.read_csv('stud_math.csv')  # original\n",
    "\n",
    "# Map the lowering function to all column names\n",
    "stud.columns = map(str.lower, stud.columns)\n",
    "\n",
    "# make a copy of the original dataframe\n",
    "df = stud.copy()  # copy of stud dataframe\n",
    "\n",
    "max_rows = df.shape[0]\n",
    "max_columns = 50\n",
    "pd.set_option('display.max_rows', max_rows)  # показывать больше строк\n",
    "pd.set_option('display.max_columns', max_columns)  # показывать больше колонок"
   ]
  },
  {
   "cell_type": "markdown",
   "metadata": {},
   "source": [
    "###### Preprocessing"
   ]
  },
  {
   "cell_type": "code",
   "execution_count": 3,
   "metadata": {},
   "outputs": [],
   "source": [
    "def get_hist(col):\n",
    "    plt.figure(figsize=(8, 4))\n",
    "    bins = col.nunique()\n",
    "    range = (col.min(), col.max())\n",
    "    perc25 = col.quantile(0.25)\n",
    "    perc75 = col.quantile(0.75)\n",
    "    IQR = perc75 - perc25\n",
    "    print('25th percentile: {},'.format(perc25),\n",
    "          '75th percentile: {},'.format(perc75),\n",
    "          \"IQR: {}, \".format(IQR),\n",
    "          \"\\noutliers cutoff: [{f}, {l}].\".format(f=perc25 - 1.5*IQR, l=perc75 + 1.5*IQR))\n",
    "    col.hist(alpha=0.5, label=col.name, bins=bins, range=range)\n",
    "    col.loc[col.between(perc25 - 1.5*IQR, perc75 + 1.5*IQR)\n",
    "            ].hist(label=col.name+'_IQR', bins=bins, range=range)\n",
    "    plt.legend()\n",
    "    plt.show()\n",
    "\n",
    "\n",
    "def get_pairplot(col_names):\n",
    "    sns.pairplot(data=df,\n",
    "                 y_vars=['score'], x_vars=col_names, kind='reg')\n",
    "    plt.show()\n",
    "\n",
    "\n",
    "def get_boxplot(column):\n",
    "    fig, ax = plt.subplots(figsize=(14, 4))\n",
    "    sns.boxplot(x=column, y='score',\n",
    "                data=df.loc[df.loc[:, column].isin(\n",
    "                    df.loc[:, column].value_counts().index)],\n",
    "                ax=ax)\n",
    "    plt.xticks(rotation=45)\n",
    "    ax.set_title('Boxplot for ' + column)\n",
    "    plt.show()\n",
    "\n",
    "\n",
    "def get_stat_dif(column):  # student test\n",
    "    cols = df.loc[:, column].value_counts().index\n",
    "    combinations_all = list(combinations(cols, 2))\n",
    "    for comb in combinations_all:\n",
    "        if stats.ttest_ind(df.loc[df.loc[:, column] == comb[0], 'score'],\n",
    "                           df.loc[df.loc[:, column] == comb[1], 'score']).pvalue \\\n",
    "                <= 0.05/len(combinations_all):  # Bonferroni correction\n",
    "            print('significant differences: ', column)\n",
    "            break\n",
    "\n",
    "\n",
    "def group_cols(col1, col2):\n",
    "    return df.groupby(col1)[col2].value_counts(dropna=False)\n",
    "\n",
    "\n",
    "def group_with_score(name):\n",
    "    return df.groupby(name).score.agg(['mean', 'median', 'count']).sort_values('median')"
   ]
  },
  {
   "cell_type": "markdown",
   "metadata": {},
   "source": [
    "### 1. Understanding data"
   ]
  },
  {
   "cell_type": "code",
   "execution_count": 4,
   "metadata": {},
   "outputs": [
    {
     "name": "stdout",
     "output_type": "stream",
     "text": [
      "shape:  (395, 30)\n"
     ]
    }
   ],
   "source": [
    "# display(df.head())\n",
    "# display(df.tail())\n",
    "print(\"shape: \", df.shape)\n",
    "# display(df.info())"
   ]
  },
  {
   "cell_type": "code",
   "execution_count": 5,
   "metadata": {},
   "outputs": [
    {
     "name": "stdout",
     "output_type": "stream",
     "text": [
      "rows with missing values:  298\n"
     ]
    }
   ],
   "source": [
    "print(\"rows with missing values: \", df.isnull().any(axis=1).sum())"
   ]
  },
  {
   "cell_type": "code",
   "execution_count": 6,
   "metadata": {
    "scrolled": true
   },
   "outputs": [
    {
     "data": {
      "text/plain": [
       "pstatus                0.113924\n",
       "paid                   0.101266\n",
       "famsup                 0.098734\n",
       "fjob                   0.091139\n",
       "internet               0.086076\n",
       "romantic               0.078481\n",
       "guardian               0.078481\n",
       "traveltime             0.070886\n",
       "famsize                0.068354\n",
       "famrel                 0.068354\n",
       "fedu                   0.060759\n",
       "failures               0.055696\n",
       "higher                 0.050633\n",
       "mjob                   0.048101\n",
       "reason                 0.043038\n",
       "address                0.043038\n",
       "nursery                0.040506\n",
       "health                 0.037975\n",
       "activities             0.035443\n",
       "absences               0.030380\n",
       "freetime               0.027848\n",
       "schoolsup              0.022785\n",
       "goout                  0.020253\n",
       "studytime              0.017722\n",
       "studytime, granular    0.017722\n",
       "score                  0.015190\n",
       "medu                   0.007595\n",
       "age                    0.000000\n",
       "sex                    0.000000\n",
       "school                 0.000000\n",
       "dtype: float64"
      ]
     },
     "execution_count": 6,
     "metadata": {},
     "output_type": "execute_result"
    }
   ],
   "source": [
    "# percentage of null values in columns\n",
    "(df.isnull().sum()/len(df)).sort_values(ascending=False)"
   ]
  },
  {
   "cell_type": "markdown",
   "metadata": {},
   "source": [
    "### 2. Data cleansing"
   ]
  },
  {
   "cell_type": "code",
   "execution_count": 7,
   "metadata": {},
   "outputs": [
    {
     "data": {
      "text/plain": [
       "(395, 30)"
      ]
     },
     "execution_count": 7,
     "metadata": {},
     "output_type": "execute_result"
    }
   ],
   "source": [
    "# check duplicates and empty rows\n",
    "df.drop_duplicates(inplace=True)\n",
    "df.dropna(axis=0, how='all', inplace=True)\n",
    "df.shape"
   ]
  },
  {
   "cell_type": "code",
   "execution_count": 8,
   "metadata": {
    "scrolled": true
   },
   "outputs": [
    {
     "name": "stdout",
     "output_type": "stream",
     "text": [
      "numerical columns:  13\n",
      "categorical columns:  17\n"
     ]
    }
   ],
   "source": [
    "# get numerical & categorical column names\n",
    "cols_num = df.loc[:].select_dtypes(include=['int64', 'float64']).columns\n",
    "cols_cat = df.loc[:].select_dtypes(include='O').columns\n",
    "print('numerical columns: ', cols_num.size)\n",
    "print('categorical columns: ', cols_cat.size)"
   ]
  },
  {
   "cell_type": "markdown",
   "metadata": {},
   "source": [
    "###### 2.1. numerical data"
   ]
  },
  {
   "cell_type": "code",
   "execution_count": 9,
   "metadata": {},
   "outputs": [
    {
     "name": "stdout",
     "output_type": "stream",
     "text": [
      "age [15 16 17 18 19 20 21 22]\n",
      "medu [0. 1. 2. 3. 4.]\n",
      "fedu [ 0.  1.  2.  3.  4. 40.]\n",
      "traveltime [1. 2. 3. 4.]\n",
      "studytime [1. 2. 3. 4.]\n",
      "failures [0. 1. 2. 3.]\n",
      "studytime, granular [-12.  -9.  -6.  -3.]\n",
      "famrel [-1.  1.  2.  3.  4.  5.]\n",
      "freetime [1. 2. 3. 4. 5.]\n",
      "goout [1. 2. 3. 4. 5.]\n",
      "health [1. 2. 3. 4. 5.]\n",
      "absences [  0.   1.   2.   3.   4.   5.   6.   7.   8.   9.  10.  11.  12.  13.\n",
      "  14.  15.  16.  17.  18.  19.  20.  21.  22.  23.  24.  25.  26.  28.\n",
      "  30.  38.  40.  54.  56.  75. 212. 385.]\n",
      "score [  0.  20.  25.  30.  35.  40.  45.  50.  55.  60.  65.  70.  75.  80.\n",
      "  85.  90.  95. 100.]\n"
     ]
    }
   ],
   "source": [
    "# unique values\n",
    "for col in cols_num:\n",
    "    print(df[col].name, df[col].dropna().sort_values().unique())"
   ]
  },
  {
   "cell_type": "code",
   "execution_count": 11,
   "metadata": {},
   "outputs": [],
   "source": [
    "# Correct typos\n",
    "df.fedu.replace(40, 4, inplace=True)\n",
    "df.famrel.replace(-1, 1, inplace=True)"
   ]
  },
  {
   "cell_type": "code",
   "execution_count": 12,
   "metadata": {},
   "outputs": [
    {
     "name": "stdout",
     "output_type": "stream",
     "text": [
      "25th percentile: 16.0, 75th percentile: 18.0, IQR: 2.0,  \n",
      "outliers cutoff: [13.0, 21.0].\n"
     ]
    },
    {
     "data": {
      "image/png": "[encoded data removed]",
      "text/plain": [
       "<Figure size 576x288 with 1 Axes>"
      ]
     },
     "metadata": {
      "needs_background": "light"
     },
     "output_type": "display_data"
    }
   ],
   "source": [
    "get_hist(df.age)"
   ]
  },
  {
   "cell_type": "code",
   "execution_count": 13,
   "metadata": {},
   "outputs": [],
   "source": [
    "# replace outliers values\n",
    "df.loc[df.age > 20, 'age'] = 20"
   ]
  },
  {
   "cell_type": "code",
   "execution_count": 14,
   "metadata": {},
   "outputs": [
    {
     "name": "stdout",
     "output_type": "stream",
     "text": [
      "25th percentile: 0.0, 75th percentile: 8.0, IQR: 8.0,  \n",
      "outliers cutoff: [-12.0, 20.0].\n"
     ]
    },
    {
     "data": {
      "image/png": "[encoded data removed]",
      "text/plain": [
       "<Figure size 576x288 with 1 Axes>"
      ]
     },
     "metadata": {
      "needs_background": "light"
     },
     "output_type": "display_data"
    }
   ],
   "source": [
    "get_hist(df.absences)"
   ]
  },
  {
   "cell_type": "code",
   "execution_count": 15,
   "metadata": {},
   "outputs": [],
   "source": [
    "# replace outliers values\n",
    "df.loc[df.absences > 20, 'absences'] = 20"
   ]
  },
  {
   "cell_type": "code",
   "execution_count": 16,
   "metadata": {
    "scrolled": true
   },
   "outputs": [
    {
     "data": {
      "image/png": "[encoded data removed]",
      "text/plain": [
       "<Figure size 360x360 with 1 Axes>"
      ]
     },
     "metadata": {
      "needs_background": "light"
     },
     "output_type": "display_data"
    }
   ],
   "source": [
    "# check outliers\n",
    "sns.catplot(x='absences', kind='box', data=df)  # .fig.set_figheight(2)\n",
    "plt.show()"
   ]
  },
  {
   "cell_type": "code",
   "execution_count": 17,
   "metadata": {
    "scrolled": true
   },
   "outputs": [
    {
     "name": "stdout",
     "output_type": "stream",
     "text": [
      "25th percentile: 40.0, 75th percentile: 70.0, IQR: 30.0,  \n",
      "outliers cutoff: [-5.0, 115.0].\n"
     ]
    },
    {
     "data": {
      "image/png": "[encoded data removed]",
      "text/plain": [
       "<Figure size 576x288 with 1 Axes>"
      ]
     },
     "metadata": {
      "needs_background": "light"
     },
     "output_type": "display_data"
    }
   ],
   "source": [
    "get_hist(df.score)"
   ]
  },
  {
   "cell_type": "code",
   "execution_count": 39,
   "metadata": {},
   "outputs": [
    {
     "name": "stdout",
     "output_type": "stream",
     "text": [
      "score median = 55.0\n",
      "37 students have score 0\n"
     ]
    }
   ],
   "source": [
    "print(\"score median =\", df.score.median())\n",
    "print((df.score == 0).sum(), 'students have score 0')"
   ]
  },
  {
   "cell_type": "code",
   "execution_count": 53,
   "metadata": {},
   "outputs": [
    {
     "name": "stdout",
     "output_type": "stream",
     "text": [
      "Students with score 40 - 80:  70.89 %\n"
     ]
    }
   ],
   "source": [
    "n = round(((40 <= df.score) & (df.score < 80)).sum()/len(df)*100, 2)\n",
    "print('Students with score 40 - 80: ', n, '%')"
   ]
  },
  {
   "cell_type": "code",
   "execution_count": 54,
   "metadata": {
    "scrolled": true
   },
   "outputs": [
    {
     "data": {
      "text/plain": [
       "(389, 30)"
      ]
     },
     "execution_count": 54,
     "metadata": {},
     "output_type": "execute_result"
    }
   ],
   "source": [
    "# remove rows with missing values in 'score'\n",
    "df.drop(df.loc[df.score.isnull()].index, inplace=True)\n",
    "df.shape"
   ]
  },
  {
   "cell_type": "markdown",
   "metadata": {},
   "source": [
    "###### 2.2. categorical data"
   ]
  },
  {
   "cell_type": "code",
   "execution_count": 55,
   "metadata": {
    "scrolled": false
   },
   "outputs": [
    {
     "name": "stdout",
     "output_type": "stream",
     "text": [
      "{'school': 2, 'higher': 2, 'nursery': 2, 'activities': 2, 'paid': 2, 'famsup': 2, 'schoolsup': 2, 'internet': 2, 'romantic': 2, 'pstatus': 2, 'famsize': 2, 'address': 2, 'sex': 2, 'guardian': 3, 'reason': 4, 'fjob': 5, 'mjob': 5}\n"
     ]
    }
   ],
   "source": [
    "# number of unique values\n",
    "print(dict(df[cols_cat].nunique().sort_values()))"
   ]
  },
  {
   "cell_type": "code",
   "execution_count": 56,
   "metadata": {
    "scrolled": true
   },
   "outputs": [
    {
     "name": "stdout",
     "output_type": "stream",
     "text": [
      "school ['GP' 'MS']\n",
      "sex ['F' 'M']\n",
      "address ['R' 'U']\n",
      "famsize ['GT3' 'LE3']\n",
      "pstatus ['A' 'T']\n",
      "mjob ['at_home' 'health' 'other' 'services' 'teacher']\n",
      "fjob ['at_home' 'health' 'other' 'services' 'teacher']\n",
      "reason ['course' 'home' 'other' 'reputation']\n",
      "guardian ['father' 'mother' 'other']\n",
      "schoolsup ['no' 'yes']\n",
      "famsup ['no' 'yes']\n",
      "paid ['no' 'yes']\n",
      "activities ['no' 'yes']\n",
      "nursery ['no' 'yes']\n",
      "higher ['no' 'yes']\n",
      "internet ['no' 'yes']\n",
      "romantic ['no' 'yes']\n"
     ]
    }
   ],
   "source": [
    "# unique values\n",
    "for col in cols_cat:\n",
    "    print(df[col].name, df[col].dropna().sort_values().unique())"
   ]
  },
  {
   "cell_type": "markdown",
   "metadata": {},
   "source": [
    "###### 2.3. Fill in columns"
   ]
  },
  {
   "cell_type": "code",
   "execution_count": 57,
   "metadata": {},
   "outputs": [
    {
     "data": {
      "text/plain": [
       "pstatus  famsize\n",
       "A        GT3         20\n",
       "         LE3         13\n",
       "         NaN          3\n",
       "T        GT3        207\n",
       "         LE3         81\n",
       "         NaN         20\n",
       "Name: famsize, dtype: int64"
      ]
     },
     "execution_count": 57,
     "metadata": {},
     "output_type": "execute_result"
    }
   ],
   "source": [
    "group_cols('pstatus', 'famsize')"
   ]
  },
  {
   "cell_type": "code",
   "execution_count": 59,
   "metadata": {},
   "outputs": [],
   "source": [
    "# fill in pstatus for family size > 3\n",
    "df.loc[((df['pstatus'].isnull()) & (df['famsize'] == 'GT3')), 'pstatus'] = 'T'"
   ]
  },
  {
   "cell_type": "code",
   "execution_count": 60,
   "metadata": {},
   "outputs": [
    {
     "data": {
      "text/plain": [
       "traveltime  address\n",
       "1.0         U          198\n",
       "            R           34\n",
       "            NaN          7\n",
       "2.0         U           63\n",
       "            R           26\n",
       "            NaN          5\n",
       "3.0         R           12\n",
       "            U            9\n",
       "4.0         R            4\n",
       "            U            3\n",
       "Name: address, dtype: int64"
      ]
     },
     "execution_count": 60,
     "metadata": {},
     "output_type": "execute_result"
    }
   ],
   "source": [
    "group_cols('traveltime', 'address')"
   ]
  },
  {
   "cell_type": "code",
   "execution_count": 61,
   "metadata": {},
   "outputs": [],
   "source": [
    "# fill in address 'U' if travel time to school < 30 min\n",
    "df.loc[((df['address'].isnull()) & (df['traveltime'] <= 2)), 'address'] = 'U'"
   ]
  },
  {
   "cell_type": "code",
   "execution_count": 62,
   "metadata": {},
   "outputs": [
    {
     "data": {
      "text/plain": [
       "age  romantic\n",
       "15   no          53\n",
       "     yes         18\n",
       "     NaN         11\n",
       "16   no          69\n",
       "     yes         27\n",
       "     NaN          7\n",
       "17   no          58\n",
       "     yes         34\n",
       "     NaN          6\n",
       "18   no          42\n",
       "     yes         32\n",
       "     NaN          6\n",
       "19   no          10\n",
       "     yes         10\n",
       "     NaN          1\n",
       "20   no           3\n",
       "     yes          2\n",
       "Name: romantic, dtype: int64"
      ]
     },
     "execution_count": 62,
     "metadata": {},
     "output_type": "execute_result"
    }
   ],
   "source": [
    "group_cols('age', 'romantic')"
   ]
  },
  {
   "cell_type": "code",
   "execution_count": 63,
   "metadata": {},
   "outputs": [],
   "source": [
    "# fill in romantic 'yes' for age 15, 16\n",
    "df.loc[((df['romantic'].isnull()) & (df['age'] <= 16)), 'romantic'] = 'yes'"
   ]
  },
  {
   "cell_type": "code",
   "execution_count": 64,
   "metadata": {},
   "outputs": [
    {
     "data": {
      "text/plain": [
       "famsup  paid\n",
       "no      no       92\n",
       "        yes      32\n",
       "        NaN      11\n",
       "yes     yes     109\n",
       "        no       83\n",
       "        NaN      24\n",
       "Name: paid, dtype: int64"
      ]
     },
     "execution_count": 64,
     "metadata": {},
     "output_type": "execute_result"
    }
   ],
   "source": [
    "group_cols('famsup', 'paid')"
   ]
  },
  {
   "cell_type": "code",
   "execution_count": 65,
   "metadata": {},
   "outputs": [],
   "source": [
    "# fill in paid 'no' if no family support\n",
    "df.loc[((df['paid'].isnull()) & (df['famsup'] == 'no')), 'paid'] = 'no'"
   ]
  },
  {
   "cell_type": "code",
   "execution_count": 66,
   "metadata": {},
   "outputs": [
    {
     "data": {
      "text/plain": [
       "paid  higher\n",
       "no    yes       180\n",
       "      no         17\n",
       "      NaN        11\n",
       "yes   yes       145\n",
       "      NaN         8\n",
       "Name: higher, dtype: int64"
      ]
     },
     "execution_count": 66,
     "metadata": {},
     "output_type": "execute_result"
    }
   ],
   "source": [
    "group_cols('paid', 'higher')"
   ]
  },
  {
   "cell_type": "code",
   "execution_count": 67,
   "metadata": {},
   "outputs": [],
   "source": [
    "# fill in higher with 'yes' if  if there are additional paid lessons\n",
    "df.loc[((df['higher'].isnull()) & (df['paid'] == 'yes')), 'higher'] = 'yes'"
   ]
  },
  {
   "cell_type": "markdown",
   "metadata": {},
   "source": [
    "###### Convert columns with yes/no to numerical"
   ]
  },
  {
   "cell_type": "code",
   "execution_count": 68,
   "metadata": {},
   "outputs": [
    {
     "data": {
      "text/html": [
       "<div>\n",
       "<style scoped>\n",
       "    .dataframe tbody tr th:only-of-type {\n",
       "        vertical-align: middle;\n",
       "    }\n",
       "\n",
       "    .dataframe tbody tr th {\n",
       "        vertical-align: top;\n",
       "    }\n",
       "\n",
       "    .dataframe thead th {\n",
       "        text-align: right;\n",
       "    }\n",
       "</style>\n",
       "<table border=\"1\" class=\"dataframe\">\n",
       "  <thead>\n",
       "    <tr style=\"text-align: right;\">\n",
       "      <th></th>\n",
       "      <th>schoolsup</th>\n",
       "      <th>famsup</th>\n",
       "      <th>paid</th>\n",
       "      <th>activities</th>\n",
       "      <th>nursery</th>\n",
       "      <th>higher</th>\n",
       "      <th>internet</th>\n",
       "      <th>romantic</th>\n",
       "    </tr>\n",
       "  </thead>\n",
       "  <tbody>\n",
       "    <tr>\n",
       "      <th>0</th>\n",
       "      <td>1.0</td>\n",
       "      <td>0.0</td>\n",
       "      <td>0.0</td>\n",
       "      <td>0.0</td>\n",
       "      <td>1.0</td>\n",
       "      <td>1.0</td>\n",
       "      <td>NaN</td>\n",
       "      <td>0.0</td>\n",
       "    </tr>\n",
       "    <tr>\n",
       "      <th>1</th>\n",
       "      <td>0.0</td>\n",
       "      <td>1.0</td>\n",
       "      <td>0.0</td>\n",
       "      <td>0.0</td>\n",
       "      <td>0.0</td>\n",
       "      <td>1.0</td>\n",
       "      <td>1.0</td>\n",
       "      <td>0.0</td>\n",
       "    </tr>\n",
       "  </tbody>\n",
       "</table>\n",
       "</div>"
      ],
      "text/plain": [
       "   schoolsup  famsup  paid  activities  nursery  higher  internet  romantic\n",
       "0        1.0     0.0   0.0         0.0      1.0     1.0       NaN       0.0\n",
       "1        0.0     1.0   0.0         0.0      0.0     1.0       1.0       0.0"
      ]
     },
     "execution_count": 68,
     "metadata": {},
     "output_type": "execute_result"
    }
   ],
   "source": [
    "yes_no = ['schoolsup', 'famsup', 'paid', 'activities',\n",
    "          'nursery', 'higher', 'internet', 'romantic']\n",
    "\n",
    "if df[yes_no].dtypes.any() == 'O':\n",
    "    df.loc[:, yes_no] = df[yes_no].replace(['no', 'yes'], [0, 1])\n",
    "df[yes_no].head(2)"
   ]
  },
  {
   "cell_type": "markdown",
   "metadata": {},
   "source": [
    "#### 3. Relationship analysis"
   ]
  },
  {
   "cell_type": "markdown",
   "metadata": {},
   "source": [
    "##### 3.1. Numerical columns"
   ]
  },
  {
   "cell_type": "code",
   "execution_count": 69,
   "metadata": {},
   "outputs": [
    {
     "data": {
      "text/html": [
       "<div>\n",
       "<style scoped>\n",
       "    .dataframe tbody tr th:only-of-type {\n",
       "        vertical-align: middle;\n",
       "    }\n",
       "\n",
       "    .dataframe tbody tr th {\n",
       "        vertical-align: top;\n",
       "    }\n",
       "\n",
       "    .dataframe thead th {\n",
       "        text-align: right;\n",
       "    }\n",
       "</style>\n",
       "<table border=\"1\" class=\"dataframe\">\n",
       "  <thead>\n",
       "    <tr style=\"text-align: right;\">\n",
       "      <th></th>\n",
       "      <th>age</th>\n",
       "      <th>medu</th>\n",
       "      <th>fedu</th>\n",
       "      <th>traveltime</th>\n",
       "      <th>studytime</th>\n",
       "      <th>failures</th>\n",
       "      <th>studytime, granular</th>\n",
       "      <th>famrel</th>\n",
       "      <th>freetime</th>\n",
       "      <th>goout</th>\n",
       "      <th>health</th>\n",
       "      <th>absences</th>\n",
       "      <th>score</th>\n",
       "    </tr>\n",
       "  </thead>\n",
       "  <tbody>\n",
       "    <tr>\n",
       "      <th>age</th>\n",
       "      <td>1.000000</td>\n",
       "      <td>-0.147305</td>\n",
       "      <td>-0.146172</td>\n",
       "      <td>0.078985</td>\n",
       "      <td>-0.010848</td>\n",
       "      <td>0.186108</td>\n",
       "      <td>0.010848</td>\n",
       "      <td>0.052217</td>\n",
       "      <td>0.009272</td>\n",
       "      <td>0.116635</td>\n",
       "      <td>-0.060985</td>\n",
       "      <td>0.192385</td>\n",
       "      <td>-0.155164</td>\n",
       "    </tr>\n",
       "    <tr>\n",
       "      <th>medu</th>\n",
       "      <td>-0.147305</td>\n",
       "      <td>1.000000</td>\n",
       "      <td>0.621981</td>\n",
       "      <td>-0.165838</td>\n",
       "      <td>0.081032</td>\n",
       "      <td>-0.240319</td>\n",
       "      <td>-0.081032</td>\n",
       "      <td>-0.003697</td>\n",
       "      <td>0.038265</td>\n",
       "      <td>0.072320</td>\n",
       "      <td>-0.048331</td>\n",
       "      <td>0.098646</td>\n",
       "      <td>0.213349</td>\n",
       "    </tr>\n",
       "    <tr>\n",
       "      <th>fedu</th>\n",
       "      <td>-0.146172</td>\n",
       "      <td>0.621981</td>\n",
       "      <td>1.000000</td>\n",
       "      <td>-0.132036</td>\n",
       "      <td>0.017306</td>\n",
       "      <td>-0.273286</td>\n",
       "      <td>-0.017306</td>\n",
       "      <td>-0.016791</td>\n",
       "      <td>-0.017263</td>\n",
       "      <td>0.050997</td>\n",
       "      <td>0.018624</td>\n",
       "      <td>0.026662</td>\n",
       "      <td>0.130923</td>\n",
       "    </tr>\n",
       "    <tr>\n",
       "      <th>traveltime</th>\n",
       "      <td>0.078985</td>\n",
       "      <td>-0.165838</td>\n",
       "      <td>-0.132036</td>\n",
       "      <td>1.000000</td>\n",
       "      <td>-0.105910</td>\n",
       "      <td>0.049738</td>\n",
       "      <td>0.105910</td>\n",
       "      <td>-0.032413</td>\n",
       "      <td>-0.026299</td>\n",
       "      <td>0.032629</td>\n",
       "      <td>-0.011724</td>\n",
       "      <td>-0.036334</td>\n",
       "      <td>-0.070559</td>\n",
       "    </tr>\n",
       "    <tr>\n",
       "      <th>studytime</th>\n",
       "      <td>-0.010848</td>\n",
       "      <td>0.081032</td>\n",
       "      <td>0.017306</td>\n",
       "      <td>-0.105910</td>\n",
       "      <td>1.000000</td>\n",
       "      <td>-0.181947</td>\n",
       "      <td>-1.000000</td>\n",
       "      <td>0.039899</td>\n",
       "      <td>-0.125066</td>\n",
       "      <td>-0.053831</td>\n",
       "      <td>-0.079180</td>\n",
       "      <td>-0.084646</td>\n",
       "      <td>0.115741</td>\n",
       "    </tr>\n",
       "    <tr>\n",
       "      <th>failures</th>\n",
       "      <td>0.186108</td>\n",
       "      <td>-0.240319</td>\n",
       "      <td>-0.273286</td>\n",
       "      <td>0.049738</td>\n",
       "      <td>-0.181947</td>\n",
       "      <td>1.000000</td>\n",
       "      <td>0.181947</td>\n",
       "      <td>-0.021068</td>\n",
       "      <td>0.091608</td>\n",
       "      <td>0.107747</td>\n",
       "      <td>0.088013</td>\n",
       "      <td>0.109726</td>\n",
       "      <td>-0.344338</td>\n",
       "    </tr>\n",
       "    <tr>\n",
       "      <th>studytime, granular</th>\n",
       "      <td>0.010848</td>\n",
       "      <td>-0.081032</td>\n",
       "      <td>-0.017306</td>\n",
       "      <td>0.105910</td>\n",
       "      <td>-1.000000</td>\n",
       "      <td>0.181947</td>\n",
       "      <td>1.000000</td>\n",
       "      <td>-0.039899</td>\n",
       "      <td>0.125066</td>\n",
       "      <td>0.053831</td>\n",
       "      <td>0.079180</td>\n",
       "      <td>0.084646</td>\n",
       "      <td>-0.115741</td>\n",
       "    </tr>\n",
       "    <tr>\n",
       "      <th>famrel</th>\n",
       "      <td>0.052217</td>\n",
       "      <td>-0.003697</td>\n",
       "      <td>-0.016791</td>\n",
       "      <td>-0.032413</td>\n",
       "      <td>0.039899</td>\n",
       "      <td>-0.021068</td>\n",
       "      <td>-0.039899</td>\n",
       "      <td>1.000000</td>\n",
       "      <td>0.171165</td>\n",
       "      <td>0.072291</td>\n",
       "      <td>0.089074</td>\n",
       "      <td>-0.093124</td>\n",
       "      <td>0.055305</td>\n",
       "    </tr>\n",
       "    <tr>\n",
       "      <th>freetime</th>\n",
       "      <td>0.009272</td>\n",
       "      <td>0.038265</td>\n",
       "      <td>-0.017263</td>\n",
       "      <td>-0.026299</td>\n",
       "      <td>-0.125066</td>\n",
       "      <td>0.091608</td>\n",
       "      <td>0.125066</td>\n",
       "      <td>0.171165</td>\n",
       "      <td>1.000000</td>\n",
       "      <td>0.296338</td>\n",
       "      <td>0.064315</td>\n",
       "      <td>0.009710</td>\n",
       "      <td>0.019026</td>\n",
       "    </tr>\n",
       "    <tr>\n",
       "      <th>goout</th>\n",
       "      <td>0.116635</td>\n",
       "      <td>0.072320</td>\n",
       "      <td>0.050997</td>\n",
       "      <td>0.032629</td>\n",
       "      <td>-0.053831</td>\n",
       "      <td>0.107747</td>\n",
       "      <td>0.053831</td>\n",
       "      <td>0.072291</td>\n",
       "      <td>0.296338</td>\n",
       "      <td>1.000000</td>\n",
       "      <td>-0.018026</td>\n",
       "      <td>0.089232</td>\n",
       "      <td>-0.129685</td>\n",
       "    </tr>\n",
       "    <tr>\n",
       "      <th>health</th>\n",
       "      <td>-0.060985</td>\n",
       "      <td>-0.048331</td>\n",
       "      <td>0.018624</td>\n",
       "      <td>-0.011724</td>\n",
       "      <td>-0.079180</td>\n",
       "      <td>0.088013</td>\n",
       "      <td>0.079180</td>\n",
       "      <td>0.089074</td>\n",
       "      <td>0.064315</td>\n",
       "      <td>-0.018026</td>\n",
       "      <td>1.000000</td>\n",
       "      <td>-0.042302</td>\n",
       "      <td>-0.070460</td>\n",
       "    </tr>\n",
       "    <tr>\n",
       "      <th>absences</th>\n",
       "      <td>0.192385</td>\n",
       "      <td>0.098646</td>\n",
       "      <td>0.026662</td>\n",
       "      <td>-0.036334</td>\n",
       "      <td>-0.084646</td>\n",
       "      <td>0.109726</td>\n",
       "      <td>0.084646</td>\n",
       "      <td>-0.093124</td>\n",
       "      <td>0.009710</td>\n",
       "      <td>0.089232</td>\n",
       "      <td>-0.042302</td>\n",
       "      <td>1.000000</td>\n",
       "      <td>0.071603</td>\n",
       "    </tr>\n",
       "    <tr>\n",
       "      <th>score</th>\n",
       "      <td>-0.155164</td>\n",
       "      <td>0.213349</td>\n",
       "      <td>0.130923</td>\n",
       "      <td>-0.070559</td>\n",
       "      <td>0.115741</td>\n",
       "      <td>-0.344338</td>\n",
       "      <td>-0.115741</td>\n",
       "      <td>0.055305</td>\n",
       "      <td>0.019026</td>\n",
       "      <td>-0.129685</td>\n",
       "      <td>-0.070460</td>\n",
       "      <td>0.071603</td>\n",
       "      <td>1.000000</td>\n",
       "    </tr>\n",
       "  </tbody>\n",
       "</table>\n",
       "</div>"
      ],
      "text/plain": [
       "                          age      medu      fedu  traveltime  studytime  \\\n",
       "age                  1.000000 -0.147305 -0.146172    0.078985  -0.010848   \n",
       "medu                -0.147305  1.000000  0.621981   -0.165838   0.081032   \n",
       "fedu                -0.146172  0.621981  1.000000   -0.132036   0.017306   \n",
       "traveltime           0.078985 -0.165838 -0.132036    1.000000  -0.105910   \n",
       "studytime           -0.010848  0.081032  0.017306   -0.105910   1.000000   \n",
       "failures             0.186108 -0.240319 -0.273286    0.049738  -0.181947   \n",
       "studytime, granular  0.010848 -0.081032 -0.017306    0.105910  -1.000000   \n",
       "famrel               0.052217 -0.003697 -0.016791   -0.032413   0.039899   \n",
       "freetime             0.009272  0.038265 -0.017263   -0.026299  -0.125066   \n",
       "goout                0.116635  0.072320  0.050997    0.032629  -0.053831   \n",
       "health              -0.060985 -0.048331  0.018624   -0.011724  -0.079180   \n",
       "absences             0.192385  0.098646  0.026662   -0.036334  -0.084646   \n",
       "score               -0.155164  0.213349  0.130923   -0.070559   0.115741   \n",
       "\n",
       "                     failures  studytime, granular    famrel  freetime  \\\n",
       "age                  0.186108             0.010848  0.052217  0.009272   \n",
       "medu                -0.240319            -0.081032 -0.003697  0.038265   \n",
       "fedu                -0.273286            -0.017306 -0.016791 -0.017263   \n",
       "traveltime           0.049738             0.105910 -0.032413 -0.026299   \n",
       "studytime           -0.181947            -1.000000  0.039899 -0.125066   \n",
       "failures             1.000000             0.181947 -0.021068  0.091608   \n",
       "studytime, granular  0.181947             1.000000 -0.039899  0.125066   \n",
       "famrel              -0.021068            -0.039899  1.000000  0.171165   \n",
       "freetime             0.091608             0.125066  0.171165  1.000000   \n",
       "goout                0.107747             0.053831  0.072291  0.296338   \n",
       "health               0.088013             0.079180  0.089074  0.064315   \n",
       "absences             0.109726             0.084646 -0.093124  0.009710   \n",
       "score               -0.344338            -0.115741  0.055305  0.019026   \n",
       "\n",
       "                        goout    health  absences     score  \n",
       "age                  0.116635 -0.060985  0.192385 -0.155164  \n",
       "medu                 0.072320 -0.048331  0.098646  0.213349  \n",
       "fedu                 0.050997  0.018624  0.026662  0.130923  \n",
       "traveltime           0.032629 -0.011724 -0.036334 -0.070559  \n",
       "studytime           -0.053831 -0.079180 -0.084646  0.115741  \n",
       "failures             0.107747  0.088013  0.109726 -0.344338  \n",
       "studytime, granular  0.053831  0.079180  0.084646 -0.115741  \n",
       "famrel               0.072291  0.089074 -0.093124  0.055305  \n",
       "freetime             0.296338  0.064315  0.009710  0.019026  \n",
       "goout                1.000000 -0.018026  0.089232 -0.129685  \n",
       "health              -0.018026  1.000000 -0.042302 -0.070460  \n",
       "absences             0.089232 -0.042302  1.000000  0.071603  \n",
       "score               -0.129685 -0.070460  0.071603  1.000000  "
      ]
     },
     "execution_count": 69,
     "metadata": {},
     "output_type": "execute_result"
    }
   ],
   "source": [
    "# correlation matrix\n",
    "df[cols_num].corr()"
   ]
  },
  {
   "cell_type": "code",
   "execution_count": 70,
   "metadata": {},
   "outputs": [
    {
     "data": {
      "text/plain": [
       "-1.0"
      ]
     },
     "execution_count": 70,
     "metadata": {},
     "output_type": "execute_result"
    }
   ],
   "source": [
    "stud.corr()['studytime']['studytime, granular'].round(1)"
   ]
  },
  {
   "cell_type": "markdown",
   "metadata": {},
   "source": [
    "<small> 'studytime' & 'studytime, granular' скоррелированы полностью, одну переменную можно исключить</small>"
   ]
  },
  {
   "cell_type": "code",
   "execution_count": 71,
   "metadata": {},
   "outputs": [],
   "source": [
    "# remove column\n",
    "if 'studytime, granular' in df:\n",
    "    df.drop('studytime, granular', axis=1, inplace=True)\n",
    "    cols_num = cols_num.drop('studytime, granular')"
   ]
  },
  {
   "cell_type": "code",
   "execution_count": 72,
   "metadata": {},
   "outputs": [
    {
     "data": {
      "image/png": "[encoded data removed]",
      "text/plain": [
       "<Figure size 720x576 with 2 Axes>"
      ]
     },
     "metadata": {
      "needs_background": "light"
     },
     "output_type": "display_data"
    }
   ],
   "source": [
    "# heatmap for all numerical columns\n",
    "plt.figure(figsize=(10, 8))\n",
    "sns.heatmap(df[cols_num].corr(), annot=True)\n",
    "plt.show()"
   ]
  },
  {
   "cell_type": "code",
   "execution_count": 73,
   "metadata": {},
   "outputs": [],
   "source": [
    "# remove 'health' - no correlation with others\n",
    "if 'health' in df:\n",
    "    df.drop('health', axis=1, inplace=True)\n",
    "    cols_num = cols_num.drop('health')"
   ]
  },
  {
   "cell_type": "code",
   "execution_count": 74,
   "metadata": {},
   "outputs": [
    {
     "data": {
      "text/plain": [
       "score         1.000000\n",
       "medu          0.213349\n",
       "higher        0.187024\n",
       "fedu          0.130923\n",
       "studytime     0.115741\n",
       "paid          0.107403\n",
       "absences      0.071603\n",
       "internet      0.064526\n",
       "famrel        0.055305\n",
       "nursery       0.052859\n",
       "freetime      0.019026\n",
       "activities    0.010825\n",
       "famsup       -0.007540\n",
       "traveltime   -0.070559\n",
       "schoolsup    -0.088650\n",
       "romantic     -0.125829\n",
       "goout        -0.129685\n",
       "age          -0.155164\n",
       "failures     -0.344338\n",
       "Name: score, dtype: float64"
      ]
     },
     "execution_count": 74,
     "metadata": {},
     "output_type": "execute_result"
    }
   ],
   "source": [
    "# correlation between 'score' & others\n",
    "df.corr()['score'].sort_values(ascending=False)"
   ]
  },
  {
   "cell_type": "code",
   "execution_count": 75,
   "metadata": {
    "scrolled": true
   },
   "outputs": [
    {
     "data": {
      "image/png": "[encoded data removed]",
      "text/plain": [
       "<Figure size 720x180 with 4 Axes>"
      ]
     },
     "metadata": {
      "needs_background": "light"
     },
     "output_type": "display_data"
    },
    {
     "data": {
      "image/png": "[encoded data removed]",
      "text/plain": [
       "<Figure size 720x180 with 4 Axes>"
      ]
     },
     "metadata": {
      "needs_background": "light"
     },
     "output_type": "display_data"
    }
   ],
   "source": [
    "get_pairplot(['medu', 'higher', 'fedu', 'studytime'])\n",
    "get_pairplot(['failures', 'age', 'romantic', 'goout'])"
   ]
  },
  {
   "cell_type": "markdown",
   "metadata": {},
   "source": [
    "##### 3.2. Categorical Variables"
   ]
  },
  {
   "cell_type": "code",
   "execution_count": 76,
   "metadata": {},
   "outputs": [
    {
     "data": {
      "image/png": "[encoded data removed]",
      "text/plain": [
       "<Figure size 1008x288 with 1 Axes>"
      ]
     },
     "metadata": {
      "needs_background": "light"
     },
     "output_type": "display_data"
    },
    {
     "data": {
      "image/png": "[encoded data removed]",
      "text/plain": [
       "<Figure size 1008x288 with 1 Axes>"
      ]
     },
     "metadata": {
      "needs_background": "light"
     },
     "output_type": "display_data"
    }
   ],
   "source": [
    "for col in df[['mjob', 'fjob']].columns:\n",
    "    get_boxplot(col)"
   ]
  },
  {
   "cell_type": "code",
   "execution_count": 77,
   "metadata": {
    "scrolled": true
   },
   "outputs": [
    {
     "name": "stdout",
     "output_type": "stream",
     "text": [
      "significant differences:  address\n",
      "significant differences:  mjob\n",
      "significant differences:  paid\n",
      "significant differences:  higher\n",
      "significant differences:  romantic\n"
     ]
    }
   ],
   "source": [
    "# student test. Columns affect the 'score'\n",
    "for col in cols_cat:  # also columns with yes/no\n",
    "    get_stat_dif(col)"
   ]
  },
  {
   "cell_type": "markdown",
   "metadata": {},
   "source": [
    "###### 4. analyze columns\n",
    "<pre>\n",
    "'age', 'address', \n",
    "'medu', 'mjob', 'fedu', \n",
    "'studytime', 'goout'\n",
    "'higher', 'romantic', paid\n",
    "'failures', \n",
    "</pre>"
   ]
  },
  {
   "cell_type": "code",
   "execution_count": 78,
   "metadata": {
    "scrolled": true
   },
   "outputs": [
    {
     "data": {
      "text/html": [
       "<div>\n",
       "<style scoped>\n",
       "    .dataframe tbody tr th:only-of-type {\n",
       "        vertical-align: middle;\n",
       "    }\n",
       "\n",
       "    .dataframe tbody tr th {\n",
       "        vertical-align: top;\n",
       "    }\n",
       "\n",
       "    .dataframe thead th {\n",
       "        text-align: right;\n",
       "    }\n",
       "</style>\n",
       "<table border=\"1\" class=\"dataframe\">\n",
       "  <thead>\n",
       "    <tr style=\"text-align: right;\">\n",
       "      <th></th>\n",
       "      <th>mean</th>\n",
       "      <th>median</th>\n",
       "      <th>count</th>\n",
       "    </tr>\n",
       "    <tr>\n",
       "      <th>age</th>\n",
       "      <th></th>\n",
       "      <th></th>\n",
       "      <th></th>\n",
       "    </tr>\n",
       "  </thead>\n",
       "  <tbody>\n",
       "    <tr>\n",
       "      <th>15</th>\n",
       "      <td>56.280488</td>\n",
       "      <td>55.0</td>\n",
       "      <td>82</td>\n",
       "    </tr>\n",
       "    <tr>\n",
       "      <th>16</th>\n",
       "      <td>55.194175</td>\n",
       "      <td>55.0</td>\n",
       "      <td>103</td>\n",
       "    </tr>\n",
       "    <tr>\n",
       "      <th>17</th>\n",
       "      <td>51.377551</td>\n",
       "      <td>55.0</td>\n",
       "      <td>98</td>\n",
       "    </tr>\n",
       "    <tr>\n",
       "      <th>18</th>\n",
       "      <td>48.312500</td>\n",
       "      <td>50.0</td>\n",
       "      <td>80</td>\n",
       "    </tr>\n",
       "    <tr>\n",
       "      <th>19</th>\n",
       "      <td>40.238095</td>\n",
       "      <td>45.0</td>\n",
       "      <td>21</td>\n",
       "    </tr>\n",
       "    <tr>\n",
       "      <th>20</th>\n",
       "      <td>57.000000</td>\n",
       "      <td>45.0</td>\n",
       "      <td>5</td>\n",
       "    </tr>\n",
       "  </tbody>\n",
       "</table>\n",
       "</div>"
      ],
      "text/plain": [
       "          mean  median  count\n",
       "age                          \n",
       "15   56.280488    55.0     82\n",
       "16   55.194175    55.0    103\n",
       "17   51.377551    55.0     98\n",
       "18   48.312500    50.0     80\n",
       "19   40.238095    45.0     21\n",
       "20   57.000000    45.0      5"
      ]
     },
     "execution_count": 78,
     "metadata": {},
     "output_type": "execute_result"
    }
   ],
   "source": [
    "# age +\n",
    "group_with_score('age').sort_index()"
   ]
  },
  {
   "cell_type": "markdown",
   "metadata": {},
   "source": [
    "С возрастом результаты немного снижаются.\n",
    "Студентов старше 19 слишком мало для оценки, \n"
   ]
  },
  {
   "cell_type": "code",
   "execution_count": 79,
   "metadata": {},
   "outputs": [
    {
     "data": {
      "text/html": [
       "<div>\n",
       "<style scoped>\n",
       "    .dataframe tbody tr th:only-of-type {\n",
       "        vertical-align: middle;\n",
       "    }\n",
       "\n",
       "    .dataframe tbody tr th {\n",
       "        vertical-align: top;\n",
       "    }\n",
       "\n",
       "    .dataframe thead th {\n",
       "        text-align: right;\n",
       "    }\n",
       "</style>\n",
       "<table border=\"1\" class=\"dataframe\">\n",
       "  <thead>\n",
       "    <tr style=\"text-align: right;\">\n",
       "      <th></th>\n",
       "      <th>mean</th>\n",
       "      <th>median</th>\n",
       "      <th>count</th>\n",
       "    </tr>\n",
       "    <tr>\n",
       "      <th>address</th>\n",
       "      <th></th>\n",
       "      <th></th>\n",
       "      <th></th>\n",
       "    </tr>\n",
       "  </thead>\n",
       "  <tbody>\n",
       "    <tr>\n",
       "      <th>R</th>\n",
       "      <td>46.927711</td>\n",
       "      <td>50.0</td>\n",
       "      <td>83</td>\n",
       "    </tr>\n",
       "    <tr>\n",
       "      <th>U</th>\n",
       "      <td>53.613861</td>\n",
       "      <td>55.0</td>\n",
       "      <td>303</td>\n",
       "    </tr>\n",
       "  </tbody>\n",
       "</table>\n",
       "</div>"
      ],
      "text/plain": [
       "              mean  median  count\n",
       "address                          \n",
       "R        46.927711    50.0     83\n",
       "U        53.613861    55.0    303"
      ]
     },
     "execution_count": 79,
     "metadata": {},
     "output_type": "execute_result"
    }
   ],
   "source": [
    "# address +\n",
    "group_with_score('address')"
   ]
  },
  {
   "cell_type": "markdown",
   "metadata": {},
   "source": [
    "Жизнь в городе немного влияет на результаты в положительную сторону. \n",
    "Но и живут в городе в 3 раза больше студентов."
   ]
  },
  {
   "cell_type": "code",
   "execution_count": 80,
   "metadata": {},
   "outputs": [
    {
     "data": {
      "text/html": [
       "<div>\n",
       "<style scoped>\n",
       "    .dataframe tbody tr th:only-of-type {\n",
       "        vertical-align: middle;\n",
       "    }\n",
       "\n",
       "    .dataframe tbody tr th {\n",
       "        vertical-align: top;\n",
       "    }\n",
       "\n",
       "    .dataframe thead th {\n",
       "        text-align: right;\n",
       "    }\n",
       "</style>\n",
       "<table border=\"1\" class=\"dataframe\">\n",
       "  <thead>\n",
       "    <tr style=\"text-align: right;\">\n",
       "      <th></th>\n",
       "      <th>mean</th>\n",
       "      <th>median</th>\n",
       "      <th>count</th>\n",
       "    </tr>\n",
       "    <tr>\n",
       "      <th>medu</th>\n",
       "      <th></th>\n",
       "      <th></th>\n",
       "      <th></th>\n",
       "    </tr>\n",
       "  </thead>\n",
       "  <tbody>\n",
       "    <tr>\n",
       "      <th>1.0</th>\n",
       "      <td>43.125000</td>\n",
       "      <td>50.0</td>\n",
       "      <td>56</td>\n",
       "    </tr>\n",
       "    <tr>\n",
       "      <th>2.0</th>\n",
       "      <td>49.600000</td>\n",
       "      <td>55.0</td>\n",
       "      <td>100</td>\n",
       "    </tr>\n",
       "    <tr>\n",
       "      <th>3.0</th>\n",
       "      <td>51.822917</td>\n",
       "      <td>55.0</td>\n",
       "      <td>96</td>\n",
       "    </tr>\n",
       "    <tr>\n",
       "      <th>4.0</th>\n",
       "      <td>58.816794</td>\n",
       "      <td>60.0</td>\n",
       "      <td>131</td>\n",
       "    </tr>\n",
       "    <tr>\n",
       "      <th>0.0</th>\n",
       "      <td>65.000000</td>\n",
       "      <td>75.0</td>\n",
       "      <td>3</td>\n",
       "    </tr>\n",
       "  </tbody>\n",
       "</table>\n",
       "</div>"
      ],
      "text/plain": [
       "           mean  median  count\n",
       "medu                          \n",
       "1.0   43.125000    50.0     56\n",
       "2.0   49.600000    55.0    100\n",
       "3.0   51.822917    55.0     96\n",
       "4.0   58.816794    60.0    131\n",
       "0.0   65.000000    75.0      3"
      ]
     },
     "execution_count": 80,
     "metadata": {},
     "output_type": "execute_result"
    }
   ],
   "source": [
    "# medu +\n",
    "group_with_score('medu')"
   ]
  },
  {
   "cell_type": "markdown",
   "metadata": {},
   "source": [
    "Образование матери влияет на результаты студентов.\n",
    "Трёх человек, чьи матери не учились в школе, учитывать нет смысла."
   ]
  },
  {
   "cell_type": "code",
   "execution_count": 81,
   "metadata": {
    "scrolled": true
   },
   "outputs": [
    {
     "data": {
      "text/html": [
       "<div>\n",
       "<style scoped>\n",
       "    .dataframe tbody tr th:only-of-type {\n",
       "        vertical-align: middle;\n",
       "    }\n",
       "\n",
       "    .dataframe tbody tr th {\n",
       "        vertical-align: top;\n",
       "    }\n",
       "\n",
       "    .dataframe thead th {\n",
       "        text-align: right;\n",
       "    }\n",
       "</style>\n",
       "<table border=\"1\" class=\"dataframe\">\n",
       "  <thead>\n",
       "    <tr style=\"text-align: right;\">\n",
       "      <th></th>\n",
       "      <th>mean</th>\n",
       "      <th>median</th>\n",
       "      <th>count</th>\n",
       "    </tr>\n",
       "    <tr>\n",
       "      <th>mjob</th>\n",
       "      <th></th>\n",
       "      <th></th>\n",
       "      <th></th>\n",
       "    </tr>\n",
       "  </thead>\n",
       "  <tbody>\n",
       "    <tr>\n",
       "      <th>at_home</th>\n",
       "      <td>45.689655</td>\n",
       "      <td>50.0</td>\n",
       "      <td>58</td>\n",
       "    </tr>\n",
       "    <tr>\n",
       "      <th>other</th>\n",
       "      <td>49.527559</td>\n",
       "      <td>55.0</td>\n",
       "      <td>127</td>\n",
       "    </tr>\n",
       "    <tr>\n",
       "      <th>services</th>\n",
       "      <td>54.744898</td>\n",
       "      <td>55.0</td>\n",
       "      <td>98</td>\n",
       "    </tr>\n",
       "    <tr>\n",
       "      <th>teacher</th>\n",
       "      <td>55.181818</td>\n",
       "      <td>55.0</td>\n",
       "      <td>55</td>\n",
       "    </tr>\n",
       "    <tr>\n",
       "      <th>health</th>\n",
       "      <td>60.625000</td>\n",
       "      <td>65.0</td>\n",
       "      <td>32</td>\n",
       "    </tr>\n",
       "  </tbody>\n",
       "</table>\n",
       "</div>"
      ],
      "text/plain": [
       "               mean  median  count\n",
       "mjob                              \n",
       "at_home   45.689655    50.0     58\n",
       "other     49.527559    55.0    127\n",
       "services  54.744898    55.0     98\n",
       "teacher   55.181818    55.0     55\n",
       "health    60.625000    65.0     32"
      ]
     },
     "execution_count": 81,
     "metadata": {},
     "output_type": "execute_result"
    }
   ],
   "source": [
    "# mjob +\n",
    "group_with_score('mjob')"
   ]
  },
  {
   "cell_type": "markdown",
   "metadata": {},
   "source": [
    "Работа матери влияет на результаты."
   ]
  },
  {
   "cell_type": "code",
   "execution_count": 82,
   "metadata": {
    "scrolled": true
   },
   "outputs": [
    {
     "data": {
      "text/html": [
       "<div>\n",
       "<style scoped>\n",
       "    .dataframe tbody tr th:only-of-type {\n",
       "        vertical-align: middle;\n",
       "    }\n",
       "\n",
       "    .dataframe tbody tr th {\n",
       "        vertical-align: top;\n",
       "    }\n",
       "\n",
       "    .dataframe thead th {\n",
       "        text-align: right;\n",
       "    }\n",
       "</style>\n",
       "<table border=\"1\" class=\"dataframe\">\n",
       "  <thead>\n",
       "    <tr style=\"text-align: right;\">\n",
       "      <th></th>\n",
       "      <th>mean</th>\n",
       "      <th>median</th>\n",
       "      <th>count</th>\n",
       "    </tr>\n",
       "    <tr>\n",
       "      <th>fedu</th>\n",
       "      <th></th>\n",
       "      <th></th>\n",
       "      <th></th>\n",
       "    </tr>\n",
       "  </thead>\n",
       "  <tbody>\n",
       "    <tr>\n",
       "      <th>1.0</th>\n",
       "      <td>46.333333</td>\n",
       "      <td>50.0</td>\n",
       "      <td>75</td>\n",
       "    </tr>\n",
       "    <tr>\n",
       "      <th>3.0</th>\n",
       "      <td>54.042553</td>\n",
       "      <td>52.5</td>\n",
       "      <td>94</td>\n",
       "    </tr>\n",
       "    <tr>\n",
       "      <th>2.0</th>\n",
       "      <td>51.761905</td>\n",
       "      <td>55.0</td>\n",
       "      <td>105</td>\n",
       "    </tr>\n",
       "    <tr>\n",
       "      <th>4.0</th>\n",
       "      <td>55.730337</td>\n",
       "      <td>60.0</td>\n",
       "      <td>89</td>\n",
       "    </tr>\n",
       "    <tr>\n",
       "      <th>0.0</th>\n",
       "      <td>65.000000</td>\n",
       "      <td>65.0</td>\n",
       "      <td>2</td>\n",
       "    </tr>\n",
       "  </tbody>\n",
       "</table>\n",
       "</div>"
      ],
      "text/plain": [
       "           mean  median  count\n",
       "fedu                          \n",
       "1.0   46.333333    50.0     75\n",
       "3.0   54.042553    52.5     94\n",
       "2.0   51.761905    55.0    105\n",
       "4.0   55.730337    60.0     89\n",
       "0.0   65.000000    65.0      2"
      ]
     },
     "execution_count": 82,
     "metadata": {},
     "output_type": "execute_result"
    }
   ],
   "source": [
    "# fedu +\n",
    "group_with_score('fedu')"
   ]
  },
  {
   "cell_type": "markdown",
   "metadata": {},
   "source": [
    "Образование отца оказывает влияние на результаты. Двух студентов, чьи отцы не учились можно не учитывать."
   ]
  },
  {
   "cell_type": "code",
   "execution_count": 83,
   "metadata": {
    "scrolled": true
   },
   "outputs": [
    {
     "data": {
      "text/html": [
       "<div>\n",
       "<style scoped>\n",
       "    .dataframe tbody tr th:only-of-type {\n",
       "        vertical-align: middle;\n",
       "    }\n",
       "\n",
       "    .dataframe tbody tr th {\n",
       "        vertical-align: top;\n",
       "    }\n",
       "\n",
       "    .dataframe thead th {\n",
       "        text-align: right;\n",
       "    }\n",
       "</style>\n",
       "<table border=\"1\" class=\"dataframe\">\n",
       "  <thead>\n",
       "    <tr style=\"text-align: right;\">\n",
       "      <th></th>\n",
       "      <th>mean</th>\n",
       "      <th>median</th>\n",
       "      <th>count</th>\n",
       "    </tr>\n",
       "    <tr>\n",
       "      <th>studytime</th>\n",
       "      <th></th>\n",
       "      <th></th>\n",
       "      <th></th>\n",
       "    </tr>\n",
       "  </thead>\n",
       "  <tbody>\n",
       "    <tr>\n",
       "      <th>1.0</th>\n",
       "      <td>49.466019</td>\n",
       "      <td>50.0</td>\n",
       "      <td>103</td>\n",
       "    </tr>\n",
       "    <tr>\n",
       "      <th>2.0</th>\n",
       "      <td>50.820106</td>\n",
       "      <td>55.0</td>\n",
       "      <td>189</td>\n",
       "    </tr>\n",
       "    <tr>\n",
       "      <th>3.0</th>\n",
       "      <td>57.777778</td>\n",
       "      <td>60.0</td>\n",
       "      <td>63</td>\n",
       "    </tr>\n",
       "    <tr>\n",
       "      <th>4.0</th>\n",
       "      <td>56.296296</td>\n",
       "      <td>60.0</td>\n",
       "      <td>27</td>\n",
       "    </tr>\n",
       "  </tbody>\n",
       "</table>\n",
       "</div>"
      ],
      "text/plain": [
       "                mean  median  count\n",
       "studytime                          \n",
       "1.0        49.466019    50.0    103\n",
       "2.0        50.820106    55.0    189\n",
       "3.0        57.777778    60.0     63\n",
       "4.0        56.296296    60.0     27"
      ]
     },
     "execution_count": 83,
     "metadata": {},
     "output_type": "execute_result"
    }
   ],
   "source": [
    "# studytime +\n",
    "group_with_score('studytime')"
   ]
  },
  {
   "cell_type": "markdown",
   "metadata": {},
   "source": [
    "Время на учёбу помимоо школы повышает результаты. После 10 часов результаты перестают расти."
   ]
  },
  {
   "cell_type": "code",
   "execution_count": 84,
   "metadata": {},
   "outputs": [
    {
     "data": {
      "text/html": [
       "<div>\n",
       "<style scoped>\n",
       "    .dataframe tbody tr th:only-of-type {\n",
       "        vertical-align: middle;\n",
       "    }\n",
       "\n",
       "    .dataframe tbody tr th {\n",
       "        vertical-align: top;\n",
       "    }\n",
       "\n",
       "    .dataframe thead th {\n",
       "        text-align: right;\n",
       "    }\n",
       "</style>\n",
       "<table border=\"1\" class=\"dataframe\">\n",
       "  <thead>\n",
       "    <tr style=\"text-align: right;\">\n",
       "      <th></th>\n",
       "      <th>mean</th>\n",
       "      <th>median</th>\n",
       "      <th>count</th>\n",
       "    </tr>\n",
       "    <tr>\n",
       "      <th>goout</th>\n",
       "      <th></th>\n",
       "      <th></th>\n",
       "      <th></th>\n",
       "    </tr>\n",
       "  </thead>\n",
       "  <tbody>\n",
       "    <tr>\n",
       "      <th>4.0</th>\n",
       "      <td>49.506173</td>\n",
       "      <td>50.0</td>\n",
       "      <td>81</td>\n",
       "    </tr>\n",
       "    <tr>\n",
       "      <th>5.0</th>\n",
       "      <td>44.509804</td>\n",
       "      <td>50.0</td>\n",
       "      <td>51</td>\n",
       "    </tr>\n",
       "    <tr>\n",
       "      <th>1.0</th>\n",
       "      <td>49.347826</td>\n",
       "      <td>55.0</td>\n",
       "      <td>23</td>\n",
       "    </tr>\n",
       "    <tr>\n",
       "      <th>3.0</th>\n",
       "      <td>55.158730</td>\n",
       "      <td>55.0</td>\n",
       "      <td>126</td>\n",
       "    </tr>\n",
       "    <tr>\n",
       "      <th>2.0</th>\n",
       "      <td>55.990099</td>\n",
       "      <td>60.0</td>\n",
       "      <td>101</td>\n",
       "    </tr>\n",
       "  </tbody>\n",
       "</table>\n",
       "</div>"
      ],
      "text/plain": [
       "            mean  median  count\n",
       "goout                          \n",
       "4.0    49.506173    50.0     81\n",
       "5.0    44.509804    50.0     51\n",
       "1.0    49.347826    55.0     23\n",
       "3.0    55.158730    55.0    126\n",
       "2.0    55.990099    60.0    101"
      ]
     },
     "execution_count": 84,
     "metadata": {},
     "output_type": "execute_result"
    }
   ],
   "source": [
    "# goout +-\n",
    "group_with_score('goout')"
   ]
  },
  {
   "cell_type": "code",
   "execution_count": 88,
   "metadata": {},
   "outputs": [
    {
     "name": "stdout",
     "output_type": "stream",
     "text": [
      "Median\n",
      "Spend a lot of time with friends 50.0\n",
      "Others:  55.0\n"
     ]
    }
   ],
   "source": [
    "print('Median')\n",
    "print(\"Spend a lot of time with friends\", df[df.goout >= 4].score.median())\n",
    "print(\"Others: \", df[df.goout <= 3].score.median())"
   ]
  },
  {
   "cell_type": "code",
   "execution_count": 89,
   "metadata": {
    "scrolled": true
   },
   "outputs": [
    {
     "data": {
      "text/html": [
       "<div>\n",
       "<style scoped>\n",
       "    .dataframe tbody tr th:only-of-type {\n",
       "        vertical-align: middle;\n",
       "    }\n",
       "\n",
       "    .dataframe tbody tr th {\n",
       "        vertical-align: top;\n",
       "    }\n",
       "\n",
       "    .dataframe thead th {\n",
       "        text-align: right;\n",
       "    }\n",
       "</style>\n",
       "<table border=\"1\" class=\"dataframe\">\n",
       "  <thead>\n",
       "    <tr style=\"text-align: right;\">\n",
       "      <th></th>\n",
       "      <th>mean</th>\n",
       "      <th>median</th>\n",
       "      <th>count</th>\n",
       "    </tr>\n",
       "    <tr>\n",
       "      <th>higher</th>\n",
       "      <th></th>\n",
       "      <th></th>\n",
       "      <th></th>\n",
       "    </tr>\n",
       "  </thead>\n",
       "  <tbody>\n",
       "    <tr>\n",
       "      <th>0.0</th>\n",
       "      <td>33.684211</td>\n",
       "      <td>40.0</td>\n",
       "      <td>19</td>\n",
       "    </tr>\n",
       "    <tr>\n",
       "      <th>1.0</th>\n",
       "      <td>53.337989</td>\n",
       "      <td>55.0</td>\n",
       "      <td>358</td>\n",
       "    </tr>\n",
       "  </tbody>\n",
       "</table>\n",
       "</div>"
      ],
      "text/plain": [
       "             mean  median  count\n",
       "higher                          \n",
       "0.0     33.684211    40.0     19\n",
       "1.0     53.337989    55.0    358"
      ]
     },
     "execution_count": 89,
     "metadata": {},
     "output_type": "execute_result"
    }
   ],
   "source": [
    "# higher +-\n",
    "group_with_score('higher')"
   ]
  },
  {
   "cell_type": "markdown",
   "metadata": {},
   "source": [
    "С одной стороны, желание получить высшее образование влияет на результаты в положительную сторону, но с другой стороны - лишь 5% не имеют такого желания."
   ]
  },
  {
   "cell_type": "code",
   "execution_count": 90,
   "metadata": {
    "scrolled": true
   },
   "outputs": [
    {
     "data": {
      "text/html": [
       "<div>\n",
       "<style scoped>\n",
       "    .dataframe tbody tr th:only-of-type {\n",
       "        vertical-align: middle;\n",
       "    }\n",
       "\n",
       "    .dataframe tbody tr th {\n",
       "        vertical-align: top;\n",
       "    }\n",
       "\n",
       "    .dataframe thead th {\n",
       "        text-align: right;\n",
       "    }\n",
       "</style>\n",
       "<table border=\"1\" class=\"dataframe\">\n",
       "  <thead>\n",
       "    <tr style=\"text-align: right;\">\n",
       "      <th></th>\n",
       "      <th>mean</th>\n",
       "      <th>median</th>\n",
       "      <th>count</th>\n",
       "    </tr>\n",
       "    <tr>\n",
       "      <th>romantic</th>\n",
       "      <th></th>\n",
       "      <th></th>\n",
       "      <th></th>\n",
       "    </tr>\n",
       "  </thead>\n",
       "  <tbody>\n",
       "    <tr>\n",
       "      <th>0.0</th>\n",
       "      <td>54.574468</td>\n",
       "      <td>55.0</td>\n",
       "      <td>235</td>\n",
       "    </tr>\n",
       "    <tr>\n",
       "      <th>1.0</th>\n",
       "      <td>48.617021</td>\n",
       "      <td>55.0</td>\n",
       "      <td>141</td>\n",
       "    </tr>\n",
       "  </tbody>\n",
       "</table>\n",
       "</div>"
      ],
      "text/plain": [
       "               mean  median  count\n",
       "romantic                          \n",
       "0.0       54.574468    55.0    235\n",
       "1.0       48.617021    55.0    141"
      ]
     },
     "execution_count": 90,
     "metadata": {},
     "output_type": "execute_result"
    }
   ],
   "source": [
    "# romantic +-\n",
    "group_with_score('romantic')"
   ]
  },
  {
   "cell_type": "markdown",
   "metadata": {},
   "source": [
    "Возможно, романтические отношения незначительно влияют на отдельных студентов, но в целом тенденция слабая. В среднем студенты учатся так же."
   ]
  },
  {
   "cell_type": "code",
   "execution_count": 91,
   "metadata": {},
   "outputs": [
    {
     "data": {
      "text/html": [
       "<div>\n",
       "<style scoped>\n",
       "    .dataframe tbody tr th:only-of-type {\n",
       "        vertical-align: middle;\n",
       "    }\n",
       "\n",
       "    .dataframe tbody tr th {\n",
       "        vertical-align: top;\n",
       "    }\n",
       "\n",
       "    .dataframe thead th {\n",
       "        text-align: right;\n",
       "    }\n",
       "</style>\n",
       "<table border=\"1\" class=\"dataframe\">\n",
       "  <thead>\n",
       "    <tr style=\"text-align: right;\">\n",
       "      <th></th>\n",
       "      <th>mean</th>\n",
       "      <th>median</th>\n",
       "      <th>count</th>\n",
       "    </tr>\n",
       "    <tr>\n",
       "      <th>paid</th>\n",
       "      <th></th>\n",
       "      <th></th>\n",
       "      <th></th>\n",
       "    </tr>\n",
       "  </thead>\n",
       "  <tbody>\n",
       "    <tr>\n",
       "      <th>0.0</th>\n",
       "      <td>50.0</td>\n",
       "      <td>55.0</td>\n",
       "      <td>208</td>\n",
       "    </tr>\n",
       "    <tr>\n",
       "      <th>1.0</th>\n",
       "      <td>55.0</td>\n",
       "      <td>55.0</td>\n",
       "      <td>153</td>\n",
       "    </tr>\n",
       "  </tbody>\n",
       "</table>\n",
       "</div>"
      ],
      "text/plain": [
       "      mean  median  count\n",
       "paid                     \n",
       "0.0   50.0    55.0    208\n",
       "1.0   55.0    55.0    153"
      ]
     },
     "execution_count": 91,
     "metadata": {},
     "output_type": "execute_result"
    }
   ],
   "source": [
    "# paid +-\n",
    "group_with_score('paid')"
   ]
  },
  {
   "cell_type": "markdown",
   "metadata": {},
   "source": [
    "Возможно есть небольшое влияние на отдельных студентов."
   ]
  },
  {
   "cell_type": "code",
   "execution_count": 92,
   "metadata": {},
   "outputs": [
    {
     "data": {
      "text/html": [
       "<div>\n",
       "<style scoped>\n",
       "    .dataframe tbody tr th:only-of-type {\n",
       "        vertical-align: middle;\n",
       "    }\n",
       "\n",
       "    .dataframe tbody tr th {\n",
       "        vertical-align: top;\n",
       "    }\n",
       "\n",
       "    .dataframe thead th {\n",
       "        text-align: right;\n",
       "    }\n",
       "</style>\n",
       "<table border=\"1\" class=\"dataframe\">\n",
       "  <thead>\n",
       "    <tr style=\"text-align: right;\">\n",
       "      <th></th>\n",
       "      <th>mean</th>\n",
       "      <th>median</th>\n",
       "      <th>count</th>\n",
       "    </tr>\n",
       "    <tr>\n",
       "      <th>failures</th>\n",
       "      <th></th>\n",
       "      <th></th>\n",
       "      <th></th>\n",
       "    </tr>\n",
       "  </thead>\n",
       "  <tbody>\n",
       "    <tr>\n",
       "      <th>3.0</th>\n",
       "      <td>29.642857</td>\n",
       "      <td>35.0</td>\n",
       "      <td>14</td>\n",
       "    </tr>\n",
       "    <tr>\n",
       "      <th>2.0</th>\n",
       "      <td>32.333333</td>\n",
       "      <td>40.0</td>\n",
       "      <td>15</td>\n",
       "    </tr>\n",
       "    <tr>\n",
       "      <th>1.0</th>\n",
       "      <td>40.000000</td>\n",
       "      <td>42.5</td>\n",
       "      <td>48</td>\n",
       "    </tr>\n",
       "    <tr>\n",
       "      <th>0.0</th>\n",
       "      <td>56.051724</td>\n",
       "      <td>55.0</td>\n",
       "      <td>290</td>\n",
       "    </tr>\n",
       "  </tbody>\n",
       "</table>\n",
       "</div>"
      ],
      "text/plain": [
       "               mean  median  count\n",
       "failures                          \n",
       "3.0       29.642857    35.0     14\n",
       "2.0       32.333333    40.0     15\n",
       "1.0       40.000000    42.5     48\n",
       "0.0       56.051724    55.0    290"
      ]
     },
     "execution_count": 92,
     "metadata": {},
     "output_type": "execute_result"
    }
   ],
   "source": [
    "# failures +\n",
    "group_with_score('failures')"
   ]
  },
  {
   "cell_type": "markdown",
   "metadata": {},
   "source": [
    "Результаты студентов без неудач выше."
   ]
  },
  {
   "cell_type": "markdown",
   "metadata": {},
   "source": [
    "---"
   ]
  },
  {
   "cell_type": "markdown",
   "metadata": {},
   "source": [
    "### Итоговые выводы.\n",
    " Более 10% пустых значений в колонках: \n",
    "'pstatus', 'paid'\n",
    " Выбросы найдены в столбцах: \n",
    "'fedu', 'famrel', 'age', 'absences', \n",
    "что позволяет сделать вывод о том, что данные достаточно чистые.\n",
    "\n",
    " Положительная корреляция параметров \n",
    "'score' и 'medu' может говорить о том, что результаты лучше у тех студентов, у чьих матерей образование выше.\n",
    "Также, на результаты влияет высшее образования отца. \n",
    " Заметно небольшое снижение результатов студентов с возрастом.\n",
    " Подавляющее число студентов не имеют неудач, и их результаты выше остальных. \n",
    " \n",
    " Немношл лучше учатся студенты, живущие в городе.\n",
    "\n",
    " На результаты студентов оказывает влияние работа матери: выше результаты у тех, чьи матери работают в сфере здравоохранения, и ниже у тех, чьи матери не работают. \n",
    " \n",
    " Платные занятия по математике влияют на результаты отдельных студентов.\n",
    "\n",
    " Результаты растут, если студенты уделяют до 10 часов помимо школы.\n",
    "\n",
    " Немного хуже учатся те, кто много времени проводит с друзьями.\n",
    "\n",
    " В целом влияние оказывает образование родителей (больше матери) и работа матери."
   ]
  },
  {
   "cell_type": "code",
   "execution_count": 93,
   "metadata": {
    "scrolled": true
   },
   "outputs": [
    {
     "data": {
      "text/html": [
       "<div>\n",
       "<style scoped>\n",
       "    .dataframe tbody tr th:only-of-type {\n",
       "        vertical-align: middle;\n",
       "    }\n",
       "\n",
       "    .dataframe tbody tr th {\n",
       "        vertical-align: top;\n",
       "    }\n",
       "\n",
       "    .dataframe thead th {\n",
       "        text-align: right;\n",
       "    }\n",
       "</style>\n",
       "<table border=\"1\" class=\"dataframe\">\n",
       "  <thead>\n",
       "    <tr style=\"text-align: right;\">\n",
       "      <th></th>\n",
       "      <th>address</th>\n",
       "      <th>age</th>\n",
       "      <th>failures</th>\n",
       "      <th>fedu</th>\n",
       "      <th>goout</th>\n",
       "      <th>medu</th>\n",
       "      <th>mjob</th>\n",
       "      <th>paid</th>\n",
       "      <th>studytime</th>\n",
       "      <th>score</th>\n",
       "    </tr>\n",
       "  </thead>\n",
       "  <tbody>\n",
       "    <tr>\n",
       "      <th>265</th>\n",
       "      <td>R</td>\n",
       "      <td>18</td>\n",
       "      <td>0.0</td>\n",
       "      <td>4.0</td>\n",
       "      <td>5.0</td>\n",
       "      <td>3.0</td>\n",
       "      <td>NaN</td>\n",
       "      <td>1.0</td>\n",
       "      <td>2.0</td>\n",
       "      <td>85.0</td>\n",
       "    </tr>\n",
       "    <tr>\n",
       "      <th>72</th>\n",
       "      <td>R</td>\n",
       "      <td>15</td>\n",
       "      <td>2.0</td>\n",
       "      <td>1.0</td>\n",
       "      <td>4.0</td>\n",
       "      <td>1.0</td>\n",
       "      <td>other</td>\n",
       "      <td>0.0</td>\n",
       "      <td>2.0</td>\n",
       "      <td>25.0</td>\n",
       "    </tr>\n",
       "    <tr>\n",
       "      <th>376</th>\n",
       "      <td>U</td>\n",
       "      <td>20</td>\n",
       "      <td>2.0</td>\n",
       "      <td>2.0</td>\n",
       "      <td>3.0</td>\n",
       "      <td>4.0</td>\n",
       "      <td>health</td>\n",
       "      <td>1.0</td>\n",
       "      <td>3.0</td>\n",
       "      <td>75.0</td>\n",
       "    </tr>\n",
       "  </tbody>\n",
       "</table>\n",
       "</div>"
      ],
      "text/plain": [
       "    address  age  failures  fedu  goout  medu    mjob  paid  studytime  score\n",
       "265       R   18       0.0   4.0    5.0   3.0     NaN   1.0        2.0   85.0\n",
       "72        R   15       2.0   1.0    4.0   1.0   other   0.0        2.0   25.0\n",
       "376       U   20       2.0   2.0    3.0   4.0  health   1.0        3.0   75.0"
      ]
     },
     "execution_count": 93,
     "metadata": {},
     "output_type": "execute_result"
    }
   ],
   "source": [
    "df.loc[:, ['address', 'age', 'failures', 'fedu', 'goout',\n",
    "           'medu', 'mjob', 'paid', 'studytime', 'score']].sample(3)"
   ]
  }
 ],
 "metadata": {
  "kernelspec": {
   "display_name": "Python 3",
   "language": "python",
   "name": "python3"
  },
  "language_info": {
   "codemirror_mode": {
    "name": "ipython",
    "version": 3
   },
   "file_extension": ".py",
   "mimetype": "text/x-python",
   "name": "python",
   "nbconvert_exporter": "python",
   "pygments_lexer": "ipython3",
   "version": "3.7.6"
  }
 },
 "nbformat": 4,
 "nbformat_minor": 4
}
